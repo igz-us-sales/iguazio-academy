{
 "cells": [
  {
   "cell_type": "markdown",
   "id": "3f6a578f",
   "metadata": {},
   "source": [
    "# Core 1.1 MLRun Basics - Concepts"
   ]
  },
  {
   "cell_type": "markdown",
   "id": "b93752c7",
   "metadata": {},
   "source": [
    "In this section, we will cover the basic concepts of MLRun. These are the building blocks that the entire framework is based on."
   ]
  },
  {
   "cell_type": "markdown",
   "id": "66d2a6c9",
   "metadata": {},
   "source": [
    "---"
   ]
  },
  {
   "cell_type": "markdown",
   "id": "2d76e76b",
   "metadata": {},
   "source": [
    "### References"
   ]
  },
  {
   "cell_type": "markdown",
   "id": "7aed051c",
   "metadata": {},
   "source": [
    "Much of the following content is derived from the official documenation:\n",
    "- [What is MLRun?](https://docs.mlrun.org/en/latest/index.html)\n",
    "- [Projects](https://docs.mlrun.org/en/latest/projects/project.html)\n",
    "- [MLRun serverless functions](https://docs.mlrun.org/en/latest/concepts/functions-concepts.html)\n",
    "- [Project workflows and automation](https://docs.mlrun.org/en/latest/projects/workflows.html)"
   ]
  },
  {
   "cell_type": "markdown",
   "id": "a995e1ac",
   "metadata": {},
   "source": [
    "---"
   ]
  },
  {
   "cell_type": "markdown",
   "id": "880625ea",
   "metadata": {},
   "source": [
    "### What is MLRun?"
   ]
  },
  {
   "cell_type": "markdown",
   "id": "2d80d2f3",
   "metadata": {},
   "source": [
    "MLRun is an MLOps framework that looks to combine things like experiment tracking, job orchestration, easy containerization of code, feature store, and more into a single place. This allows for easier and faster development/deployment of ML applications. Additionally, it gives the user the ability to containerize and deploy jobs/models without needing to understand the underlying infrastructure."
   ]
  },
  {
   "cell_type": "markdown",
   "id": "4345d603",
   "metadata": {},
   "source": [
    "---"
   ]
  },
  {
   "cell_type": "markdown",
   "id": "be526b9e",
   "metadata": {},
   "source": [
    "### MLRun Concepts"
   ]
  },
  {
   "cell_type": "markdown",
   "id": "fa9eb408",
   "metadata": {},
   "source": [
    "MLRun has the following main components that are used throughout the system:\n",
    "- **Project**: A container for organizing all of your work on a particular activity. Projects consist of metadata, source code, workflows, data and artifacts, models, triggers, and member management for user collaboration\n",
    "- **Function**: A software package with one or more methods and runtime-specific attributes (such as image, command, arguments, and environment)\n",
    "- **Workflow (Pipeline)**: Defines a functions pipeline or a directed acyclic graph (DAG)\n",
    "- **Run**: An object that contains information about an executed function. The run object is created as a result of running a function, and contains the function attributes (such as arguments, inputs, and outputs), as well the execution status and results (including links to output artifacts)\n",
    "- **Artifact**: Versioned data artifacts (such as data sets, files and models) are produced or consumed by functions, runs, and workflows"
   ]
  },
  {
   "cell_type": "markdown",
   "id": "727549c2",
   "metadata": {},
   "source": [
    "---"
   ]
  },
  {
   "cell_type": "markdown",
   "id": "52aaa552",
   "metadata": {},
   "source": [
    "### How do the pieces fit together?"
   ]
  },
  {
   "cell_type": "markdown",
   "id": "b0e598dd",
   "metadata": {},
   "source": [
    "The following lessons will cover each of these concepts in detail. For now, this diagram showcases the relationship between the `Project`, `Function` and `Workflow` objects:\n",
    "![](img/mlrun_concepts_architecture.png)\n",
    "\n",
    "The MLRun `Project` is a container that holds all the relevant information to execute the source code via `Workflows` and the underlying MLRun `Functions`. From there, `Artifacts` like models, datasets, and plots are stored via the experiment tracking capabilities. Finally, the outputted `Run` has information on the inputs, outputs, and results."
   ]
  },
  {
   "cell_type": "markdown",
   "id": "455ee7a6",
   "metadata": {},
   "source": [
    "---"
   ]
  }
 ],
 "metadata": {
  "kernelspec": {
   "display_name": "Python 3",
   "language": "python",
   "name": "python3"
  },
  "language_info": {
   "codemirror_mode": {
    "name": "ipython",
    "version": 3
   },
   "file_extension": ".py",
   "mimetype": "text/x-python",
   "name": "python",
   "nbconvert_exporter": "python",
   "pygments_lexer": "ipython3",
   "version": "3.7.6"
  }
 },
 "nbformat": 4,
 "nbformat_minor": 5
}
