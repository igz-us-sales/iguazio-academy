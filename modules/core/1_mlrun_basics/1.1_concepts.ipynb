{
 "cells": [
  {
   "cell_type": "markdown",
   "id": "63a663b6",
   "metadata": {},
   "source": [
    "# Core 1.1 MLRun Basics - Concepts"
   ]
  },
  {
   "cell_type": "markdown",
   "id": "a6989ee7",
   "metadata": {},
   "source": [
    "In this section, we will cover the basic concepts of MLRun. These are the building blocks that the entire framework is based on."
   ]
  },
  {
   "cell_type": "markdown",
   "id": "378c1217",
   "metadata": {},
   "source": [
    "---"
   ]
  },
  {
   "cell_type": "markdown",
   "id": "fbf010a5",
   "metadata": {},
   "source": [
    "### References"
   ]
  },
  {
   "cell_type": "markdown",
   "id": "6b313045",
   "metadata": {},
   "source": [
    "Much of the following content is derived from the official documenation:\n",
    "- [What is MLRun?](https://docs.mlrun.org/en/latest/index.html)\n",
    "- [Projects](https://docs.mlrun.org/en/latest/projects/project.html)\n",
    "- [MLRun serverless functions](https://docs.mlrun.org/en/latest/concepts/functions-concepts.html)\n",
    "- [Project workflows and automation](https://docs.mlrun.org/en/latest/projects/workflows.html)"
   ]
  },
  {
   "cell_type": "markdown",
   "id": "9d39330d",
   "metadata": {},
   "source": [
    "---"
   ]
  },
  {
   "cell_type": "markdown",
   "id": "459bf768",
   "metadata": {},
   "source": [
    "### What is MLRun?"
   ]
  },
  {
   "cell_type": "markdown",
   "id": "828c20a5",
   "metadata": {},
   "source": [
    "MLRun is an MLOps framework that looks to combine things like experiment tracking, job orchestration, easy containerization of code, feature store, and more into a single place. This allows for easier and faster development/deployment of ML applications. Additionally, it gives the user the ability to containerize and deploy jobs/models without needing to understand the underlying infrastructure."
   ]
  },
  {
   "cell_type": "markdown",
   "id": "1f15a8ff",
   "metadata": {},
   "source": [
    "---"
   ]
  },
  {
   "cell_type": "markdown",
   "id": "9c9b8a25",
   "metadata": {},
   "source": [
    "### MLRun Concepts"
   ]
  },
  {
   "cell_type": "markdown",
   "id": "e7a1a233",
   "metadata": {},
   "source": [
    "MLRun has the following main components that are used throughout the system:\n",
    "- **Project**: A container for organizing all of your work on a particular activity. Projects consist of metadata, source code, workflows, data and artifacts, models, triggers, and member management for user collaboration\n",
    "- **Function**: A software package with one or more methods and runtime-specific attributes (such as image, command, arguments, and environment)\n",
    "- **Workflow (Pipeline)**: Defines a functions pipeline or a directed acyclic graph (DAG)\n",
    "- **Run**: An object that contains information about an executed function. The run object is created as a result of running a function, and contains the function attributes (such as arguments, inputs, and outputs), as well the execution status and results (including links to output artifacts)\n",
    "- **Artifact**: Versioned data artifacts (such as data sets, files and models) are produced or consumed by functions, runs, and workflows"
   ]
  },
  {
   "cell_type": "markdown",
   "id": "17011146",
   "metadata": {},
   "source": [
    "---"
   ]
  },
  {
   "cell_type": "markdown",
   "id": "caddb37e",
   "metadata": {},
   "source": [
    "### How do the pieces fit together?"
   ]
  },
  {
   "cell_type": "markdown",
   "id": "d4c83b1d",
   "metadata": {},
   "source": [
    "The following lessons will cover each of these concepts in detail. For now, this diagram showcases the relationship between the `Project`, `Function` and `Workflow` objects:\n",
    "![](img/mlrun_concepts_architecture.png)\n",
    "\n",
    "The MLRun `Project` is a container that holds all the relevant information to execute the source code via `Workflows` and the underlying MLRun `Functions`. From there, `Artifacts` like models, datasets, and plots are stored via the experiment tracking capabilities. Finally, the outputted `Run` has information on the inputs, outputs, and results."
   ]
  },
  {
   "cell_type": "markdown",
   "id": "a45a1800",
   "metadata": {},
   "source": [
    "---"
   ]
  }
 ],
 "metadata": {
  "kernelspec": {
   "display_name": "Python [conda env:root] *",
   "language": "python",
   "name": "conda-root-py"
  },
  "language_info": {
   "codemirror_mode": {
    "name": "ipython",
    "version": 3
   },
   "file_extension": ".py",
   "mimetype": "text/x-python",
   "name": "python",
   "nbconvert_exporter": "python",
   "pygments_lexer": "ipython3",
   "version": "3.7.6"
  }
 },
 "nbformat": 4,
 "nbformat_minor": 5
}
