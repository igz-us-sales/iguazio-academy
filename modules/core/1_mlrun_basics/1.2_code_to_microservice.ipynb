{
 "cells": [
  {
   "cell_type": "markdown",
   "id": "b6b7e0fd",
   "metadata": {},
   "source": [
    "# Core 1.2 MLRun Basics - Code to Microservice"
   ]
  },
  {
   "cell_type": "markdown",
   "id": "e74d6946",
   "metadata": {},
   "source": [
    "In this section, we will showcase how to easily containerize a piece of code and deploy it as a microservice with MLRun."
   ]
  },
  {
   "cell_type": "markdown",
   "id": "ebc4a988",
   "metadata": {},
   "source": [
    "---"
   ]
  },
  {
   "cell_type": "markdown",
   "id": "c5ec65a0",
   "metadata": {},
   "source": [
    "### References"
   ]
  },
  {
   "cell_type": "markdown",
   "id": "f6b53894",
   "metadata": {},
   "source": [
    "Much of the following content is derived from the official documenation:\n",
    "- [MLRun serverless functions](https://docs.mlrun.org/en/latest/concepts/functions-concepts.html)"
   ]
  },
  {
   "cell_type": "markdown",
   "id": "611ede30",
   "metadata": {},
   "source": [
    "---"
   ]
  },
  {
   "cell_type": "markdown",
   "id": "34bf9eb7",
   "metadata": {},
   "source": [
    "### Code To Function"
   ]
  },
  {
   "cell_type": "markdown",
   "id": "491a6bb8",
   "metadata": {},
   "source": [
    "One of the most fundamental concepts of the MLRun framework is `code_to_function` i.e. the ability to easily containerize and run a piece of code using high level Python syntax. By passing in code the configuration, we receive an `MLRun Function` - a powerful abstraction that lets us deploy locally or at scale via Kubernetes without thinking about the underlying infrastructure. Additionally, when using `code_to_function`, we can easily switch between runtimes to execute code with several environments including a Kubernetes Job, Spark, Dask, Nuclio, and more.\n",
    "\n",
    "An `MLRun Function` looks like the following: <br>\n",
    "![](img/mlrun_function.png)"
   ]
  },
  {
   "cell_type": "markdown",
   "id": "b4cdf611",
   "metadata": {},
   "source": [
    "---"
   ]
  },
  {
   "cell_type": "markdown",
   "id": "14bb9519",
   "metadata": {},
   "source": [
    "### Example"
   ]
  },
  {
   "cell_type": "markdown",
   "id": "1434f034",
   "metadata": {},
   "source": [
    "The syntax for `code_to_function` looks like the following:\n",
    "\n",
    "```python\n",
    "import mlrun\n",
    "\n",
    "fn = mlrun.code_to_function(\n",
    "    name=\"my_function\",\n",
    "    project=\"my_project,\n",
    "    filename=\"code.py\",\n",
    "    image=\"mlrun/mlrun\"\n",
    ")\n",
    "```"
   ]
  },
  {
   "cell_type": "markdown",
   "id": "fcd19d16",
   "metadata": {},
   "source": [
    "There are many configuration options available that will be explored in more depth in the [Core II MLRun Functions](#) module as well as the [MLRun Function documentation](https://docs.mlrun.org/en/latest/concepts/functions-concepts.html)."
   ]
  },
  {
   "cell_type": "markdown",
   "id": "6fc6835e",
   "metadata": {},
   "source": [
    "From there, you can run the function locally via:\n",
    "\n",
    "```python\n",
    "fn.run(local=True)\n",
    "```\n",
    "\n",
    "or remotely on your Kubernetes cluster via:\n",
    "```python\n",
    "fn.run(local=False)\n",
    "```"
   ]
  },
  {
   "cell_type": "markdown",
   "id": "244c28c8",
   "metadata": {},
   "source": [
    "---"
   ]
  }
 ],
 "metadata": {
  "kernelspec": {
   "display_name": "Python 3",
   "language": "python",
   "name": "python3"
  },
  "language_info": {
   "codemirror_mode": {
    "name": "ipython",
    "version": 3
   },
   "file_extension": ".py",
   "mimetype": "text/x-python",
   "name": "python",
   "nbconvert_exporter": "python",
   "pygments_lexer": "ipython3",
   "version": "3.7.6"
  }
 },
 "nbformat": 4,
 "nbformat_minor": 5
}
