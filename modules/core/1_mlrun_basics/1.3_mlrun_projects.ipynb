{
 "cells": [
  {
   "cell_type": "markdown",
   "id": "35c1002d",
   "metadata": {},
   "source": [
    "# Core 1.3 MLRun Basics - MLRun Projects"
   ]
  },
  {
   "cell_type": "markdown",
   "id": "1cbce604",
   "metadata": {},
   "source": [
    "In this section, we will cover the MLRun Projects and how they can be used to structure and execute code"
   ]
  },
  {
   "cell_type": "markdown",
   "id": "32808508",
   "metadata": {},
   "source": [
    "---"
   ]
  },
  {
   "cell_type": "markdown",
   "id": "601f35ce",
   "metadata": {},
   "source": [
    "### References"
   ]
  },
  {
   "cell_type": "markdown",
   "id": "84dfb33e",
   "metadata": {},
   "source": [
    "Much of the following content is derived from the official documenation:\n",
    "- [Projects](https://docs.mlrun.org/en/latest/projects/project.html)"
   ]
  },
  {
   "cell_type": "markdown",
   "id": "e986297b",
   "metadata": {},
   "source": [
    "---"
   ]
  },
  {
   "cell_type": "markdown",
   "id": "e9fde4b8",
   "metadata": {},
   "source": [
    "### MLRun Projects"
   ]
  },
  {
   "cell_type": "markdown",
   "id": "8337c0a0",
   "metadata": {},
   "source": [
    "A project is a container for all your work on a particular activity/application. It is the basic starting point for your work. Project definitions include all of the associated code, functions, Submitting tasks/jobs to functions, artifacts, lists of parameters, and secrets.\n",
    "\n",
    "MLRun Projects make it very simple to deploy to production via checking out a Git repo and immediately runing an automated pipeline. Because the project includes the underlying source code and build configuration, the same environment can be recreated."
   ]
  },
  {
   "cell_type": "markdown",
   "id": "fb2825d3",
   "metadata": {},
   "source": [
    "---"
   ]
  },
  {
   "cell_type": "markdown",
   "id": "a7727375",
   "metadata": {},
   "source": [
    "### Create a Project\n",
    "\n",
    "Let's create our first `MLRun Project`. We can create one via the UI or Python SDK. For this guide, we will use the Python SDK. You must specify a `name` and `context` directory (i.e. where the project will be located) like so:"
   ]
  },
  {
   "cell_type": "markdown",
   "id": "1d8fc853",
   "metadata": {},
   "source": [
    "```python\n",
    "import mlrun\n",
    "\n",
    "project = mlrun.get_or_create_project(name=\"my_project\", context=\"./\")\n",
    "```"
   ]
  },
  {
   "cell_type": "markdown",
   "id": "34643f15",
   "metadata": {},
   "source": [
    "If a project of that name already exists it will be retrieved, otherwise a new project will be created"
   ]
  },
  {
   "cell_type": "markdown",
   "id": "3022dfc9",
   "metadata": {},
   "source": [
    "---"
   ]
  },
  {
   "cell_type": "markdown",
   "id": "e3023153",
   "metadata": {},
   "source": [
    "### Add Elements to the Project"
   ]
  },
  {
   "cell_type": "markdown",
   "id": "3d1d7241",
   "metadata": {},
   "source": [
    "Once the project exists, you can add things to it such as MLRun Functions and Workflows. The details of Functions and Workflows will be covered in later sections. The syntax for adding elements looks like the following:\n",
    "```python\n",
    "project.set_function(name='prep-data', func='prep_data.py', image='mlrun/mlrun', handler='prep_data')\n",
    "project.set_function(name='train', func='hub://sklearn_classifier')\n",
    "project.set_workflow(name='main', workflow_path=\"myflow.py\")\n",
    "```"
   ]
  },
  {
   "cell_type": "markdown",
   "id": "49aad821",
   "metadata": {},
   "source": [
    "You may notice that the `set_function` capabilities look very similar to `code_to_function` - and you would be correct. The `set_function` syntax can act as a simpler version of `code_to_function`, but they can also be used together like so:\n",
    "```python\n",
    "import mlrun\n",
    "\n",
    "fn = mlrun.code_to_function(\n",
    "    name=\"prep-data\",\n",
    "    project=\"my_project,\n",
    "    filename=\"prep_data.py\",\n",
    "    image=\"mlrun/mlrun,\n",
    "    handler=\"prep_data\"\n",
    ")\n",
    "\n",
    "project.set_function(name='prep-data', func=fn)\n",
    "```"
   ]
  },
  {
   "cell_type": "markdown",
   "id": "2e9da8c5",
   "metadata": {},
   "source": [
    "### Save the Project"
   ]
  },
  {
   "cell_type": "markdown",
   "id": "a18c59c2",
   "metadata": {},
   "source": [
    "Finally, the project is saved via the following:\n",
    "```python\n",
    "project.save()\n",
    "```\n",
    "\n",
    "This creates a `project.yaml` file - the source of truth for the project that can be stored/shared via version control. When executing functions or workflows, MLRun will look to the `project.yaml` file to find the required source code.\n",
    "\n",
    "The `project.yaml` file for the above will look like:\n",
    "```yaml\n",
    "kind: project\n",
    "metadata:\n",
    "  name: my_project\n",
    "spec:\n",
    "  functions:\n",
    "  - url: prep_data.py\n",
    "    name: prep-data\n",
    "    image: mlrun/mlrun\n",
    "    handler: prep_data\n",
    "  - url: hub://sklearn_classifier\n",
    "    name: train\n",
    "  workflows:\n",
    "  - name: main\n",
    "    path: myflow.py\n",
    "    engine: kfp\n",
    "```"
   ]
  },
  {
   "cell_type": "markdown",
   "id": "f7269581",
   "metadata": {},
   "source": [
    "---"
   ]
  },
  {
   "cell_type": "markdown",
   "id": "7f4ee96f",
   "metadata": {},
   "source": [
    "### Run a Function"
   ]
  },
  {
   "cell_type": "markdown",
   "id": "6705fa48",
   "metadata": {},
   "source": [
    "Once everything is added to the project, running an individual function is very simple. It would look like:\n",
    "```python\n",
    "import mlrun\n",
    "\n",
    "project = mlrun.get_or_create_project(name=\"my_project\", context=\"./\")\n",
    "\n",
    "fn = project.get_function(\"prep-data\")\n",
    "fn.run()\n",
    "```"
   ]
  },
  {
   "cell_type": "markdown",
   "id": "cb86dcf3",
   "metadata": {},
   "source": [
    "---"
   ]
  },
  {
   "cell_type": "markdown",
   "id": "eda79f48",
   "metadata": {},
   "source": [
    "### Run a Workflow"
   ]
  },
  {
   "cell_type": "markdown",
   "id": "09bfb1a2",
   "metadata": {},
   "source": [
    "One of the best uses for a project is executing a workflow (pipeline) in an automated fashion. MLRun projects make it very simple to check out a Git repo and immediately run a pipeline via the Python SDK or CLI.\n",
    "\n",
    "Running via the Python SDK will look like:\n",
    "```python\n",
    "import mlrun\n",
    "\n",
    "project = mlrun.get_or_create_project(name=\"my_project\", context=\"./\")\n",
    "project.run(\"main\", arguments={'data': 'https://s3.wasabisys.com/iguazio/data/iris/iris.data.raw.csv'})\n",
    "```\n",
    "\n",
    "Running via the CLI will look like:\n",
    "```bash\n",
    "mlrun project --run main --arguments data=https://s3.wasabisys.com/iguazio/data/iris/iris.data.raw.csv\n",
    "```"
   ]
  },
  {
   "cell_type": "markdown",
   "id": "c5869511",
   "metadata": {},
   "source": [
    "---"
   ]
  }
 ],
 "metadata": {
  "kernelspec": {
   "display_name": "Python 3",
   "language": "python",
   "name": "python3"
  },
  "language_info": {
   "codemirror_mode": {
    "name": "ipython",
    "version": 3
   },
   "file_extension": ".py",
   "mimetype": "text/x-python",
   "name": "python",
   "nbconvert_exporter": "python",
   "pygments_lexer": "ipython3",
   "version": "3.7.6"
  }
 },
 "nbformat": 4,
 "nbformat_minor": 5
}
