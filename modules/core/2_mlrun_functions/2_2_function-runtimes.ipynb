{
 "cells": [
  {
   "cell_type": "markdown",
   "id": "d19f3105",
   "metadata": {},
   "source": [
    "# Core 2.2 MLRun Functions - Function Runtimes"
   ]
  },
  {
   "cell_type": "markdown",
   "id": "a6aa1797",
   "metadata": {},
   "source": [
    "This section is a reference to content in the official MLRun documentation. Explore the different runtimes available. The construction of a function is the same regardeless of the runtime. However each runtime enables function specifications unique to the execution engine."
   ]
  },
  {
   "cell_type": "markdown",
   "id": "d6272023",
   "metadata": {},
   "source": [
    "---"
   ]
  },
  {
   "cell_type": "markdown",
   "id": "6f9c2ac1",
   "metadata": {},
   "source": [
    "### References"
   ]
  },
  {
   "cell_type": "markdown",
   "id": "08651c19",
   "metadata": {},
   "source": [
    "- [MLRun Runtimes](https://docs.mlrun.org/en/latest/concepts/functions-overview.html?highlight=runtimes)\n"
   ]
  },
  {
   "cell_type": "markdown",
   "id": "336be120",
   "metadata": {},
   "source": [
    "---"
   ]
  }
 ],
 "metadata": {
  "kernelspec": {
   "display_name": "Python [conda env:.conda-latam-perf-test]",
   "language": "python",
   "name": "conda-env-.conda-latam-perf-test-py"
  },
  "language_info": {
   "codemirror_mode": {
    "name": "ipython",
    "version": 3
   },
   "file_extension": ".py",
   "mimetype": "text/x-python",
   "name": "python",
   "nbconvert_exporter": "python",
   "pygments_lexer": "ipython3",
   "version": "3.8.0"
  }
 },
 "nbformat": 4,
 "nbformat_minor": 5
}
