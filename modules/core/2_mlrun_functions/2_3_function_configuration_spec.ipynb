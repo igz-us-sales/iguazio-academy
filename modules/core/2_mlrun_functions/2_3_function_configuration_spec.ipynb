{
 "cells": [
  {
   "cell_type": "markdown",
   "id": "d396c8de",
   "metadata": {},
   "source": [
    "# Core 2.3 MLRun Functions - Function Configuration (spec)"
   ]
  },
  {
   "cell_type": "markdown",
   "id": "2a0854fc",
   "metadata": {},
   "source": [
    "Each runtime enables function specifications unique to the execution engine. In this module we will review some of the general specifications for a function. The spec contains metadata for configuring related operational aspects, such as the image, required packages, CPU/memory/GPU resources, storage, and the environment. The different serverless runtime engines automatically transform the function code and spec into fully managed and elastic services that run over Kubernetes."
   ]
  },
  {
   "cell_type": "markdown",
   "id": "a425f489",
   "metadata": {},
   "source": [
    "---"
   ]
  },
  {
   "cell_type": "markdown",
   "id": "b9c8b9f7",
   "metadata": {},
   "source": [
    "### Below are some examples of function configurations"
   ]
  },
  {
   "cell_type": "code",
   "execution_count": 14,
   "id": "c263c237",
   "metadata": {},
   "outputs": [],
   "source": [
    "import mlrun\n",
    "\n",
    "fn = mlrun.code_to_function(\n",
    "    name=\"my_function\",\n",
    "    kind=\"job\",\n",
    "    project=\"my_project\",\n",
    "    filename=\"helper/code.py\",\n",
    "    image=\"mlrun/mlrun\"\n",
    ")"
   ]
  },
  {
   "cell_type": "markdown",
   "id": "568727c5",
   "metadata": {},
   "source": [
    "#### CPU/MEM\n",
    "Jobs running on Kubernetes can request a minimum (request) amount of CPU/MEM and a maximum (limit). Kubernetes allocates the resources as needed"
   ]
  },
  {
   "cell_type": "code",
   "execution_count": 15,
   "id": "7a530ee0",
   "metadata": {},
   "outputs": [],
   "source": [
    "fn.spec.with_requests(mem=\"2G\",cpu=\"2\")"
   ]
  },
  {
   "cell_type": "code",
   "execution_count": 16,
   "id": "1b9339b4",
   "metadata": {},
   "outputs": [],
   "source": [
    "fn.spec.with_requests(mem=\"6G\",cpu=\"4\")"
   ]
  },
  {
   "cell_type": "markdown",
   "id": "bf6a7e7f",
   "metadata": {},
   "source": [
    "#### GPU"
   ]
  },
  {
   "cell_type": "code",
   "execution_count": 17,
   "id": "e58a8368",
   "metadata": {},
   "outputs": [],
   "source": [
    "fn.gpus(2,gpu_type='nvidia.com/gpu')"
   ]
  },
  {
   "cell_type": "markdown",
   "id": "6bf29a27",
   "metadata": {},
   "source": [
    "#### Environment variables"
   ]
  },
  {
   "cell_type": "code",
   "execution_count": 19,
   "id": "fabae0cd",
   "metadata": {},
   "outputs": [
    {
     "data": {
      "text/plain": [
       "<mlrun.runtimes.kubejob.KubejobRuntime at 0x7facfe82c2b0>"
      ]
     },
     "execution_count": 19,
     "metadata": {},
     "output_type": "execute_result"
    }
   ],
   "source": [
    "fn.set_env(\"VAR_ONE\", \"VALUE_ONE\")"
   ]
  },
  {
   "cell_type": "markdown",
   "id": "58aa9230",
   "metadata": {},
   "source": [
    "### References"
   ]
  },
  {
   "cell_type": "markdown",
   "id": "270bfcfa",
   "metadata": {},
   "source": [
    "- [MLRun Runtimes](https://docs.mlrun.org/en/latest/concepts/functions-overview.html?highlight=gpus#function-runtimes) For more details visit this documentation page."
   ]
  },
  {
   "cell_type": "markdown",
   "id": "2e817a58",
   "metadata": {},
   "source": [
    "---"
   ]
  }
 ],
 "metadata": {
  "kernelspec": {
   "display_name": "Python [conda env:.conda-latam-perf-test]",
   "language": "python",
   "name": "conda-env-.conda-latam-perf-test-py"
  },
  "language_info": {
   "codemirror_mode": {
    "name": "ipython",
    "version": 3
   },
   "file_extension": ".py",
   "mimetype": "text/x-python",
   "name": "python",
   "nbconvert_exporter": "python",
   "pygments_lexer": "ipython3",
   "version": "3.8.0"
  }
 },
 "nbformat": 4,
 "nbformat_minor": 5
}
