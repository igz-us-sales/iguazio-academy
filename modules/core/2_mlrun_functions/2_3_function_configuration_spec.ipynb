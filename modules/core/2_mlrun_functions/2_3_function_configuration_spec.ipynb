{
 "cells": [
  {
   "cell_type": "markdown",
   "id": "62210678",
   "metadata": {},
   "source": [
    "# Core 2.3 MLRun Functions - Function Configuration (spec)"
   ]
  },
  {
   "cell_type": "markdown",
   "id": "a97bfa0a",
   "metadata": {},
   "source": [
    "Each runtime enables function specifications unique to the execution engine. In this module we will review some of the general specifications for a function. "
   ]
  },
  {
   "cell_type": "markdown",
   "id": "ccbda31f",
   "metadata": {},
   "source": [
    "---"
   ]
  },
  {
   "cell_type": "markdown",
   "id": "a0c88517",
   "metadata": {},
   "source": [
    "### References"
   ]
  },
  {
   "cell_type": "markdown",
   "id": "1437a5ed",
   "metadata": {},
   "source": [
    "- [MLRun Runtimes](https://docs.mlrun.org/en/latest/concepts/functions-overview.html?highlight=runtimes)\n"
   ]
  },
  {
   "cell_type": "markdown",
   "id": "e9672426",
   "metadata": {},
   "source": [
    "---"
   ]
  }
 ],
 "metadata": {
  "kernelspec": {
   "display_name": "Python [conda env:.conda-latam-perf-test]",
   "language": "python",
   "name": "conda-env-.conda-latam-perf-test-py"
  },
  "language_info": {
   "codemirror_mode": {
    "name": "ipython",
    "version": 3
   },
   "file_extension": ".py",
   "mimetype": "text/x-python",
   "name": "python",
   "nbconvert_exporter": "python",
   "pygments_lexer": "ipython3",
   "version": "3.8.0"
  }
 },
 "nbformat": 4,
 "nbformat_minor": 5
}
