{
 "cells": [
  {
   "cell_type": "markdown",
   "id": "ee7163f7",
   "metadata": {},
   "source": [
    "# Core 2.3 MLRun Functions - Function Configuration (spec)"
   ]
  },
  {
   "cell_type": "markdown",
   "id": "bc5cb94c",
   "metadata": {},
   "source": [
    "Each runtime enables function specifications unique to the execution engine. In this module we will review some of the general specifications for a function. The spec contains metadata for configuring related operational aspects, such as the image, required packages, CPU/memory/GPU resources, storage, and the environment. The different serverless runtime engines automatically transform the function code and spec into fully managed and elastic services that run over Kubernetes."
   ]
  },
  {
   "cell_type": "markdown",
   "id": "1d55bd95",
   "metadata": {},
   "source": [
    "---"
   ]
  },
  {
   "cell_type": "markdown",
   "id": "ff9bdebc",
   "metadata": {},
   "source": [
    "### Below are some examples of function configurations"
   ]
  },
  {
   "cell_type": "code",
   "execution_count": null,
   "id": "64a5a3de",
   "metadata": {},
   "outputs": [],
   "source": [
    "import mlrun\n",
    "\n",
    "fn = mlrun.code_to_function(\n",
    "    name=\"my_function\",\n",
    "    kind=\"job\",\n",
    "    project=\"my_project\",\n",
    "    filename=\"helper/code.py\",\n",
    "    image=\"mlrun/mlrun\"\n",
    ")"
   ]
  },
  {
   "cell_type": "markdown",
   "id": "292fb91a",
   "metadata": {},
   "source": [
    "#### CPU/MEM\n",
    "Jobs running on Kubernetes can request a minimum (request) amount of CPU/MEM and a maximum (limit). Kubernetes allocates the resources as needed"
   ]
  },
  {
   "cell_type": "code",
   "execution_count": null,
   "id": "a79965f5",
   "metadata": {},
   "outputs": [],
   "source": [
    "fn.spec.with_requests(mem=\"2G\",cpu=\"2\")"
   ]
  },
  {
   "cell_type": "code",
   "execution_count": null,
   "id": "af8c318c",
   "metadata": {},
   "outputs": [],
   "source": [
    "fn.spec.with_requests(mem=\"6G\",cpu=\"4\")"
   ]
  },
  {
   "cell_type": "markdown",
   "id": "2cec729b",
   "metadata": {},
   "source": [
    "#### GPU"
   ]
  },
  {
   "cell_type": "code",
   "execution_count": null,
   "id": "1015d855",
   "metadata": {},
   "outputs": [],
   "source": [
    "fn.gpus(2,gpu_type='nvidia.com/gpu')"
   ]
  },
  {
   "cell_type": "markdown",
   "id": "cee884c8",
   "metadata": {},
   "source": [
    "#### Environment variables"
   ]
  },
  {
   "cell_type": "code",
   "execution_count": null,
   "id": "6fbc6191",
   "metadata": {},
   "outputs": [],
   "source": [
    "fn.set_env(\"VAR_ONE\", \"VALUE_ONE\")"
   ]
  },
  {
   "cell_type": "markdown",
   "id": "d6195ee8",
   "metadata": {},
   "source": [
    "### References"
   ]
  },
  {
   "cell_type": "markdown",
   "id": "547973f5",
   "metadata": {},
   "source": [
    "- [MLRun Runtimes](https://docs.mlrun.org/en/latest/concepts/functions-overview.html?highlight=gpus#function-runtimes) For more details visit this documentation page."
   ]
  },
  {
   "cell_type": "markdown",
   "id": "fd7c4b14",
   "metadata": {},
   "source": [
    "---"
   ]
  }
 ],
 "metadata": {
  "kernelspec": {
   "display_name": "Python [conda env:.conda-latam-perf-test]",
   "language": "python",
   "name": "conda-env-.conda-latam-perf-test-py"
  },
  "language_info": {
   "codemirror_mode": {
    "name": "ipython",
    "version": 3
   },
   "file_extension": ".py",
   "mimetype": "text/x-python",
   "name": "python",
   "nbconvert_exporter": "python",
   "pygments_lexer": "ipython3",
   "version": "3.8.0"
  }
 },
 "nbformat": 4,
 "nbformat_minor": 5
}
