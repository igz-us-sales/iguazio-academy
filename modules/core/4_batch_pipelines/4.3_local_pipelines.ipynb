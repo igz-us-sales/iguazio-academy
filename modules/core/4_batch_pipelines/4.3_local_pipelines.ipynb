{
 "cells": [
  {
   "cell_type": "markdown",
   "id": "9d8c2ba0",
   "metadata": {},
   "source": [
    "# Core 4.2 Batch Pipelines - Local Pipelines"
   ]
  },
  {
   "cell_type": "markdown",
   "id": "c1a8bb0a",
   "metadata": {},
   "source": [
    "In this section, we will execute the pipeline we created in the last section using local execution. This is a good option for testing the pipeline locally in your Jupyter/IDE environment before running on Kubeflow pipelines.\n",
    "\n",
    "Not that local pipelines are not as fully featured as Kubeflow pipelines and do not support branches/conditions. That being said, they are execellent for prototyping simple pipelines like the one we created."
   ]
  },
  {
   "cell_type": "markdown",
   "id": "1c380c7c",
   "metadata": {},
   "source": [
    "---"
   ]
  },
  {
   "cell_type": "markdown",
   "id": "4e4408c5",
   "metadata": {},
   "source": [
    "### References"
   ]
  },
  {
   "cell_type": "markdown",
   "id": "480b6204",
   "metadata": {},
   "source": [
    "Much of the following content is derived from the official documenation:\n",
    "- [Project workflows and automation](https://docs.mlrun.org/en/latest/projects/workflows.html)"
   ]
  },
  {
   "cell_type": "markdown",
   "id": "e5edab73",
   "metadata": {},
   "source": [
    "### Example Overview"
   ]
  },
  {
   "cell_type": "markdown",
   "id": "0cc50ade",
   "metadata": {},
   "source": [
    "In this example, we will execute the pipeline we created in the first section via the local pipeline engine. To run the pipeline, we will use the MLRun Project object. The project knows where the underlying files for the pipeline and functions are, making it very simple to run via the Python SDK or CLI."
   ]
  },
  {
   "cell_type": "markdown",
   "id": "31d59239",
   "metadata": {},
   "source": [
    "---"
   ]
  },
  {
   "cell_type": "markdown",
   "id": "47f2e72c",
   "metadata": {},
   "source": [
    "### Setup"
   ]
  },
  {
   "cell_type": "code",
   "execution_count": 1,
   "id": "7fe248b7",
   "metadata": {},
   "outputs": [
    {
     "name": "stdout",
     "output_type": "stream",
     "text": [
      "> 2022-06-23 21:01:47,332 [info] loaded project iguazio-academy from MLRun DB\n"
     ]
    }
   ],
   "source": [
    "import mlrun\n",
    "\n",
    "project = mlrun.get_or_create_project(\"iguazio-academy\", context=\"./\")"
   ]
  },
  {
   "cell_type": "markdown",
   "id": "b62e5ba3",
   "metadata": {},
   "source": [
    "### List Pipelines in Project"
   ]
  },
  {
   "cell_type": "markdown",
   "id": "f6f9d09d",
   "metadata": {},
   "source": [
    "Recall that we saved our pipeline in the project under the name `train`"
   ]
  },
  {
   "cell_type": "code",
   "execution_count": 2,
   "id": "fc919cd9",
   "metadata": {},
   "outputs": [
    {
     "data": {
      "text/plain": [
       "[{'name': 'train', 'path': 'pipelines/training_pipeline.py', 'engine': None}]"
      ]
     },
     "execution_count": 2,
     "metadata": {},
     "output_type": "execute_result"
    }
   ],
   "source": [
    "project.workflows"
   ]
  },
  {
   "cell_type": "markdown",
   "id": "9252eab3",
   "metadata": {},
   "source": [
    "### Run Pipeline via Python SDK"
   ]
  },
  {
   "cell_type": "markdown",
   "id": "2070e712",
   "metadata": {},
   "source": [
    "To run locally, we need to add the `local` flag - that's it"
   ]
  },
  {
   "cell_type": "code",
   "execution_count": 5,
   "id": "7d86a59f",
   "metadata": {},
   "outputs": [
    {
     "data": {
      "text/html": [
       "Pipeline started in project iguazio-academy id=9ab247cb82414b6a928fcb31182dc943<div><a href=\"https://dashboard.default-tenant.app.uss-sales-341.iguazio-cd1.com/mlprojects/iguazio-academy/jobs\" target=\"_blank\">click here to view progress</a></div>"
      ],
      "text/plain": [
       "<IPython.core.display.HTML object>"
      ]
     },
     "metadata": {},
     "output_type": "display_data"
    },
    {
     "name": "stdout",
     "output_type": "stream",
     "text": [
      "> 2022-06-23 21:05:04,361 [info] starting run get-data-prep_data uid=45d779e3141d4414b489654aa8b45b17 DB=http://mlrun-api:8080\n",
      "> 2022-06-23 21:05:04,536 [info] saving iris dataframe to v3io:///projects/iguazio-academy/artifacts/9ab247cb82414b6a928fcb31182dc943\n"
     ]
    },
    {
     "data": {
      "text/html": [
       "<style>\n",
       ".dictlist {\n",
       "  background-color: #4EC64B;\n",
       "  text-align: center;\n",
       "  margin: 4px;\n",
       "  border-radius: 3px; padding: 0px 3px 1px 3px; display: inline-block;}\n",
       ".artifact {\n",
       "  cursor: pointer;\n",
       "  background-color: #4EC64B;\n",
       "  text-align: left;\n",
       "  margin: 4px; border-radius: 3px; padding: 0px 3px 1px 3px; display: inline-block;\n",
       "}\n",
       "div.block.hidden {\n",
       "  display: none;\n",
       "}\n",
       ".clickable {\n",
       "  cursor: pointer;\n",
       "}\n",
       ".ellipsis {\n",
       "  display: inline-block;\n",
       "  max-width: 60px;\n",
       "  white-space: nowrap;\n",
       "  overflow: hidden;\n",
       "  text-overflow: ellipsis;\n",
       "}\n",
       ".master-wrapper {\n",
       "  display: flex;\n",
       "  flex-flow: row nowrap;\n",
       "  justify-content: flex-start;\n",
       "  align-items: stretch;\n",
       "}\n",
       ".master-tbl {\n",
       "  flex: 3\n",
       "}\n",
       ".master-wrapper > div {\n",
       "  margin: 4px;\n",
       "  padding: 10px;\n",
       "}\n",
       "iframe.fileview {\n",
       "  border: 0 none;\n",
       "  height: 100%;\n",
       "  width: 100%;\n",
       "  white-space: pre-wrap;\n",
       "}\n",
       ".pane-header-title {\n",
       "  width: 80%;\n",
       "  font-weight: 500;\n",
       "}\n",
       ".pane-header {\n",
       "  line-height: 1;\n",
       "  background-color: #4EC64B;\n",
       "  padding: 3px;\n",
       "}\n",
       ".pane-header .close {\n",
       "  font-size: 20px;\n",
       "  font-weight: 700;\n",
       "  float: right;\n",
       "  margin-top: -5px;\n",
       "}\n",
       ".master-wrapper .right-pane {\n",
       "  border: 1px inset silver;\n",
       "  width: 40%;\n",
       "  min-height: 300px;\n",
       "  flex: 3\n",
       "  min-width: 500px;\n",
       "}\n",
       ".master-wrapper * {\n",
       "  box-sizing: border-box;\n",
       "}\n",
       "</style><script>\n",
       "function copyToClipboard(fld) {\n",
       "    if (document.queryCommandSupported && document.queryCommandSupported('copy')) {\n",
       "        var textarea = document.createElement('textarea');\n",
       "        textarea.textContent = fld.innerHTML;\n",
       "        textarea.style.position = 'fixed';\n",
       "        document.body.appendChild(textarea);\n",
       "        textarea.select();\n",
       "\n",
       "        try {\n",
       "            return document.execCommand('copy'); // Security exception may be thrown by some browsers.\n",
       "        } catch (ex) {\n",
       "\n",
       "        } finally {\n",
       "            document.body.removeChild(textarea);\n",
       "        }\n",
       "    }\n",
       "}\n",
       "function expandPanel(el) {\n",
       "  const panelName = \"#\" + el.getAttribute('paneName');\n",
       "  console.log(el.title);\n",
       "\n",
       "  document.querySelector(panelName + \"-title\").innerHTML = el.title\n",
       "  iframe = document.querySelector(panelName + \"-body\");\n",
       "\n",
       "  const tblcss = `<style> body { font-family: Arial, Helvetica, sans-serif;}\n",
       "    #csv { margin-bottom: 15px; }\n",
       "    #csv table { border-collapse: collapse;}\n",
       "    #csv table td { padding: 4px 8px; border: 1px solid silver;} </style>`;\n",
       "\n",
       "  function csvToHtmlTable(str) {\n",
       "    return '<div id=\"csv\"><table><tr><td>' +  str.replace(/[\\n\\r]+$/g, '').replace(/[\\n\\r]+/g, '</td></tr><tr><td>')\n",
       "      .replace(/,/g, '</td><td>') + '</td></tr></table></div>';\n",
       "  }\n",
       "\n",
       "  function reqListener () {\n",
       "    if (el.title.endsWith(\".csv\")) {\n",
       "      iframe.setAttribute(\"srcdoc\", tblcss + csvToHtmlTable(this.responseText));\n",
       "    } else {\n",
       "      iframe.setAttribute(\"srcdoc\", this.responseText);\n",
       "    }\n",
       "    console.log(this.responseText);\n",
       "  }\n",
       "\n",
       "  const oReq = new XMLHttpRequest();\n",
       "  oReq.addEventListener(\"load\", reqListener);\n",
       "  oReq.open(\"GET\", el.title);\n",
       "  oReq.send();\n",
       "\n",
       "\n",
       "  //iframe.src = el.title;\n",
       "  const resultPane = document.querySelector(panelName + \"-pane\");\n",
       "  if (resultPane.classList.contains(\"hidden\")) {\n",
       "    resultPane.classList.remove(\"hidden\");\n",
       "  }\n",
       "}\n",
       "function closePanel(el) {\n",
       "  const panelName = \"#\" + el.getAttribute('paneName')\n",
       "  const resultPane = document.querySelector(panelName + \"-pane\");\n",
       "  if (!resultPane.classList.contains(\"hidden\")) {\n",
       "    resultPane.classList.add(\"hidden\");\n",
       "  }\n",
       "}\n",
       "\n",
       "</script>\n",
       "<div class=\"master-wrapper\">\n",
       "  <div class=\"block master-tbl\"><div>\n",
       "<style scoped>\n",
       "    .dataframe tbody tr th:only-of-type {\n",
       "        vertical-align: middle;\n",
       "    }\n",
       "\n",
       "    .dataframe tbody tr th {\n",
       "        vertical-align: top;\n",
       "    }\n",
       "\n",
       "    .dataframe thead th {\n",
       "        text-align: right;\n",
       "    }\n",
       "</style>\n",
       "<table border=\"1\" class=\"dataframe\">\n",
       "  <thead>\n",
       "    <tr style=\"text-align: right;\">\n",
       "      <th>project</th>\n",
       "      <th>uid</th>\n",
       "      <th>iter</th>\n",
       "      <th>start</th>\n",
       "      <th>state</th>\n",
       "      <th>name</th>\n",
       "      <th>labels</th>\n",
       "      <th>inputs</th>\n",
       "      <th>parameters</th>\n",
       "      <th>results</th>\n",
       "      <th>artifacts</th>\n",
       "    </tr>\n",
       "  </thead>\n",
       "  <tbody>\n",
       "    <tr>\n",
       "      <td>iguazio-academy</td>\n",
       "      <td><div title=\"45d779e3141d4414b489654aa8b45b17\"><a href=\"https://dashboard.default-tenant.app.uss-sales-341.iguazio-cd1.com/mlprojects/iguazio-academy/jobs/monitor/45d779e3141d4414b489654aa8b45b17/overview\" target=\"_blank\" >...a8b45b17</a></div></td>\n",
       "      <td>0</td>\n",
       "      <td>Jun 23 21:05:04</td>\n",
       "      <td>completed</td>\n",
       "      <td>get-data-prep_data</td>\n",
       "      <td><div class=\"dictlist\">workflow=9ab247cb82414b6a928fcb31182dc943</div><div class=\"dictlist\">v3io_user=nick</div><div class=\"dictlist\">kind=</div><div class=\"dictlist\">owner=nick</div><div class=\"dictlist\">host=jupyter-nick-85b8d8d8df-tgstz</div></td>\n",
       "      <td></td>\n",
       "      <td><div class=\"dictlist\">label_column=target</div></td>\n",
       "      <td><div class=\"dictlist\">num_rows=150</div></td>\n",
       "      <td><div class=\"artifact\" onclick=\"expandPanel(this)\" paneName=\"result9cfa1786\" title=\"files/v3io/projects/iguazio-academy/artifacts/9ab247cb82414b6a928fcb31182dc943/iris_dataset.csv\">iris_dataset</div></td>\n",
       "    </tr>\n",
       "  </tbody>\n",
       "</table>\n",
       "</div></div>\n",
       "  <div id=\"result9cfa1786-pane\" class=\"right-pane block hidden\">\n",
       "    <div class=\"pane-header\">\n",
       "      <span id=\"result9cfa1786-title\" class=\"pane-header-title\">Title</span>\n",
       "      <span onclick=\"closePanel(this)\" paneName=\"result9cfa1786\" class=\"close clickable\">&times;</span>\n",
       "    </div>\n",
       "    <iframe class=\"fileview\" id=\"result9cfa1786-body\"></iframe>\n",
       "  </div>\n",
       "</div>\n"
      ],
      "text/plain": [
       "<IPython.core.display.HTML object>"
      ]
     },
     "metadata": {},
     "output_type": "display_data"
    },
    {
     "name": "stdout",
     "output_type": "stream",
     "text": [
      "\n"
     ]
    },
    {
     "data": {
      "text/html": [
       "<b> > to track results use the .show() or .logs() methods  or <a href=\"https://dashboard.default-tenant.app.uss-sales-341.iguazio-cd1.com/mlprojects/iguazio-academy/jobs/monitor/45d779e3141d4414b489654aa8b45b17/overview\" target=\"_blank\">click here</a> to open in UI</b>"
      ],
      "text/plain": [
       "<IPython.core.display.HTML object>"
      ]
     },
     "metadata": {},
     "output_type": "display_data"
    },
    {
     "name": "stdout",
     "output_type": "stream",
     "text": [
      "> 2022-06-23 21:05:04,731 [info] run executed, status=completed\n",
      "> 2022-06-23 21:05:04,733 [info] starting run train-model-train_model uid=42e4293e72464dae980718ecf8b36495 DB=http://mlrun-api:8080\n"
     ]
    },
    {
     "data": {
      "text/html": [
       "<style>\n",
       ".dictlist {\n",
       "  background-color: #4EC64B;\n",
       "  text-align: center;\n",
       "  margin: 4px;\n",
       "  border-radius: 3px; padding: 0px 3px 1px 3px; display: inline-block;}\n",
       ".artifact {\n",
       "  cursor: pointer;\n",
       "  background-color: #4EC64B;\n",
       "  text-align: left;\n",
       "  margin: 4px; border-radius: 3px; padding: 0px 3px 1px 3px; display: inline-block;\n",
       "}\n",
       "div.block.hidden {\n",
       "  display: none;\n",
       "}\n",
       ".clickable {\n",
       "  cursor: pointer;\n",
       "}\n",
       ".ellipsis {\n",
       "  display: inline-block;\n",
       "  max-width: 60px;\n",
       "  white-space: nowrap;\n",
       "  overflow: hidden;\n",
       "  text-overflow: ellipsis;\n",
       "}\n",
       ".master-wrapper {\n",
       "  display: flex;\n",
       "  flex-flow: row nowrap;\n",
       "  justify-content: flex-start;\n",
       "  align-items: stretch;\n",
       "}\n",
       ".master-tbl {\n",
       "  flex: 3\n",
       "}\n",
       ".master-wrapper > div {\n",
       "  margin: 4px;\n",
       "  padding: 10px;\n",
       "}\n",
       "iframe.fileview {\n",
       "  border: 0 none;\n",
       "  height: 100%;\n",
       "  width: 100%;\n",
       "  white-space: pre-wrap;\n",
       "}\n",
       ".pane-header-title {\n",
       "  width: 80%;\n",
       "  font-weight: 500;\n",
       "}\n",
       ".pane-header {\n",
       "  line-height: 1;\n",
       "  background-color: #4EC64B;\n",
       "  padding: 3px;\n",
       "}\n",
       ".pane-header .close {\n",
       "  font-size: 20px;\n",
       "  font-weight: 700;\n",
       "  float: right;\n",
       "  margin-top: -5px;\n",
       "}\n",
       ".master-wrapper .right-pane {\n",
       "  border: 1px inset silver;\n",
       "  width: 40%;\n",
       "  min-height: 300px;\n",
       "  flex: 3\n",
       "  min-width: 500px;\n",
       "}\n",
       ".master-wrapper * {\n",
       "  box-sizing: border-box;\n",
       "}\n",
       "</style><script>\n",
       "function copyToClipboard(fld) {\n",
       "    if (document.queryCommandSupported && document.queryCommandSupported('copy')) {\n",
       "        var textarea = document.createElement('textarea');\n",
       "        textarea.textContent = fld.innerHTML;\n",
       "        textarea.style.position = 'fixed';\n",
       "        document.body.appendChild(textarea);\n",
       "        textarea.select();\n",
       "\n",
       "        try {\n",
       "            return document.execCommand('copy'); // Security exception may be thrown by some browsers.\n",
       "        } catch (ex) {\n",
       "\n",
       "        } finally {\n",
       "            document.body.removeChild(textarea);\n",
       "        }\n",
       "    }\n",
       "}\n",
       "function expandPanel(el) {\n",
       "  const panelName = \"#\" + el.getAttribute('paneName');\n",
       "  console.log(el.title);\n",
       "\n",
       "  document.querySelector(panelName + \"-title\").innerHTML = el.title\n",
       "  iframe = document.querySelector(panelName + \"-body\");\n",
       "\n",
       "  const tblcss = `<style> body { font-family: Arial, Helvetica, sans-serif;}\n",
       "    #csv { margin-bottom: 15px; }\n",
       "    #csv table { border-collapse: collapse;}\n",
       "    #csv table td { padding: 4px 8px; border: 1px solid silver;} </style>`;\n",
       "\n",
       "  function csvToHtmlTable(str) {\n",
       "    return '<div id=\"csv\"><table><tr><td>' +  str.replace(/[\\n\\r]+$/g, '').replace(/[\\n\\r]+/g, '</td></tr><tr><td>')\n",
       "      .replace(/,/g, '</td><td>') + '</td></tr></table></div>';\n",
       "  }\n",
       "\n",
       "  function reqListener () {\n",
       "    if (el.title.endsWith(\".csv\")) {\n",
       "      iframe.setAttribute(\"srcdoc\", tblcss + csvToHtmlTable(this.responseText));\n",
       "    } else {\n",
       "      iframe.setAttribute(\"srcdoc\", this.responseText);\n",
       "    }\n",
       "    console.log(this.responseText);\n",
       "  }\n",
       "\n",
       "  const oReq = new XMLHttpRequest();\n",
       "  oReq.addEventListener(\"load\", reqListener);\n",
       "  oReq.open(\"GET\", el.title);\n",
       "  oReq.send();\n",
       "\n",
       "\n",
       "  //iframe.src = el.title;\n",
       "  const resultPane = document.querySelector(panelName + \"-pane\");\n",
       "  if (resultPane.classList.contains(\"hidden\")) {\n",
       "    resultPane.classList.remove(\"hidden\");\n",
       "  }\n",
       "}\n",
       "function closePanel(el) {\n",
       "  const panelName = \"#\" + el.getAttribute('paneName')\n",
       "  const resultPane = document.querySelector(panelName + \"-pane\");\n",
       "  if (!resultPane.classList.contains(\"hidden\")) {\n",
       "    resultPane.classList.add(\"hidden\");\n",
       "  }\n",
       "}\n",
       "\n",
       "</script>\n",
       "<div class=\"master-wrapper\">\n",
       "  <div class=\"block master-tbl\"><div>\n",
       "<style scoped>\n",
       "    .dataframe tbody tr th:only-of-type {\n",
       "        vertical-align: middle;\n",
       "    }\n",
       "\n",
       "    .dataframe tbody tr th {\n",
       "        vertical-align: top;\n",
       "    }\n",
       "\n",
       "    .dataframe thead th {\n",
       "        text-align: right;\n",
       "    }\n",
       "</style>\n",
       "<table border=\"1\" class=\"dataframe\">\n",
       "  <thead>\n",
       "    <tr style=\"text-align: right;\">\n",
       "      <th>project</th>\n",
       "      <th>uid</th>\n",
       "      <th>iter</th>\n",
       "      <th>start</th>\n",
       "      <th>state</th>\n",
       "      <th>name</th>\n",
       "      <th>labels</th>\n",
       "      <th>inputs</th>\n",
       "      <th>parameters</th>\n",
       "      <th>results</th>\n",
       "      <th>artifacts</th>\n",
       "    </tr>\n",
       "  </thead>\n",
       "  <tbody>\n",
       "    <tr>\n",
       "      <td>iguazio-academy</td>\n",
       "      <td><div title=\"42e4293e72464dae980718ecf8b36495\"><a href=\"https://dashboard.default-tenant.app.uss-sales-341.iguazio-cd1.com/mlprojects/iguazio-academy/jobs/monitor/42e4293e72464dae980718ecf8b36495/overview\" target=\"_blank\" >...f8b36495</a></div></td>\n",
       "      <td>0</td>\n",
       "      <td>Jun 23 21:05:04</td>\n",
       "      <td>completed</td>\n",
       "      <td>train-model-train_model</td>\n",
       "      <td><div class=\"dictlist\">workflow=9ab247cb82414b6a928fcb31182dc943</div><div class=\"dictlist\">v3io_user=nick</div><div class=\"dictlist\">kind=</div><div class=\"dictlist\">owner=nick</div><div class=\"dictlist\">host=jupyter-nick-85b8d8d8df-tgstz</div></td>\n",
       "      <td><div title=\"store://artifacts/iguazio-academy/get-data-prep_data_iris_dataset:9ab247cb82414b6a928fcb31182dc943\">dataset</div></td>\n",
       "      <td><div class=\"dictlist\">label_column=target</div><div class=\"dictlist\">test_size=0.2</div></td>\n",
       "      <td><div class=\"dictlist\">accuracy=1.0</div><div class=\"dictlist\">f1_score=1.0</div><div class=\"dictlist\">precision_score=1.0</div><div class=\"dictlist\">recall_score=1.0</div><div class=\"dictlist\">auc-micro=1.0</div><div class=\"dictlist\">auc-macro=1.0</div><div class=\"dictlist\">auc-weighted=1.0</div></td>\n",
       "      <td><div class=\"artifact\" onclick=\"expandPanel(this)\" paneName=\"result08d9c552\" title=\"files/v3io/projects/iguazio-academy/artifacts/9ab247cb82414b6a928fcb31182dc943/feature-importance.html\">feature-importance</div><div title=\"v3io:///projects/iguazio-academy/artifacts/9ab247cb82414b6a928fcb31182dc943/test_set.parquet\">test_set</div><div class=\"artifact\" onclick=\"expandPanel(this)\" paneName=\"result08d9c552\" title=\"files/v3io/projects/iguazio-academy/artifacts/9ab247cb82414b6a928fcb31182dc943/confusion-matrix.html\">confusion-matrix</div><div class=\"artifact\" onclick=\"expandPanel(this)\" paneName=\"result08d9c552\" title=\"files/v3io/projects/iguazio-academy/artifacts/9ab247cb82414b6a928fcb31182dc943/roc-curves.html\">roc-curves</div><div title=\"v3io:///projects/iguazio-academy/artifacts/9ab247cb82414b6a928fcb31182dc943/\">model</div></td>\n",
       "    </tr>\n",
       "  </tbody>\n",
       "</table>\n",
       "</div></div>\n",
       "  <div id=\"result08d9c552-pane\" class=\"right-pane block hidden\">\n",
       "    <div class=\"pane-header\">\n",
       "      <span id=\"result08d9c552-title\" class=\"pane-header-title\">Title</span>\n",
       "      <span onclick=\"closePanel(this)\" paneName=\"result08d9c552\" class=\"close clickable\">&times;</span>\n",
       "    </div>\n",
       "    <iframe class=\"fileview\" id=\"result08d9c552-body\"></iframe>\n",
       "  </div>\n",
       "</div>\n"
      ],
      "text/plain": [
       "<IPython.core.display.HTML object>"
      ]
     },
     "metadata": {},
     "output_type": "display_data"
    },
    {
     "name": "stdout",
     "output_type": "stream",
     "text": [
      "\n"
     ]
    },
    {
     "data": {
      "text/html": [
       "<b> > to track results use the .show() or .logs() methods  or <a href=\"https://dashboard.default-tenant.app.uss-sales-341.iguazio-cd1.com/mlprojects/iguazio-academy/jobs/monitor/42e4293e72464dae980718ecf8b36495/overview\" target=\"_blank\">click here</a> to open in UI</b>"
      ],
      "text/plain": [
       "<IPython.core.display.HTML object>"
      ]
     },
     "metadata": {},
     "output_type": "display_data"
    },
    {
     "name": "stdout",
     "output_type": "stream",
     "text": [
      "> 2022-06-23 21:05:06,299 [info] run executed, status=completed\n",
      "> 2022-06-23 21:05:06,300 [info] Starting remote function deploy\n",
      "2022-06-23 21:05:06  (info) Deploying function\n",
      "2022-06-23 21:05:06  (info) Building\n",
      "2022-06-23 21:05:06  (info) Staging files and preparing base images\n",
      "2022-06-23 21:05:06  (info) Building processor image\n",
      "2022-06-23 21:05:41  (info) Build complete\n",
      "2022-06-23 21:05:51  (info) Function deploy complete\n",
      "> 2022-06-23 21:05:52,732 [info] successfully deployed function: {'internal_invocation_urls': ['nuclio-iguazio-academy-v2-model-server.default-tenant.svc.cluster.local:8080'], 'external_invocation_urls': ['iguazio-academy-v2-model-server-iguazio-academy.default-tenant.app.uss-sales-341.iguazio-cd1.com/']}\n"
     ]
    },
    {
     "data": {
      "text/html": [
       "<h2>Run Results</h2>pipeline run finished, state=Succeeded<br>click the hyper links below to see detailed results<br><table border=\"1\" class=\"dataframe\">\n",
       "  <thead>\n",
       "    <tr style=\"text-align: right;\">\n",
       "      <th>uid</th>\n",
       "      <th>start</th>\n",
       "      <th>state</th>\n",
       "      <th>name</th>\n",
       "      <th>parameters</th>\n",
       "      <th>results</th>\n",
       "    </tr>\n",
       "  </thead>\n",
       "  <tbody>\n",
       "    <tr>\n",
       "      <td><div title=\"45d779e3141d4414b489654aa8b45b17\"><a href=\"https://dashboard.default-tenant.app.uss-sales-341.iguazio-cd1.com/mlprojects/iguazio-academy/jobs/monitor/45d779e3141d4414b489654aa8b45b17/overview\" target=\"_blank\" >...a8b45b17</a></div></td>\n",
       "      <td>Jun 23 21:05:04</td>\n",
       "      <td>completed</td>\n",
       "      <td>get-data-prep_data</td>\n",
       "      <td><div class=\"dictlist\">label_column=target</div></td>\n",
       "      <td><div class=\"dictlist\">num_rows=150</div></td>\n",
       "    </tr>\n",
       "    <tr>\n",
       "      <td><div title=\"42e4293e72464dae980718ecf8b36495\"><a href=\"https://dashboard.default-tenant.app.uss-sales-341.iguazio-cd1.com/mlprojects/iguazio-academy/jobs/monitor/42e4293e72464dae980718ecf8b36495/overview\" target=\"_blank\" >...f8b36495</a></div></td>\n",
       "      <td>Jun 23 21:05:04</td>\n",
       "      <td>completed</td>\n",
       "      <td>train-model-train_model</td>\n",
       "      <td><div class=\"dictlist\">label_column=target</div><div class=\"dictlist\">test_size=0.2</div></td>\n",
       "      <td><div class=\"dictlist\">accuracy=1.0</div><div class=\"dictlist\">f1_score=1.0</div><div class=\"dictlist\">precision_score=1.0</div><div class=\"dictlist\">recall_score=1.0</div><div class=\"dictlist\">auc-micro=1.0</div><div class=\"dictlist\">auc-macro=1.0</div><div class=\"dictlist\">auc-weighted=1.0</div></td>\n",
       "    </tr>\n",
       "  </tbody>\n",
       "</table>"
      ],
      "text/plain": [
       "<IPython.core.display.HTML object>"
      ]
     },
     "metadata": {},
     "output_type": "display_data"
    },
    {
     "data": {
      "text/plain": [
       "9ab247cb82414b6a928fcb31182dc943"
      ]
     },
     "execution_count": 5,
     "metadata": {},
     "output_type": "execute_result"
    }
   ],
   "source": [
    "run_id = project.run(\n",
    "    name=\"train\",\n",
    "    arguments={'label_column': 'target', 'test_size' : 0.2}, # Arguments in Key Value format\n",
    "    sync=True, # Get latest versions of all MLRun functions before running,\n",
    "    watch=True, # Wait for pipeline to execute before continuing (prints out graph)\n",
    "    local=True\n",
    ")"
   ]
  },
  {
   "cell_type": "markdown",
   "id": "81d585cf",
   "metadata": {},
   "source": [
    "### Run Pipeline via CLI"
   ]
  },
  {
   "cell_type": "markdown",
   "id": "9c683d3c",
   "metadata": {},
   "source": [
    "Like the Python SDK, the CLI has many options for running projects. The CLI is often used in CI/CD pipelines rather than the Python SDK, but that is user preference. Like before, we need to add the `local` flag\n",
    "\n",
    "Run `mlrun project --help` for more info. To execute our pipeline, run the following:"
   ]
  },
  {
   "cell_type": "code",
   "execution_count": 7,
   "id": "18469523",
   "metadata": {},
   "outputs": [
    {
     "name": "stdout",
     "output_type": "stream",
     "text": [
      "Loading project iguazio-academy into ./:\n",
      "\n",
      "kind: project\n",
      "metadata:\n",
      "  name: iguazio-academy\n",
      "  created: '2022-06-23T19:20:05.968000+00:00'\n",
      "spec:\n",
      "  functions:\n",
      "  - url: functions/get_data.py\n",
      "    name: get-data\n",
      "    kind: job\n",
      "    image: mlrun/mlrun\n",
      "  - url: functions/train.py\n",
      "    name: train-model\n",
      "    kind: job\n",
      "    image: mlrun/mlrun\n",
      "  - url: hub://v2_model_server\n",
      "    name: deploy-model\n",
      "  workflows:\n",
      "  - name: train\n",
      "    path: pipelines/training_pipeline.py\n",
      "    engine: null\n",
      "  artifacts: []\n",
      "  source: ''\n",
      "  desired_state: online\n",
      "  owner: xingsheng\n",
      "status:\n",
      "  state: online\n",
      "\n",
      "running workflow train file: None\n",
      "Pipeline started in project iguazio-academy id=4d3c6769bbe6420789a54ab5857b9cc3, check progress in https://dashboard.default-tenant.app.uss-sales-341.iguazio-cd1.com/mlprojects/iguazio-academy/jobs\n",
      "> 2022-06-23 21:08:39,889 [info] starting run get-data-prep_data uid=f7a693c8f50c4c81aee25b1eaacb7200 DB=http://mlrun-api:8080\n",
      "> 2022-06-23 21:08:40,841 [info] saving iris dataframe to v3io:///projects/iguazio-academy/artifacts/4d3c6769bbe6420789a54ab5857b9cc3\n",
      "to track results use the CLI:\n",
      "info: mlrun get run f7a693c8f50c4c81aee25b1eaacb7200 -p iguazio-academy\n",
      "logs: mlrun logs f7a693c8f50c4c81aee25b1eaacb7200 -p iguazio-academy\n",
      "or click https://dashboard.default-tenant.app.uss-sales-341.iguazio-cd1.com/mlprojects/iguazio-academy/jobs/monitor/f7a693c8f50c4c81aee25b1eaacb7200/overview for UI\n",
      "> 2022-06-23 21:08:41,073 [info] run executed, status=completed\n",
      "> 2022-06-23 21:08:41,074 [info] starting run train-model-train_model uid=e40d38ebdc004b6f90bd556df3134bf6 DB=http://mlrun-api:8080\n",
      "to track results use the CLI:\n",
      "info: mlrun get run e40d38ebdc004b6f90bd556df3134bf6 -p iguazio-academy\n",
      "logs: mlrun logs e40d38ebdc004b6f90bd556df3134bf6 -p iguazio-academy\n",
      "or click https://dashboard.default-tenant.app.uss-sales-341.iguazio-cd1.com/mlprojects/iguazio-academy/jobs/monitor/e40d38ebdc004b6f90bd556df3134bf6/overview for UI\n",
      "> 2022-06-23 21:08:44,775 [info] run executed, status=completed\n",
      "> 2022-06-23 21:08:44,776 [info] Starting remote function deploy\n",
      "2022-06-23 21:08:45  (info) Deploying function\n",
      "2022-06-23 21:08:45  (info) Building\n",
      "2022-06-23 21:08:45  (info) Staging files and preparing base images\n",
      "2022-06-23 21:08:45  (info) Building processor image\n",
      "2022-06-23 21:09:20  (info) Build complete\n",
      "> 2022-06-23 21:09:32,169 [info] successfully deployed function: {'internal_invocation_urls': ['nuclio-iguazio-academy-v2-model-server.default-tenant.svc.cluster.local:8080'], 'external_invocation_urls': ['iguazio-academy-v2-model-server-iguazio-academy.default-tenant.app.uss-sales-341.iguazio-cd1.com/']}\n",
      "pipeline run finished, state=Succeeded\n",
      "status     name                     uid       results\n",
      "---------  -----------------------  --------  -----------------------------------------------------------------------------------------------------------\n",
      "completed  get-data-prep_data       ..cb7200  num_rows=150\n",
      "completed  train-model-train_model  ..134bf6  accuracy=1.0,f1_score=1.0,precision_score=1.0,recall_score=1.0,auc-micro=1.0,auc-macro=1.0,auc-weighted=1.0\n",
      "run id: 4d3c6769bbe6420789a54ab5857b9cc3\n"
     ]
    }
   ],
   "source": [
    "!mlrun project ./ --run train --arguments label_column=target --arguments test_size=0.2 --local"
   ]
  },
  {
   "cell_type": "markdown",
   "id": "063b1e0b",
   "metadata": {},
   "source": [
    "---"
   ]
  }
 ],
 "metadata": {
  "kernelspec": {
   "display_name": "Python [conda env:root] *",
   "language": "python",
   "name": "conda-root-py"
  },
  "language_info": {
   "codemirror_mode": {
    "name": "ipython",
    "version": 3
   },
   "file_extension": ".py",
   "mimetype": "text/x-python",
   "name": "python",
   "nbconvert_exporter": "python",
   "pygments_lexer": "ipython3",
   "version": "3.7.6"
  }
 },
 "nbformat": 4,
 "nbformat_minor": 5
}
