{
 "cells": [
  {
   "cell_type": "markdown",
   "metadata": {},
   "source": [
    "# 5.2 Basic serving graph\n",
    "\n"
   ]
  },
  {
   "cell_type": "markdown",
   "metadata": {},
   "source": [
    "In section 5.1, we showed a basic model serving function. In this section, we are going to look into the serving graph"
   ]
  },
  {
   "cell_type": "code",
   "execution_count": 1,
   "metadata": {},
   "outputs": [
    {
     "name": "stdout",
     "output_type": "stream",
     "text": [
      "> 2022-06-02 15:46:44,807 [info] loaded project realtime-pipelines from MLRun DB\n",
      "Full project name: realtime-pipelines-xingsheng\n"
     ]
    }
   ],
   "source": [
    "import mlrun\n",
    "\n",
    "# Set the base project name\n",
    "project_name_base = 'realtime-pipelines'\n",
    "\n",
    "# Initialize the MLRun project object\n",
    "project = mlrun.get_or_create_project(project_name_base, context=\"./\", user_project=True)\n",
    "\n",
    "# Display the current project name\n",
    "project_name = project.metadata.name\n",
    "print(f'Full project name: {project_name}')"
   ]
  },
  {
   "cell_type": "markdown",
   "metadata": {},
   "source": [
    "## Serving Functions\n",
    "\n",
    "To start using a serving graph, you first need a serving function. A serving function contains the serving\n",
    "class code to run the model and all the code necessary to run the tasks. MLRun comes with a wide library of tasks. If you\n",
    "use just those, you don't have to add any special code to the serving function, you just have to provide\n",
    "the code that runs the model. For more information about serving classes see [Creating a custom model serving class](./custom-model-serving-class.md).\n",
    "\n",
    "For example, the following code is a basic model serving class:"
   ]
  },
  {
   "cell_type": "code",
   "execution_count": 1,
   "metadata": {},
   "outputs": [],
   "source": [
    "# mlrun: start-code"
   ]
  },
  {
   "cell_type": "code",
   "execution_count": 2,
   "metadata": {},
   "outputs": [],
   "source": [
    "from cloudpickle import load\n",
    "from typing import List\n",
    "import numpy as np\n",
    "\n",
    "import mlrun\n",
    "\n",
    "class ClassifierModel(mlrun.serving.V2ModelServer):\n",
    "    def load(self):\n",
    "        \"\"\"load and initialize the model and/or other elements\"\"\"\n",
    "        model_file, extra_data = self.get_model(\".pkl\")\n",
    "        self.model = load(open(model_file, \"rb\"))\n",
    "\n",
    "    def predict(self, body: dict) -> List:\n",
    "        \"\"\"Generate model predictions from sample.\"\"\"\n",
    "        feats = np.asarray(body[\"inputs\"])\n",
    "        result: np.ndarray = self.model.predict(feats)\n",
    "        return result.tolist()"
   ]
  },
  {
   "cell_type": "code",
   "execution_count": 3,
   "metadata": {},
   "outputs": [],
   "source": [
    "# mlrun: end-code"
   ]
  },
  {
   "cell_type": "markdown",
   "metadata": {},
   "source": [
    "To obtain the serving function, use the `code_to_function` and specify `kind` to be `serving`."
   ]
  },
  {
   "cell_type": "code",
   "execution_count": 23,
   "metadata": {},
   "outputs": [],
   "source": [
    "fn = mlrun.code_to_function(\"serving_example\",\n",
    "                            kind=\"serving\", \n",
    "                            image=\"mlrun/mlrun\")"
   ]
  },
  {
   "cell_type": "markdown",
   "metadata": {},
   "source": [
    "## Topology"
   ]
  },
  {
   "cell_type": "markdown",
   "metadata": {},
   "source": [
    "### Router\n",
    "Once you have a serving function, you need to choose the graph topology. The default is `router` topology. With the `router` topology you can specify different machine learning models. Each model has a logical name. This name is used to route to the correct model when calling the serving function."
   ]
  },
  {
   "cell_type": "code",
   "execution_count": 24,
   "metadata": {},
   "outputs": [],
   "source": [
    "model_path = \"https://s3.wasabisys.com/iguazio/models/iris/model.pkl\"\n",
    "# model_path = project.get_artifact_uri('my_model')"
   ]
  },
  {
   "cell_type": "code",
   "execution_count": 25,
   "metadata": {},
   "outputs": [
    {
     "name": "stdout",
     "output_type": "stream",
     "text": [
      "> 2022-05-26 03:37:06,481 [info] model model1 was loaded\n",
      "> 2022-05-26 03:37:06,481 [info] Loaded ['model1']\n",
      "{'id': '6e4f1fb7bb364a3690fc87c945fd116a', 'model_name': 'model1', 'outputs': [0, 0, 0, 0, 0, 0, 0, 0, 0, 0, 0, 0, 0, 0, 0, 0, 0, 0, 0, 0, 0, 0, 0, 0, 0, 0, 0, 0, 0, 0, 0, 0, 0, 0, 0, 0, 0, 0, 0, 0, 0, 0, 0, 0, 0, 0, 0, 0, 0, 0, 1, 1, 2, 1, 1, 1, 1, 1, 1, 1, 1, 1, 1, 1, 1, 1, 1, 1, 1, 1, 1, 1, 2, 1, 1, 1, 1, 2, 1, 1, 1, 1, 1, 2, 1, 1, 1, 1, 1, 1, 1, 1, 1, 1, 1, 1, 1, 1, 1, 1, 2, 2, 2, 2, 2, 2, 1, 2, 2, 2, 2, 2, 2, 2, 2, 2, 2, 2, 2, 2, 2, 2, 2, 2, 2, 2, 1, 2, 2, 2, 2, 2, 2, 2, 2, 2, 2, 2, 1, 2, 2, 2, 2, 2, 2, 2, 2, 2, 2, 2]}\n"
     ]
    },
    {
     "name": "stderr",
     "output_type": "stream",
     "text": [
      "Trying to unpickle estimator DecisionTreeClassifier from version 0.23.2 when using version 1.0.2. This might lead to breaking code or invalid results. Use at your own risk. For more info please refer to:\n",
      "https://scikit-learn.org/stable/modules/model_persistence.html#security-maintainability-limitations\n",
      "Trying to unpickle estimator AdaBoostClassifier from version 0.23.2 when using version 1.0.2. This might lead to breaking code or invalid results. Use at your own risk. For more info please refer to:\n",
      "https://scikit-learn.org/stable/modules/model_persistence.html#security-maintainability-limitations\n"
     ]
    }
   ],
   "source": [
    "from sklearn.datasets import load_iris\n",
    "\n",
    "# set the topology/router\n",
    "graph = fn.set_topology(\"router\")\n",
    "\n",
    "# Add the model\n",
    "fn.add_model(\"model1\", class_name=\"ClassifierModel\", model_path=model_path)\n",
    "\n",
    "# Add additional models\n",
    "#fn.add_model(\"model2\", class_name=\"ClassifierModel\", model_path=\"<path2>\")\n",
    "\n",
    "# create and use the graph simulator\n",
    "server = fn.to_mock_server()\n",
    "x = load_iris()['data'].tolist()\n",
    "result = server.test(\"/v2/models/model1/infer\", {\"inputs\": x})\n",
    "\n",
    "print(result)"
   ]
  },
  {
   "cell_type": "markdown",
   "metadata": {},
   "source": [
    "### Flow\n",
    "\n",
    "You can use the `flow` topology to specify tasks, which typically manipulates the data. The most common scenario is pre-processing of data prior to the model execution.\n",
    "\n",
    "```{note} Once the topology is set, you cannot change an existing function toplogy.\n",
    "```\n",
    "\n",
    "In this topology, you build and connect the graph (DAG) by adding steps using the `step.to()` method, or by using the \n",
    "`graph.add_step()` method.\n",
    "\n",
    "> The `step.to()` is typically used to chain steps together. `graph.add_step` can add steps anywhere on the\n",
    "> graph and has `before` and `after` parameters to specify the location of the step."
   ]
  },
  {
   "cell_type": "markdown",
   "metadata": {},
   "source": [
    "<!-- show example without router -->"
   ]
  },
  {
   "cell_type": "code",
   "execution_count": 26,
   "metadata": {
    "scrolled": true
   },
   "outputs": [
    {
     "data": {
      "image/svg+xml": [
       "<?xml version=\"1.0\" encoding=\"UTF-8\" standalone=\"no\"?>\n",
       "<!DOCTYPE svg PUBLIC \"-//W3C//DTD SVG 1.1//EN\"\n",
       " \"http://www.w3.org/Graphics/SVG/1.1/DTD/svg11.dtd\">\n",
       "<!-- Generated by graphviz version 2.40.1 (20161225.0304)\n",
       " -->\n",
       "<!-- Title: mlrun&#45;flow Pages: 1 -->\n",
       "<svg width=\"432pt\" height=\"84pt\"\n",
       " viewBox=\"0.00 0.00 432.42 84.00\" xmlns=\"http://www.w3.org/2000/svg\" xmlns:xlink=\"http://www.w3.org/1999/xlink\">\n",
       "<g id=\"graph0\" class=\"graph\" transform=\"scale(1 1) rotate(0) translate(4 80)\">\n",
       "<title>mlrun&#45;flow</title>\n",
       "<polygon fill=\"#ffffff\" stroke=\"transparent\" points=\"-4,4 -4,-80 428.425,-80 428.425,4 -4,4\"/>\n",
       "<g id=\"clust1\" class=\"cluster\">\n",
       "<title>cluster_router</title>\n",
       "<polygon fill=\"none\" stroke=\"#000000\" points=\"215.1919,-8 215.1919,-68 416.425,-68 416.425,-8 215.1919,-8\"/>\n",
       "</g>\n",
       "<!-- _start -->\n",
       "<g id=\"node1\" class=\"node\">\n",
       "<title>_start</title>\n",
       "<polygon fill=\"#d3d3d3\" stroke=\"#000000\" points=\"38.5476,-20.0493 40.698,-20.1479 42.8263,-20.2953 44.9236,-20.4913 46.9815,-20.7353 48.9917,-21.0266 50.9463,-21.3645 52.8377,-21.7479 54.6587,-22.1759 56.4025,-22.6472 58.0628,-23.1606 59.634,-23.7147 61.1107,-24.308 62.4882,-24.9388 63.7625,-25.6054 64.9302,-26.3059 65.9882,-27.0385 66.9343,-27.8012 67.7669,-28.5918 68.4849,-29.4082 69.0878,-30.2481 69.5758,-31.1093 69.9496,-31.9894 70.2102,-32.886 70.3595,-33.7965 70.3997,-34.7186 70.3334,-35.6497 70.1636,-36.5873 69.8937,-37.5287 69.5276,-38.4713 69.0691,-39.4127 68.5225,-40.3503 67.8923,-41.2814 67.1831,-42.2035 66.3996,-43.114 65.5464,-44.0106 64.6285,-44.8907 63.6504,-45.7519 62.617,-46.5918 61.5329,-47.4082 60.4024,-48.1988 59.2299,-48.9615 58.0197,-49.6941 56.7755,-50.3946 55.5012,-51.0612 54.2002,-51.692 52.8757,-52.2853 51.5309,-52.8394 50.1684,-53.3528 48.7908,-53.8241 47.4003,-54.2521 45.9989,-54.6355 44.5886,-54.9734 43.1708,-55.2647 41.7472,-55.5087 40.3189,-55.7047 38.8872,-55.8521 37.4531,-55.9507 36.0175,-56 34.5815,-56 33.146,-55.9507 31.7119,-55.8521 30.2801,-55.7047 28.8519,-55.5087 27.4282,-55.2647 26.0105,-54.9734 24.6001,-54.6355 23.1988,-54.2521 21.8083,-53.8241 20.4306,-53.3528 19.0681,-52.8394 17.7233,-52.2853 16.3989,-51.692 15.0979,-51.0612 13.8236,-50.3946 12.5794,-49.6941 11.3691,-48.9615 10.1967,-48.1988 9.0662,-47.4082 7.982,-46.5918 6.9486,-45.7519 5.9706,-44.8907 5.0526,-44.0106 4.1995,-43.114 3.4159,-42.2035 2.7067,-41.2814 2.0765,-40.3503 1.53,-39.4127 1.0715,-38.4713 .7053,-37.5287 .4355,-36.5873 .2657,-35.6497 .1993,-34.7186 .2395,-33.7965 .3888,-32.886 .6495,-31.9894 1.0232,-31.1093 1.5112,-30.2481 2.1141,-29.4082 2.8321,-28.5918 3.6647,-27.8012 4.6109,-27.0385 5.6689,-26.3059 6.8365,-25.6054 8.1108,-24.9388 9.4884,-24.308 10.9651,-23.7147 12.5362,-23.1606 14.1966,-22.6472 15.9404,-22.1759 17.7614,-21.7479 19.6528,-21.3645 21.6074,-21.0266 23.6176,-20.7353 25.6755,-20.4913 27.7728,-20.2953 29.901,-20.1479 32.0515,-20.0493 34.2154,-20 36.3837,-20 38.5476,-20.0493\"/>\n",
       "<text text-anchor=\"middle\" x=\"35.2995\" y=\"-34.3\" font-family=\"Times,serif\" font-size=\"14.00\" fill=\"#000000\">start</text>\n",
       "</g>\n",
       "<!-- enrich -->\n",
       "<g id=\"node2\" class=\"node\">\n",
       "<title>enrich</title>\n",
       "<ellipse fill=\"none\" stroke=\"#000000\" cx=\"146.8955\" cy=\"-38\" rx=\"40.0939\" ry=\"18\"/>\n",
       "<text text-anchor=\"middle\" x=\"146.8955\" y=\"-34.3\" font-family=\"Times,serif\" font-size=\"14.00\" fill=\"#000000\">enrich</text>\n",
       "</g>\n",
       "<!-- _start&#45;&gt;enrich -->\n",
       "<g id=\"edge1\" class=\"edge\">\n",
       "<title>_start&#45;&gt;enrich</title>\n",
       "<path fill=\"none\" stroke=\"#000000\" d=\"M69.9975,-38C78.2752,-38 87.2796,-38 96.1148,-38\"/>\n",
       "<polygon fill=\"#000000\" stroke=\"#000000\" points=\"96.3553,-41.5001 106.3553,-38 96.3552,-34.5001 96.3553,-41.5001\"/>\n",
       "</g>\n",
       "<!-- router -->\n",
       "<g id=\"node3\" class=\"node\">\n",
       "<title>router</title>\n",
       "<polygon fill=\"none\" stroke=\"#000000\" points=\"314.532,-30.5442 314.532,-45.4558 288.9193,-56 252.6976,-56 227.0849,-45.4558 227.0849,-30.5442 252.6976,-20 288.9193,-20 314.532,-30.5442\"/>\n",
       "<polygon fill=\"none\" stroke=\"#000000\" points=\"318.5418,-27.8677 318.5418,-48.1323 289.7142,-60 251.9027,-60 223.0751,-48.1323 223.0751,-27.8677 251.9027,-16 289.7142,-16 318.5418,-27.8677\"/>\n",
       "<text text-anchor=\"middle\" x=\"270.8084\" y=\"-34.3\" font-family=\"Times,serif\" font-size=\"14.00\" fill=\"#000000\">router</text>\n",
       "</g>\n",
       "<!-- enrich&#45;&gt;router -->\n",
       "<g id=\"edge3\" class=\"edge\">\n",
       "<title>enrich&#45;&gt;router</title>\n",
       "<path fill=\"none\" stroke=\"#000000\" d=\"M187.4692,-38C195.498,-38 204.0728,-38 212.5547,-38\"/>\n",
       "<polygon fill=\"#000000\" stroke=\"#000000\" points=\"212.8118,-41.5001 222.8118,-38 212.8118,-34.5001 212.8118,-41.5001\"/>\n",
       "</g>\n",
       "<!-- router/m1 -->\n",
       "<g id=\"node4\" class=\"node\">\n",
       "<title>router/m1</title>\n",
       "<ellipse fill=\"none\" stroke=\"#000000\" cx=\"381.425\" cy=\"-38\" rx=\"27\" ry=\"18\"/>\n",
       "<text text-anchor=\"middle\" x=\"381.425\" y=\"-34.3\" font-family=\"Times,serif\" font-size=\"14.00\" fill=\"#000000\">m1</text>\n",
       "</g>\n",
       "<!-- router&#45;&gt;router/m1 -->\n",
       "<g id=\"edge2\" class=\"edge\">\n",
       "<title>router&#45;&gt;router/m1</title>\n",
       "<path fill=\"none\" stroke=\"#000000\" d=\"M318.6831,-38C327.1277,-38 335.8077,-38 343.9164,-38\"/>\n",
       "<polygon fill=\"#000000\" stroke=\"#000000\" points=\"344.1792,-41.5001 354.1791,-38 344.1791,-34.5001 344.1792,-41.5001\"/>\n",
       "</g>\n",
       "</g>\n",
       "</svg>\n"
      ],
      "text/plain": [
       "<graphviz.dot.Digraph at 0x7f1460cffcd0>"
      ]
     },
     "execution_count": 26,
     "metadata": {},
     "output_type": "execute_result"
    }
   ],
   "source": [
    "fn2 = mlrun.code_to_function(\"serving_example_flow\",\n",
    "                             kind=\"serving\", \n",
    "                             image=\"mlrun/mlrun\")\n",
    "\n",
    "graph2 = fn2.set_topology(\"flow\")     \n",
    "\n",
    "graph2_enrich = graph2.to(\"storey.Extend\", name=\"enrich\", _fn='({\"tag\": \"something\"})')\n",
    "\n",
    "# add an Ensemble router with two child models (routes)\n",
    "router = graph2.add_step(mlrun.serving.ModelRouter(), name=\"router\", after=\"enrich\")\n",
    "router.add_route(\"m1\", class_name=\"ClassifierModel\", model_path=model_path)\n",
    "router.respond()\n",
    "\n",
    "# Add additional models\n",
    "# router.add_route(\"m2\", class_name=\"ClassifierModel\", model_path=path2)\n",
    "\n",
    "# plot the graph (using Graphviz)\n",
    "graph2.plot(rankdir='LR')"
   ]
  },
  {
   "cell_type": "markdown",
   "metadata": {},
   "source": [
    "### Test the serving graph with a local mock server"
   ]
  },
  {
   "cell_type": "code",
   "execution_count": 27,
   "metadata": {},
   "outputs": [
    {
     "name": "stdout",
     "output_type": "stream",
     "text": [
      "> 2022-05-26 03:37:31,306 [info] model m1 was loaded\n",
      "> 2022-05-26 03:37:31,307 [info] Loaded ['m1']\n",
      "{'id': 'dacd7187c9cb408e8613c2408b45ce3a', 'model_name': 'm1', 'outputs': [0, 0, 0, 0, 0, 0, 0, 0, 0, 0, 0, 0, 0, 0, 0, 0, 0, 0, 0, 0, 0, 0, 0, 0, 0, 0, 0, 0, 0, 0, 0, 0, 0, 0, 0, 0, 0, 0, 0, 0, 0, 0, 0, 0, 0, 0, 0, 0, 0, 0, 1, 1, 2, 1, 1, 1, 1, 1, 1, 1, 1, 1, 1, 1, 1, 1, 1, 1, 1, 1, 1, 1, 2, 1, 1, 1, 1, 2, 1, 1, 1, 1, 1, 2, 1, 1, 1, 1, 1, 1, 1, 1, 1, 1, 1, 1, 1, 1, 1, 1, 2, 2, 2, 2, 2, 2, 1, 2, 2, 2, 2, 2, 2, 2, 2, 2, 2, 2, 2, 2, 2, 2, 2, 2, 2, 2, 1, 2, 2, 2, 2, 2, 2, 2, 2, 2, 2, 2, 1, 2, 2, 2, 2, 2, 2, 2, 2, 2, 2, 2]}\n"
     ]
    },
    {
     "name": "stderr",
     "output_type": "stream",
     "text": [
      "Trying to unpickle estimator DecisionTreeClassifier from version 0.23.2 when using version 1.0.2. This might lead to breaking code or invalid results. Use at your own risk. For more info please refer to:\n",
      "https://scikit-learn.org/stable/modules/model_persistence.html#security-maintainability-limitations\n",
      "Trying to unpickle estimator AdaBoostClassifier from version 0.23.2 when using version 1.0.2. This might lead to breaking code or invalid results. Use at your own risk. For more info please refer to:\n",
      "https://scikit-learn.org/stable/modules/model_persistence.html#security-maintainability-limitations\n"
     ]
    }
   ],
   "source": [
    "fn2_server = fn2.to_mock_server()\n",
    "\n",
    "result = fn2_server.test(\"/v2/models/m1/infer\", {\"inputs\": x})\n",
    "\n",
    "print(result)"
   ]
  },
  {
   "cell_type": "code",
   "execution_count": null,
   "metadata": {},
   "outputs": [],
   "source": []
  }
 ],
 "metadata": {
  "kernelspec": {
   "display_name": "Python 3",
   "language": "python",
   "name": "python3"
  },
  "language_info": {
   "codemirror_mode": {
    "name": "ipython",
    "version": 3
   },
   "file_extension": ".py",
   "mimetype": "text/x-python",
   "name": "python",
   "nbconvert_exporter": "python",
   "pygments_lexer": "ipython3",
   "version": "3.7.6"
  }
 },
 "nbformat": 4,
 "nbformat_minor": 4
}
