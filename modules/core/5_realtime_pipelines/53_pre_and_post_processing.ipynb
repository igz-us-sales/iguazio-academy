{
 "cells": [
  {
   "cell_type": "markdown",
   "metadata": {},
   "source": [
    "# Model serving graph with pre-processing and post-processing\n",
    "\n",
    "\n",
    "This example demonstrates how to use MLRun serving graphs and their advanced functionality including:\n",
    "* Use of flow, task, model\n",
    "* Build tasks from custom handlers, classes and storey components\n",
    "* Test graphs locally\n",
    "* Deploy the graph as a real-time serverless functions\n",
    "\n",
    "**In this example**\n",
    "- [Define functions and classes used in the graph](#define-functions-and-classes-used-in-the-graph)\n",
    "- [Create a new serving function and graph](#create-a-new-serving-function-and-graph)\n",
    "- [Test the function locally](#test-the-function-locally)\n",
    "- [Deploy the graph as a real-time serverless function](#deploy-the-graph-as-a-real-time-serverless-function)"
   ]
  },
  {
   "cell_type": "code",
   "execution_count": 34,
   "metadata": {},
   "outputs": [],
   "source": [
    "import mlrun"
   ]
  },
  {
   "cell_type": "markdown",
   "metadata": {},
   "source": [
    "## Define functions and classes used in the graph"
   ]
  },
  {
   "cell_type": "code",
   "execution_count": 35,
   "metadata": {},
   "outputs": [],
   "source": [
    "from cloudpickle import load\n",
    "from typing import List\n",
    "from sklearn.datasets import load_iris\n",
    "import numpy as np\n",
    "\n",
    "# model serving class example\n",
    "class ClassifierModel(mlrun.serving.V2ModelServer):\n",
    "    def load(self):\n",
    "        \"\"\"load and initialize the model and/or other elements\"\"\"\n",
    "        model_file, extra_data = self.get_model('.pkl')\n",
    "        self.model = load(open(model_file, 'rb'))\n",
    "\n",
    "    def predict(self, body: dict) -> List:\n",
    "        \"\"\"Generate model predictions from sample.\"\"\"\n",
    "        feats = np.asarray(body['inputs'])\n",
    "        result: np.ndarray = self.model.predict(feats)\n",
    "        return result.tolist()\n",
    "\n",
    "# echo class, custom class example\n",
    "class Echo:\n",
    "    def __init__(self, context, name=None, **kw):\n",
    "        self.context = context\n",
    "        self.name = name\n",
    "        self.kw = kw\n",
    "        \n",
    "    def do(self, x):\n",
    "        print(\"Echo:\", self.name, x)\n",
    "        return x\n",
    "\n",
    "# error echo function, demo catching error and using custom function\n",
    "def error_catcher(x):\n",
    "        x.body = {\"body\": x.body, \"origin_state\": x.origin_state, \"error\": x.error}\n",
    "        print(\"EchoError:\", x)\n",
    "        return None"
   ]
  },
  {
   "cell_type": "code",
   "execution_count": 36,
   "metadata": {},
   "outputs": [],
   "source": [
    "# mark the end of the code section, DO NOT REMOVE !\n",
    "# mlrun: end-code"
   ]
  },
  {
   "cell_type": "markdown",
   "metadata": {},
   "source": [
    "## Create a new serving function and graph\n",
    "Use `code_to_function` to convert the above code into a serving function object and initialize a graph with async flow topology."
   ]
  },
  {
   "cell_type": "code",
   "execution_count": 37,
   "metadata": {},
   "outputs": [],
   "source": [
    "function = mlrun.code_to_function(\"advanced\", kind=\"serving\", \n",
    "                                  image=\"mlrun/mlrun\",\n",
    "                                  requirements=['storey'])\n",
    "graph = function.set_topology(\"flow\", engine=\"async\")\n",
    "#function.verbose = True"
   ]
  },
  {
   "cell_type": "markdown",
   "metadata": {},
   "source": [
    "Specify the sklearn models that are used in the ensemble."
   ]
  },
  {
   "cell_type": "code",
   "execution_count": 39,
   "metadata": {},
   "outputs": [],
   "source": [
    "models_path = 'https://s3.wasabisys.com/iguazio/models/iris/model.pkl'\n",
    "path1 = models_path"
   ]
  },
  {
   "cell_type": "markdown",
   "metadata": {},
   "source": [
    "Build and connect the graph (DAG) using the custom function and classes and plot the result. Add states \n",
    "using the `state.to()` method (adds a new state after the current one), or using the \n",
    "`graph.add_step()` method.\n",
    "\n",
    "Use the `graph.error_handler()` (apply to all states) or `state.error_handler()` (apply to a specific state) if you want the error from the graph or the state to be fed into a specific state (catcher).\n",
    "\n",
    "You can specify which state is the responder (returns the HTTP response) using the `state.respond()` method.\n",
    "If you don't specify the responder, the graph is non-blocking."
   ]
  },
  {
   "cell_type": "code",
   "execution_count": 40,
   "metadata": {},
   "outputs": [
    {
     "data": {
      "image/svg+xml": [
       "<?xml version=\"1.0\" encoding=\"UTF-8\" standalone=\"no\"?>\n",
       "<!DOCTYPE svg PUBLIC \"-//W3C//DTD SVG 1.1//EN\"\n",
       " \"http://www.w3.org/Graphics/SVG/1.1/DTD/svg11.dtd\">\n",
       "<!-- Generated by graphviz version 2.40.1 (20161225.0304)\n",
       " -->\n",
       "<!-- Title: mlrun&#45;flow Pages: 1 -->\n",
       "<svg width=\"829pt\" height=\"158pt\"\n",
       " viewBox=\"0.00 0.00 829.45 158.00\" xmlns=\"http://www.w3.org/2000/svg\" xmlns:xlink=\"http://www.w3.org/1999/xlink\">\n",
       "<g id=\"graph0\" class=\"graph\" transform=\"scale(1 1) rotate(0) translate(4 154)\">\n",
       "<title>mlrun&#45;flow</title>\n",
       "<polygon fill=\"#ffffff\" stroke=\"transparent\" points=\"-4,4 -4,-154 825.4534,-154 825.4534,4 -4,4\"/>\n",
       "<g id=\"clust1\" class=\"cluster\">\n",
       "<title>cluster_ensemble</title>\n",
       "<polygon fill=\"none\" stroke=\"#000000\" points=\"382.4803,-44 382.4803,-104 673.5665,-104 673.5665,-44 382.4803,-44\"/>\n",
       "</g>\n",
       "<!-- _start -->\n",
       "<g id=\"node1\" class=\"node\">\n",
       "<title>_start</title>\n",
       "<polygon fill=\"#d3d3d3\" stroke=\"#000000\" points=\"38.5476,-85.0493 40.698,-85.1479 42.8263,-85.2953 44.9236,-85.4913 46.9815,-85.7353 48.9917,-86.0266 50.9463,-86.3645 52.8377,-86.7479 54.6587,-87.1759 56.4025,-87.6472 58.0628,-88.1606 59.634,-88.7147 61.1107,-89.308 62.4882,-89.9388 63.7625,-90.6054 64.9302,-91.3059 65.9882,-92.0385 66.9343,-92.8012 67.7669,-93.5918 68.4849,-94.4082 69.0878,-95.2481 69.5758,-96.1093 69.9496,-96.9894 70.2102,-97.886 70.3595,-98.7965 70.3997,-99.7186 70.3334,-100.6497 70.1636,-101.5873 69.8937,-102.5287 69.5276,-103.4713 69.0691,-104.4127 68.5225,-105.3503 67.8923,-106.2814 67.1831,-107.2035 66.3996,-108.114 65.5464,-109.0106 64.6285,-109.8907 63.6504,-110.7519 62.617,-111.5918 61.5329,-112.4082 60.4024,-113.1988 59.2299,-113.9615 58.0197,-114.6941 56.7755,-115.3946 55.5012,-116.0612 54.2002,-116.692 52.8757,-117.2853 51.5309,-117.8394 50.1684,-118.3528 48.7908,-118.8241 47.4003,-119.2521 45.9989,-119.6355 44.5886,-119.9734 43.1708,-120.2647 41.7472,-120.5087 40.3189,-120.7047 38.8872,-120.8521 37.4531,-120.9507 36.0175,-121 34.5815,-121 33.146,-120.9507 31.7119,-120.8521 30.2801,-120.7047 28.8519,-120.5087 27.4282,-120.2647 26.0105,-119.9734 24.6001,-119.6355 23.1988,-119.2521 21.8083,-118.8241 20.4306,-118.3528 19.0681,-117.8394 17.7233,-117.2853 16.3989,-116.692 15.0979,-116.0612 13.8236,-115.3946 12.5794,-114.6941 11.3691,-113.9615 10.1967,-113.1988 9.0662,-112.4082 7.982,-111.5918 6.9486,-110.7519 5.9706,-109.8907 5.0526,-109.0106 4.1995,-108.114 3.4159,-107.2035 2.7067,-106.2814 2.0765,-105.3503 1.53,-104.4127 1.0715,-103.4713 .7053,-102.5287 .4355,-101.5873 .2657,-100.6497 .1993,-99.7186 .2395,-98.7965 .3888,-97.886 .6495,-96.9894 1.0232,-96.1093 1.5112,-95.2481 2.1141,-94.4082 2.8321,-93.5918 3.6647,-92.8012 4.6109,-92.0385 5.6689,-91.3059 6.8365,-90.6054 8.1108,-89.9388 9.4884,-89.308 10.9651,-88.7147 12.5362,-88.1606 14.1966,-87.6472 15.9404,-87.1759 17.7614,-86.7479 19.6528,-86.3645 21.6074,-86.0266 23.6176,-85.7353 25.6755,-85.4913 27.7728,-85.2953 29.901,-85.1479 32.0515,-85.0493 34.2154,-85 36.3837,-85 38.5476,-85.0493\"/>\n",
       "<text text-anchor=\"middle\" x=\"35.2995\" y=\"-99.3\" font-family=\"Times,serif\" font-size=\"14.00\" fill=\"#000000\">start</text>\n",
       "</g>\n",
       "<!-- enrich -->\n",
       "<g id=\"node2\" class=\"node\">\n",
       "<title>enrich</title>\n",
       "<ellipse fill=\"none\" stroke=\"#000000\" cx=\"146.8955\" cy=\"-103\" rx=\"40.0939\" ry=\"18\"/>\n",
       "<text text-anchor=\"middle\" x=\"146.8955\" y=\"-99.3\" font-family=\"Times,serif\" font-size=\"14.00\" fill=\"#000000\">enrich</text>\n",
       "</g>\n",
       "<!-- _start&#45;&gt;enrich -->\n",
       "<g id=\"edge1\" class=\"edge\">\n",
       "<title>_start&#45;&gt;enrich</title>\n",
       "<path fill=\"none\" stroke=\"#000000\" d=\"M69.9975,-103C78.2752,-103 87.2796,-103 96.1148,-103\"/>\n",
       "<polygon fill=\"#000000\" stroke=\"#000000\" points=\"96.3553,-106.5001 106.3553,-103 96.3552,-99.5001 96.3553,-106.5001\"/>\n",
       "</g>\n",
       "<!-- pre&#45;process -->\n",
       "<g id=\"node3\" class=\"node\">\n",
       "<title>pre&#45;process</title>\n",
       "<ellipse fill=\"none\" stroke=\"#000000\" cx=\"288.8361\" cy=\"-103\" rx=\"65.7887\" ry=\"18\"/>\n",
       "<text text-anchor=\"middle\" x=\"288.8361\" y=\"-99.3\" font-family=\"Times,serif\" font-size=\"14.00\" fill=\"#000000\">pre&#45;process</text>\n",
       "</g>\n",
       "<!-- enrich&#45;&gt;pre&#45;process -->\n",
       "<g id=\"edge2\" class=\"edge\">\n",
       "<title>enrich&#45;&gt;pre&#45;process</title>\n",
       "<path fill=\"none\" stroke=\"#000000\" d=\"M187.57,-103C195.5188,-103 204.0918,-103 212.767,-103\"/>\n",
       "<polygon fill=\"#000000\" stroke=\"#000000\" points=\"212.9665,-106.5001 222.9665,-103 212.9664,-99.5001 212.9665,-106.5001\"/>\n",
       "</g>\n",
       "<!-- catcher -->\n",
       "<g id=\"node4\" class=\"node\">\n",
       "<title>catcher</title>\n",
       "<ellipse fill=\"none\" stroke=\"#000000\" cx=\"454.2771\" cy=\"-132\" rx=\"46.2923\" ry=\"18\"/>\n",
       "<text text-anchor=\"middle\" x=\"454.2771\" y=\"-128.3\" font-family=\"Times,serif\" font-size=\"14.00\" fill=\"#000000\">catcher</text>\n",
       "</g>\n",
       "<!-- pre&#45;process&#45;&gt;catcher -->\n",
       "<g id=\"edge3\" class=\"edge\">\n",
       "<title>pre&#45;process&#45;&gt;catcher</title>\n",
       "<path fill=\"none\" stroke=\"#000000\" stroke-dasharray=\"5,2\" d=\"M344.3858,-112.7373C362.9988,-115.9999 383.6765,-119.6245 402.0282,-122.8413\"/>\n",
       "<polygon fill=\"#000000\" stroke=\"#000000\" points=\"401.5022,-126.3024 411.9564,-124.5816 402.7109,-119.4075 401.5022,-126.3024\"/>\n",
       "</g>\n",
       "<!-- ensemble -->\n",
       "<g id=\"node5\" class=\"node\">\n",
       "<title>ensemble</title>\n",
       "<polygon fill=\"none\" stroke=\"#000000\" points=\"513.8842,-66.5442 513.8842,-81.4558 478.9672,-92 429.5871,-92 394.67,-81.4558 394.67,-66.5442 429.5871,-56 478.9672,-56 513.8842,-66.5442\"/>\n",
       "<polygon fill=\"none\" stroke=\"#000000\" points=\"517.8715,-63.5709 517.8715,-84.4291 479.5543,-96 428.9999,-96 390.6827,-84.4291 390.6827,-63.5709 428.9999,-52 479.5543,-52 517.8715,-63.5709\"/>\n",
       "<text text-anchor=\"middle\" x=\"454.2771\" y=\"-70.3\" font-family=\"Times,serif\" font-size=\"14.00\" fill=\"#000000\">ensemble</text>\n",
       "</g>\n",
       "<!-- pre&#45;process&#45;&gt;ensemble -->\n",
       "<g id=\"edge5\" class=\"edge\">\n",
       "<title>pre&#45;process&#45;&gt;ensemble</title>\n",
       "<path fill=\"none\" stroke=\"#000000\" d=\"M344.3858,-93.2627C356.4593,-91.1464 369.4016,-88.8778 382.0142,-86.6669\"/>\n",
       "<polygon fill=\"#000000\" stroke=\"#000000\" points=\"382.7902,-90.0843 392.0357,-84.9102 381.5816,-83.1894 382.7902,-90.0843\"/>\n",
       "</g>\n",
       "<!-- ensemble/m1 -->\n",
       "<g id=\"node6\" class=\"node\">\n",
       "<title>ensemble/m1</title>\n",
       "<ellipse fill=\"none\" stroke=\"#000000\" cx=\"638.5665\" cy=\"-74\" rx=\"27\" ry=\"18\"/>\n",
       "<text text-anchor=\"middle\" x=\"638.5665\" y=\"-70.3\" font-family=\"Times,serif\" font-size=\"14.00\" fill=\"#000000\">m1</text>\n",
       "</g>\n",
       "<!-- ensemble&#45;&gt;ensemble/m1 -->\n",
       "<g id=\"edge4\" class=\"edge\">\n",
       "<title>ensemble&#45;&gt;ensemble/m1</title>\n",
       "<path fill=\"none\" stroke=\"#000000\" d=\"M517.9571,-74C545.6892,-74 577.2358,-74 601.1085,-74\"/>\n",
       "<polygon fill=\"#000000\" stroke=\"#000000\" points=\"601.1654,-77.5001 611.1654,-74 601.1654,-70.5001 601.1654,-77.5001\"/>\n",
       "</g>\n",
       "<!-- post&#45;processing -->\n",
       "<g id=\"node7\" class=\"node\">\n",
       "<title>post&#45;processing</title>\n",
       "<ellipse fill=\"none\" stroke=\"#000000\" cx=\"638.5665\" cy=\"-18\" rx=\"84.485\" ry=\"18\"/>\n",
       "<text text-anchor=\"middle\" x=\"638.5665\" y=\"-14.3\" font-family=\"Times,serif\" font-size=\"14.00\" fill=\"#000000\">post&#45;processing</text>\n",
       "</g>\n",
       "<!-- ensemble&#45;&gt;post&#45;processing -->\n",
       "<g id=\"edge6\" class=\"edge\">\n",
       "<title>ensemble&#45;&gt;post&#45;processing</title>\n",
       "<path fill=\"none\" stroke=\"#000000\" d=\"M541.0825,-44.0012C545.4663,-42.6196 549.8153,-41.278 554.074,-40 560.4144,-38.0973 567.0504,-36.2035 573.6968,-34.371\"/>\n",
       "<polygon fill=\"#000000\" stroke=\"#000000\" points=\"574.6739,-37.7325 583.4085,-31.7361 572.8409,-30.9768 574.6739,-37.7325\"/>\n",
       "</g>\n",
       "<!-- final -->\n",
       "<g id=\"node8\" class=\"node\">\n",
       "<title>final</title>\n",
       "<ellipse fill=\"none\" stroke=\"#000000\" cx=\"790.2562\" cy=\"-18\" rx=\"31.3957\" ry=\"18\"/>\n",
       "<text text-anchor=\"middle\" x=\"790.2562\" y=\"-14.3\" font-family=\"Times,serif\" font-size=\"14.00\" fill=\"#000000\">final</text>\n",
       "</g>\n",
       "<!-- post&#45;processing&#45;&gt;final -->\n",
       "<g id=\"edge7\" class=\"edge\">\n",
       "<title>post&#45;processing&#45;&gt;final</title>\n",
       "<path fill=\"none\" stroke=\"#000000\" d=\"M723.2813,-18C732.0581,-18 740.6741,-18 748.6507,-18\"/>\n",
       "<polygon fill=\"#000000\" stroke=\"#000000\" points=\"748.7282,-21.5001 758.7281,-18 748.7281,-14.5001 748.7282,-21.5001\"/>\n",
       "</g>\n",
       "</g>\n",
       "</svg>\n"
      ],
      "text/plain": [
       "<graphviz.dot.Digraph at 0x7ff1800b4d50>"
      ]
     },
     "execution_count": 40,
     "metadata": {},
     "output_type": "execute_result"
    }
   ],
   "source": [
    "# use built-in storey class or our custom Echo class to create and link Task states\n",
    "graph.to(\"storey.Extend\", name=\"enrich\", _fn='({\"tag\": \"something\"})') \\\n",
    "     .to(class_name=\"Echo\", name=\"pre-process\", some_arg='abc').error_handler(\"catcher\")\n",
    "\n",
    "# add an Ensemble router, the \"*\" prefix mark it is a router class\n",
    "router = graph.add_step(\"*mlrun.serving.VotingEnsemble\", name=\"ensemble\", after=\"pre-process\")\n",
    "router.add_route(\"m1\", class_name=\"ClassifierModel\", model_path=path1)\n",
    "\n",
    "graph.add_step(class_name=\"Echo\", name=\"post-processing\", after=\"ensemble\")\n",
    "\n",
    "# add the final step (after the router) that handles post processing and responds to the client\n",
    "graph.add_step(class_name=\"Echo\", name=\"final\", after=\"post-processing\").respond()\n",
    "\n",
    "# add error handling state, run only when/if the \"pre-process\" state fails (keep after=\"\")  \n",
    "graph.add_step(handler=\"error_catcher\", name=\"catcher\", full_event=True, after=\"\")\n",
    "\n",
    "# plot the graph (using Graphviz) and run a test\n",
    "graph.plot(rankdir='LR')"
   ]
  },
  {
   "cell_type": "markdown",
   "metadata": {},
   "source": [
    "## Test the function locally\n",
    "Create a test set."
   ]
  },
  {
   "cell_type": "code",
   "execution_count": 41,
   "metadata": {},
   "outputs": [],
   "source": [
    "import random\n",
    "iris = load_iris()\n",
    "x = random.sample(iris['data'].tolist(), 5)"
   ]
  },
  {
   "cell_type": "markdown",
   "metadata": {},
   "source": [
    "Create a mock server (simulator) and test the graph with the test data.\n",
    "\n",
    "> Note: The model and router objects support a common serving protocol API, see the [protocol and API section](model-api.md)."
   ]
  },
  {
   "cell_type": "code",
   "execution_count": 42,
   "metadata": {},
   "outputs": [
    {
     "name": "stdout",
     "output_type": "stream",
     "text": [
      "> 2022-05-26 01:02:06,521 [info] model m1 was loaded\n",
      "Echo: pre-process {'inputs': [[6.0, 3.4, 4.5, 1.6], [5.3, 3.7, 1.5, 0.2], [5.7, 3.8, 1.7, 0.3], [4.8, 3.4, 1.6, 0.2], [6.2, 2.8, 4.8, 1.8]], 'tag': 'something'}\n",
      "Echo: post-processing {'id': '0151a992b96a40469656ebd4ddb41967', 'model_name': 'ensemble', 'outputs': [1, 0, 0, 0, 1], 'model_version': 'v1'}\n",
      "Echo: final {'id': '0151a992b96a40469656ebd4ddb41967', 'model_name': 'ensemble', 'outputs': [1, 0, 0, 0, 1], 'model_version': 'v1'}\n"
     ]
    },
    {
     "name": "stderr",
     "output_type": "stream",
     "text": [
      "Trying to unpickle estimator DecisionTreeClassifier from version 0.23.2 when using version 1.0.2. This might lead to breaking code or invalid results. Use at your own risk. For more info please refer to:\n",
      "https://scikit-learn.org/stable/modules/model_persistence.html#security-maintainability-limitations\n",
      "Trying to unpickle estimator AdaBoostClassifier from version 0.23.2 when using version 1.0.2. This might lead to breaking code or invalid results. Use at your own risk. For more info please refer to:\n",
      "https://scikit-learn.org/stable/modules/model_persistence.html#security-maintainability-limitations\n"
     ]
    },
    {
     "data": {
      "text/plain": [
       "{'id': '0151a992b96a40469656ebd4ddb41967',\n",
       " 'model_name': 'ensemble',\n",
       " 'outputs': [1, 0, 0, 0, 1],\n",
       " 'model_version': 'v1'}"
      ]
     },
     "execution_count": 42,
     "metadata": {},
     "output_type": "execute_result"
    }
   ],
   "source": [
    "server = function.to_mock_server()\n",
    "resp = server.test(\"/v2/models/infer\", body={\"inputs\": x})\n",
    "server.wait_for_completion()\n",
    "resp"
   ]
  },
  {
   "cell_type": "markdown",
   "metadata": {},
   "source": [
    "## Deploy the graph as a real-time serverless function"
   ]
  },
  {
   "cell_type": "code",
   "execution_count": 43,
   "metadata": {},
   "outputs": [
    {
     "name": "stdout",
     "output_type": "stream",
     "text": [
      "> 2022-05-26 01:02:08,573 [info] Starting remote function deploy\n",
      "2022-05-26 01:02:08  (info) Deploying function\n",
      "2022-05-26 01:02:08  (info) Building\n",
      "2022-05-26 01:02:08  (info) Staging files and preparing base images\n",
      "2022-05-26 01:02:09  (info) Building processor image\n",
      "2022-05-26 01:02:54  (info) Build complete\n",
      "2022-05-26 01:03:02  (info) Function deploy complete\n",
      "> 2022-05-26 01:03:03,121 [info] successfully deployed function: {'internal_invocation_urls': ['nuclio-default-advanced.default-tenant.svc.cluster.local:8080'], 'external_invocation_urls': ['default-advanced-default.default-tenant.app.us-sales-341.iguazio-cd1.com/']}\n"
     ]
    },
    {
     "data": {
      "text/plain": [
       "'http://default-advanced-default.default-tenant.app.us-sales-341.iguazio-cd1.com/'"
      ]
     },
     "execution_count": 43,
     "metadata": {},
     "output_type": "execute_result"
    }
   ],
   "source": [
    "function.deploy()"
   ]
  },
  {
   "cell_type": "markdown",
   "metadata": {},
   "source": [
    "<b>Invoke the remote function using the test data</b>"
   ]
  },
  {
   "cell_type": "code",
   "execution_count": 44,
   "metadata": {},
   "outputs": [
    {
     "name": "stdout",
     "output_type": "stream",
     "text": [
      "> 2022-05-26 01:03:20,174 [info] invoking function: {'method': 'POST', 'path': 'http://nuclio-default-advanced.default-tenant.svc.cluster.local:8080/v2/models/infer'}\n"
     ]
    },
    {
     "data": {
      "text/plain": [
       "{'id': '858bf9ab-56c0-4e0b-97b2-bd9c003b5e47',\n",
       " 'model_name': 'ensemble',\n",
       " 'outputs': [1, 0, 0, 0, 1],\n",
       " 'model_version': 'v1'}"
      ]
     },
     "execution_count": 44,
     "metadata": {},
     "output_type": "execute_result"
    }
   ],
   "source": [
    "function.invoke(\"/v2/models/infer\", body={\"inputs\": x})"
   ]
  },
  {
   "cell_type": "code",
   "execution_count": null,
   "metadata": {},
   "outputs": [],
   "source": []
  }
 ],
 "metadata": {
  "kernelspec": {
   "display_name": "Python 3",
   "language": "python",
   "name": "python3"
  },
  "language_info": {
   "codemirror_mode": {
    "name": "ipython",
    "version": 3
   },
   "file_extension": ".py",
   "mimetype": "text/x-python",
   "name": "python",
   "nbconvert_exporter": "python",
   "pygments_lexer": "ipython3",
   "version": "3.7.6"
  }
 },
 "nbformat": 4,
 "nbformat_minor": 4
}
