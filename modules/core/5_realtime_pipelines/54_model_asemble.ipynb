{
 "cells": [
  {
   "cell_type": "markdown",
   "metadata": {},
   "source": [
    "# 5.4: Model assemble\n",
    "\n",
    "This example demonstrates how to use MLRun serving graphs and their advanced functionality including:\n",
    "* Use of flow, task, model, and ensemble router states\n",
    "* Build tasks from custom handlers, classes and storey components\n",
    "* Use custom error handlers\n",
    "* Test graphs locally\n",
    "* Deploy the graph as a real-time serverless functions\n",
    "\n",
    "**In this example**\n",
    "- [Define functions and classes used in the graph](#define-functions-and-classes-used-in-the-graph)\n",
    "- [Create a new serving function and graph](#create-a-new-serving-function-and-graph)\n",
    "- [Test the function locally](#test-the-function-locally)\n",
    "- [Deploy the graph as a real-time serverless function](#deploy-the-graph-as-a-real-time-serverless-function)"
   ]
  },
  {
   "cell_type": "code",
   "execution_count": 1,
   "metadata": {},
   "outputs": [],
   "source": [
    "import mlrun"
   ]
  },
  {
   "cell_type": "markdown",
   "metadata": {},
   "source": [
    "## Define functions and classes used in the graph"
   ]
  },
  {
   "cell_type": "code",
   "execution_count": 2,
   "metadata": {},
   "outputs": [],
   "source": [
    "from cloudpickle import load\n",
    "from typing import List\n",
    "from sklearn.datasets import load_iris\n",
    "import numpy as np\n",
    "import mlrun\n",
    "\n",
    "# model serving class example\n",
    "class ClassifierModel(mlrun.serving.V2ModelServer):\n",
    "    def load(self):\n",
    "        \"\"\"load and initialize the model and/or other elements\"\"\"\n",
    "        model_file, extra_data = self.get_model('.pkl')\n",
    "        self.model = load(open(model_file, 'rb'))\n",
    "\n",
    "    def predict(self, body: dict) -> List:\n",
    "        \"\"\"Generate model predictions from sample.\"\"\"\n",
    "        feats = np.asarray(body['inputs'])\n",
    "        result: np.ndarray = self.model.predict(feats)\n",
    "        return result.tolist()\n",
    "\n",
    "# echo class, custom class example\n",
    "class Echo:\n",
    "    def __init__(self, context, name=None, **kw):\n",
    "        self.context = context\n",
    "        self.name = name\n",
    "        self.kw = kw\n",
    "        \n",
    "    def do(self, x):\n",
    "        print(\"Echo:\", self.name, x)\n",
    "        return x\n",
    "\n",
    "# error echo function, demo catching error and using custom function\n",
    "def error_catcher(x):\n",
    "        x.body = {\"body\": x.body, \"origin_state\": x.origin_state, \"error\": x.error}\n",
    "        print(\"EchoError:\", x)\n",
    "        return None"
   ]
  },
  {
   "cell_type": "code",
   "execution_count": 3,
   "metadata": {},
   "outputs": [],
   "source": [
    "# mark the end of the code section, DO NOT REMOVE !\n",
    "# mlrun: end-code"
   ]
  },
  {
   "cell_type": "markdown",
   "metadata": {},
   "source": [
    "## Create a new serving function and graph\n",
    "Use `code_to_function` to convert the above code into a serving function object and initialize a graph with async flow topology."
   ]
  },
  {
   "cell_type": "code",
   "execution_count": 4,
   "metadata": {},
   "outputs": [],
   "source": [
    "function = mlrun.code_to_function(\"advanced\", kind=\"serving\", \n",
    "                                  image=\"mlrun/mlrun\",\n",
    "                                  requirements=['storey'])\n",
    "graph = function.set_topology(\"flow\", engine=\"async\")\n",
    "#function.verbose = True"
   ]
  },
  {
   "cell_type": "raw",
   "metadata": {},
   "source": []
  },
  {
   "cell_type": "markdown",
   "metadata": {},
   "source": [
    "Specify the sklearn models that are used in the ensemble."
   ]
  },
  {
   "cell_type": "code",
   "execution_count": 8,
   "metadata": {},
   "outputs": [],
   "source": [
    "models_path = 'https://s3.wasabisys.com/iguazio/models/iris/model.pkl'\n",
    "path1 = models_path\n",
    "path2 = models_path\n",
    "path3 = models_path"
   ]
  },
  {
   "cell_type": "markdown",
   "metadata": {},
   "source": [
    "Build and connect the graph (DAG) using the custom function and classes and plot the result. Add states \n",
    "using the `state.to()` method (adds a new state after the current one), or using the \n",
    "`graph.add_step()` method.\n",
    "\n",
    "Use the `graph.error_handler()` (apply to all states) or `state.error_handler()` (apply to a specific state) if you want the error from the graph or the state to be fed into a specific state (catcher).\n",
    "\n",
    "You can specify which state is the responder (returns the HTTP response) using the `state.respond()` method.\n",
    "If you don't specify the responder, the graph is non-blocking."
   ]
  },
  {
   "cell_type": "code",
   "execution_count": 9,
   "metadata": {},
   "outputs": [
    {
     "data": {
      "image/svg+xml": [
       "<?xml version=\"1.0\" encoding=\"UTF-8\" standalone=\"no\"?>\n",
       "<!DOCTYPE svg PUBLIC \"-//W3C//DTD SVG 1.1//EN\"\n",
       " \"http://www.w3.org/Graphics/SVG/1.1/DTD/svg11.dtd\">\n",
       "<!-- Generated by graphviz version 2.40.1 (20161225.0304)\n",
       " -->\n",
       "<!-- Title: mlrun&#45;flow Pages: 1 -->\n",
       "<svg width=\"636pt\" height=\"258pt\"\n",
       " viewBox=\"0.00 0.00 636.27 258.00\" xmlns=\"http://www.w3.org/2000/svg\" xmlns:xlink=\"http://www.w3.org/1999/xlink\">\n",
       "<g id=\"graph0\" class=\"graph\" transform=\"scale(1 1) rotate(0) translate(4 254)\">\n",
       "<title>mlrun&#45;flow</title>\n",
       "<polygon fill=\"#ffffff\" stroke=\"transparent\" points=\"-4,4 -4,-254 632.2712,-254 632.2712,4 -4,4\"/>\n",
       "<g id=\"clust1\" class=\"cluster\">\n",
       "<title>cluster_ensemble</title>\n",
       "<polygon fill=\"none\" stroke=\"#000000\" points=\"382.4803,-46 382.4803,-206 620.2712,-206 620.2712,-46 382.4803,-46\"/>\n",
       "</g>\n",
       "<!-- _start -->\n",
       "<g id=\"node1\" class=\"node\">\n",
       "<title>_start</title>\n",
       "<polygon fill=\"#d3d3d3\" stroke=\"#000000\" points=\"38.5476,-161.0493 40.698,-161.1479 42.8263,-161.2953 44.9236,-161.4913 46.9815,-161.7353 48.9917,-162.0266 50.9463,-162.3645 52.8377,-162.7479 54.6587,-163.1759 56.4025,-163.6472 58.0628,-164.1606 59.634,-164.7147 61.1107,-165.308 62.4882,-165.9388 63.7625,-166.6054 64.9302,-167.3059 65.9882,-168.0385 66.9343,-168.8012 67.7669,-169.5918 68.4849,-170.4082 69.0878,-171.2481 69.5758,-172.1093 69.9496,-172.9894 70.2102,-173.886 70.3595,-174.7965 70.3997,-175.7186 70.3334,-176.6497 70.1636,-177.5873 69.8937,-178.5287 69.5276,-179.4713 69.0691,-180.4127 68.5225,-181.3503 67.8923,-182.2814 67.1831,-183.2035 66.3996,-184.114 65.5464,-185.0106 64.6285,-185.8907 63.6504,-186.7519 62.617,-187.5918 61.5329,-188.4082 60.4024,-189.1988 59.2299,-189.9615 58.0197,-190.6941 56.7755,-191.3946 55.5012,-192.0612 54.2002,-192.692 52.8757,-193.2853 51.5309,-193.8394 50.1684,-194.3528 48.7908,-194.8241 47.4003,-195.2521 45.9989,-195.6355 44.5886,-195.9734 43.1708,-196.2647 41.7472,-196.5087 40.3189,-196.7047 38.8872,-196.8521 37.4531,-196.9507 36.0175,-197 34.5815,-197 33.146,-196.9507 31.7119,-196.8521 30.2801,-196.7047 28.8519,-196.5087 27.4282,-196.2647 26.0105,-195.9734 24.6001,-195.6355 23.1988,-195.2521 21.8083,-194.8241 20.4306,-194.3528 19.0681,-193.8394 17.7233,-193.2853 16.3989,-192.692 15.0979,-192.0612 13.8236,-191.3946 12.5794,-190.6941 11.3691,-189.9615 10.1967,-189.1988 9.0662,-188.4082 7.982,-187.5918 6.9486,-186.7519 5.9706,-185.8907 5.0526,-185.0106 4.1995,-184.114 3.4159,-183.2035 2.7067,-182.2814 2.0765,-181.3503 1.53,-180.4127 1.0715,-179.4713 .7053,-178.5287 .4355,-177.5873 .2657,-176.6497 .1993,-175.7186 .2395,-174.7965 .3888,-173.886 .6495,-172.9894 1.0232,-172.1093 1.5112,-171.2481 2.1141,-170.4082 2.8321,-169.5918 3.6647,-168.8012 4.6109,-168.0385 5.6689,-167.3059 6.8365,-166.6054 8.1108,-165.9388 9.4884,-165.308 10.9651,-164.7147 12.5362,-164.1606 14.1966,-163.6472 15.9404,-163.1759 17.7614,-162.7479 19.6528,-162.3645 21.6074,-162.0266 23.6176,-161.7353 25.6755,-161.4913 27.7728,-161.2953 29.901,-161.1479 32.0515,-161.0493 34.2154,-161 36.3837,-161 38.5476,-161.0493\"/>\n",
       "<text text-anchor=\"middle\" x=\"35.2995\" y=\"-175.3\" font-family=\"Times,serif\" font-size=\"14.00\" fill=\"#000000\">start</text>\n",
       "</g>\n",
       "<!-- enrich -->\n",
       "<g id=\"node2\" class=\"node\">\n",
       "<title>enrich</title>\n",
       "<ellipse fill=\"none\" stroke=\"#000000\" cx=\"146.8955\" cy=\"-179\" rx=\"40.0939\" ry=\"18\"/>\n",
       "<text text-anchor=\"middle\" x=\"146.8955\" y=\"-175.3\" font-family=\"Times,serif\" font-size=\"14.00\" fill=\"#000000\">enrich</text>\n",
       "</g>\n",
       "<!-- _start&#45;&gt;enrich -->\n",
       "<g id=\"edge1\" class=\"edge\">\n",
       "<title>_start&#45;&gt;enrich</title>\n",
       "<path fill=\"none\" stroke=\"#000000\" d=\"M69.9975,-179C78.2752,-179 87.2796,-179 96.1148,-179\"/>\n",
       "<polygon fill=\"#000000\" stroke=\"#000000\" points=\"96.3553,-182.5001 106.3553,-179 96.3552,-175.5001 96.3553,-182.5001\"/>\n",
       "</g>\n",
       "<!-- pre&#45;process -->\n",
       "<g id=\"node3\" class=\"node\">\n",
       "<title>pre&#45;process</title>\n",
       "<ellipse fill=\"none\" stroke=\"#000000\" cx=\"288.8361\" cy=\"-179\" rx=\"65.7887\" ry=\"18\"/>\n",
       "<text text-anchor=\"middle\" x=\"288.8361\" y=\"-175.3\" font-family=\"Times,serif\" font-size=\"14.00\" fill=\"#000000\">pre&#45;process</text>\n",
       "</g>\n",
       "<!-- enrich&#45;&gt;pre&#45;process -->\n",
       "<g id=\"edge2\" class=\"edge\">\n",
       "<title>enrich&#45;&gt;pre&#45;process</title>\n",
       "<path fill=\"none\" stroke=\"#000000\" d=\"M187.57,-179C195.5188,-179 204.0918,-179 212.767,-179\"/>\n",
       "<polygon fill=\"#000000\" stroke=\"#000000\" points=\"212.9665,-182.5001 222.9665,-179 212.9664,-175.5001 212.9665,-182.5001\"/>\n",
       "</g>\n",
       "<!-- catcher -->\n",
       "<g id=\"node4\" class=\"node\">\n",
       "<title>catcher</title>\n",
       "<ellipse fill=\"none\" stroke=\"#000000\" cx=\"454.2771\" cy=\"-232\" rx=\"46.2923\" ry=\"18\"/>\n",
       "<text text-anchor=\"middle\" x=\"454.2771\" y=\"-228.3\" font-family=\"Times,serif\" font-size=\"14.00\" fill=\"#000000\">catcher</text>\n",
       "</g>\n",
       "<!-- pre&#45;process&#45;&gt;catcher -->\n",
       "<g id=\"edge3\" class=\"edge\">\n",
       "<title>pre&#45;process&#45;&gt;catcher</title>\n",
       "<path fill=\"none\" stroke=\"#000000\" stroke-dasharray=\"5,2\" d=\"M330.7254,-193.0888C346.8741,-198.4619 365.5108,-204.5921 382.4803,-210 390.6938,-212.6176 399.4545,-215.3507 407.9316,-217.9651\"/>\n",
       "<polygon fill=\"#000000\" stroke=\"#000000\" points=\"407.1161,-221.3759 417.703,-220.9655 409.1709,-214.6843 407.1161,-221.3759\"/>\n",
       "</g>\n",
       "<!-- ensemble -->\n",
       "<g id=\"node5\" class=\"node\">\n",
       "<title>ensemble</title>\n",
       "<polygon fill=\"none\" stroke=\"#000000\" points=\"513.8842,-118.5442 513.8842,-133.4558 478.9672,-144 429.5871,-144 394.67,-133.4558 394.67,-118.5442 429.5871,-108 478.9672,-108 513.8842,-118.5442\"/>\n",
       "<polygon fill=\"none\" stroke=\"#000000\" points=\"517.8715,-115.5709 517.8715,-136.4291 479.5543,-148 428.9999,-148 390.6827,-136.4291 390.6827,-115.5709 428.9999,-104 479.5543,-104 517.8715,-115.5709\"/>\n",
       "<text text-anchor=\"middle\" x=\"454.2771\" y=\"-122.3\" font-family=\"Times,serif\" font-size=\"14.00\" fill=\"#000000\">ensemble</text>\n",
       "</g>\n",
       "<!-- pre&#45;process&#45;&gt;ensemble -->\n",
       "<g id=\"edge7\" class=\"edge\">\n",
       "<title>pre&#45;process&#45;&gt;ensemble</title>\n",
       "<path fill=\"none\" stroke=\"#000000\" d=\"M331.8719,-165.2132C351.715,-158.8564 375.5508,-151.2204 396.8953,-144.3826\"/>\n",
       "<polygon fill=\"#000000\" stroke=\"#000000\" points=\"398.0482,-147.6886 406.5036,-141.3045 395.9126,-141.0223 398.0482,-147.6886\"/>\n",
       "</g>\n",
       "<!-- ensemble/m1 -->\n",
       "<g id=\"node6\" class=\"node\">\n",
       "<title>ensemble/m1</title>\n",
       "<ellipse fill=\"none\" stroke=\"#000000\" cx=\"585.2712\" cy=\"-72\" rx=\"27\" ry=\"18\"/>\n",
       "<text text-anchor=\"middle\" x=\"585.2712\" y=\"-68.3\" font-family=\"Times,serif\" font-size=\"14.00\" fill=\"#000000\">m1</text>\n",
       "</g>\n",
       "<!-- ensemble&#45;&gt;ensemble/m1 -->\n",
       "<g id=\"edge4\" class=\"edge\">\n",
       "<title>ensemble&#45;&gt;ensemble/m1</title>\n",
       "<path fill=\"none\" stroke=\"#000000\" d=\"M496.0846,-108.7656C514.3613,-101.2314 535.4822,-92.5246 552.5814,-85.4758\"/>\n",
       "<polygon fill=\"#000000\" stroke=\"#000000\" points=\"554.2211,-88.5856 562.1325,-81.5385 551.5533,-82.1139 554.2211,-88.5856\"/>\n",
       "</g>\n",
       "<!-- ensemble/m2 -->\n",
       "<g id=\"node7\" class=\"node\">\n",
       "<title>ensemble/m2</title>\n",
       "<ellipse fill=\"none\" stroke=\"#000000\" cx=\"585.2712\" cy=\"-126\" rx=\"27\" ry=\"18\"/>\n",
       "<text text-anchor=\"middle\" x=\"585.2712\" y=\"-122.3\" font-family=\"Times,serif\" font-size=\"14.00\" fill=\"#000000\">m2</text>\n",
       "</g>\n",
       "<!-- ensemble&#45;&gt;ensemble/m2 -->\n",
       "<g id=\"edge5\" class=\"edge\">\n",
       "<title>ensemble&#45;&gt;ensemble/m2</title>\n",
       "<path fill=\"none\" stroke=\"#000000\" d=\"M518.2392,-126C528.4316,-126 538.6736,-126 547.9771,-126\"/>\n",
       "<polygon fill=\"#000000\" stroke=\"#000000\" points=\"548.0298,-129.5001 558.0297,-126 548.0297,-122.5001 548.0298,-129.5001\"/>\n",
       "</g>\n",
       "<!-- ensemble/m3 -->\n",
       "<g id=\"node8\" class=\"node\">\n",
       "<title>ensemble/m3</title>\n",
       "<ellipse fill=\"none\" stroke=\"#000000\" cx=\"585.2712\" cy=\"-180\" rx=\"27\" ry=\"18\"/>\n",
       "<text text-anchor=\"middle\" x=\"585.2712\" y=\"-176.3\" font-family=\"Times,serif\" font-size=\"14.00\" fill=\"#000000\">m3</text>\n",
       "</g>\n",
       "<!-- ensemble&#45;&gt;ensemble/m3 -->\n",
       "<g id=\"edge6\" class=\"edge\">\n",
       "<title>ensemble&#45;&gt;ensemble/m3</title>\n",
       "<path fill=\"none\" stroke=\"#000000\" d=\"M496.0846,-143.2344C514.3613,-150.7686 535.4822,-159.4754 552.5814,-166.5242\"/>\n",
       "<polygon fill=\"#000000\" stroke=\"#000000\" points=\"551.5533,-169.8861 562.1325,-170.4615 554.2211,-163.4144 551.5533,-169.8861\"/>\n",
       "</g>\n",
       "<!-- final -->\n",
       "<g id=\"node9\" class=\"node\">\n",
       "<title>final</title>\n",
       "<ellipse fill=\"none\" stroke=\"#000000\" cx=\"585.2712\" cy=\"-18\" rx=\"31.3957\" ry=\"18\"/>\n",
       "<text text-anchor=\"middle\" x=\"585.2712\" y=\"-14.3\" font-family=\"Times,serif\" font-size=\"14.00\" fill=\"#000000\">final</text>\n",
       "</g>\n",
       "<!-- ensemble&#45;&gt;final -->\n",
       "<g id=\"edge8\" class=\"edge\">\n",
       "<title>ensemble&#45;&gt;final</title>\n",
       "<path fill=\"none\" stroke=\"#000000\" d=\"M549.1214,-46.0003C550.7827,-44.6539 552.4346,-43.3195 554.074,-42 555.4281,-40.9101 556.8212,-39.7998 558.232,-38.684\"/>\n",
       "<polygon fill=\"#000000\" stroke=\"#000000\" points=\"560.6336,-41.2494 566.3604,-32.3357 556.3248,-35.7326 560.6336,-41.2494\"/>\n",
       "</g>\n",
       "</g>\n",
       "</svg>\n"
      ],
      "text/plain": [
       "<graphviz.dot.Digraph at 0x7f8043620050>"
      ]
     },
     "execution_count": 9,
     "metadata": {},
     "output_type": "execute_result"
    }
   ],
   "source": [
    "# use built-in storey class or our custom Echo class to create and link Task states\n",
    "graph.to(\"storey.Extend\", name=\"enrich\", _fn='({\"tag\": \"something\"})') \\\n",
    "     .to(class_name=\"Echo\", name=\"pre-process\", some_arg='abc').error_handler(\"catcher\")\n",
    "\n",
    "# add an Ensemble router with two child models (routes). The \"*\" prefix mark it is a router class\n",
    "router = graph.add_step(\"*mlrun.serving.VotingEnsemble\", name=\"ensemble\", after=\"pre-process\")\n",
    "router.add_route(\"m1\", class_name=\"ClassifierModel\", model_path=path1)\n",
    "router.add_route(\"m2\", class_name=\"ClassifierModel\", model_path=path2)\n",
    "router.add_route(\"m3\", class_name=\"ClassifierModel\", model_path=path3)\n",
    "# add the final step (after the router) that handles post processing and responds to the client\n",
    "graph.add_step(class_name=\"Echo\", name=\"final\", after=\"ensemble\").respond()\n",
    "\n",
    "# add error handling state, run only when/if the \"pre-process\" state fails (keep after=\"\")  \n",
    "graph.add_step(handler=\"error_catcher\", name=\"catcher\", full_event=True, after=\"\")\n",
    "\n",
    "# plot the graph (using Graphviz) and run a test\n",
    "graph.plot(rankdir='LR')"
   ]
  },
  {
   "cell_type": "markdown",
   "metadata": {},
   "source": [
    "## Test the function locally\n",
    "Create a test set."
   ]
  },
  {
   "cell_type": "code",
   "execution_count": 10,
   "metadata": {},
   "outputs": [],
   "source": [
    "import random\n",
    "iris = load_iris()\n",
    "x = random.sample(iris['data'].tolist(), 5)"
   ]
  },
  {
   "cell_type": "markdown",
   "metadata": {},
   "source": [
    "Create a mock server (simulator) and test the graph with the test data.\n",
    "\n",
    "> Note: The model and router objects support a common serving protocol API, see the [protocol and API section](model-api.md)."
   ]
  },
  {
   "cell_type": "code",
   "execution_count": 11,
   "metadata": {},
   "outputs": [
    {
     "name": "stdout",
     "output_type": "stream",
     "text": [
      "> 2022-05-26 03:31:55,351 [info] model m1 was loaded\n",
      "> 2022-05-26 03:31:55,488 [info] model m2 was loaded\n"
     ]
    },
    {
     "name": "stderr",
     "output_type": "stream",
     "text": [
      "Trying to unpickle estimator DecisionTreeClassifier from version 0.23.2 when using version 1.0.2. This might lead to breaking code or invalid results. Use at your own risk. For more info please refer to:\n",
      "https://scikit-learn.org/stable/modules/model_persistence.html#security-maintainability-limitations\n",
      "Trying to unpickle estimator AdaBoostClassifier from version 0.23.2 when using version 1.0.2. This might lead to breaking code or invalid results. Use at your own risk. For more info please refer to:\n",
      "https://scikit-learn.org/stable/modules/model_persistence.html#security-maintainability-limitations\n"
     ]
    },
    {
     "name": "stdout",
     "output_type": "stream",
     "text": [
      "> 2022-05-26 03:31:55,638 [info] model m3 was loaded\n",
      "Echo: pre-process {'inputs': [[6.7, 3.1, 4.7, 1.5], [4.9, 3.0, 1.4, 0.2], [5.8, 2.8, 5.1, 2.4], [5.3, 3.7, 1.5, 0.2], [6.3, 2.5, 5.0, 1.9]], 'tag': 'something'}\n",
      "Echo: final {'id': '230843a3b3a74de58cdf3d22c53e3843', 'model_name': 'ensemble', 'outputs': [1, 0, 2, 0, 2], 'model_version': 'v1'}\n"
     ]
    },
    {
     "data": {
      "text/plain": [
       "{'id': '230843a3b3a74de58cdf3d22c53e3843',\n",
       " 'model_name': 'ensemble',\n",
       " 'outputs': [1, 0, 2, 0, 2],\n",
       " 'model_version': 'v1'}"
      ]
     },
     "execution_count": 11,
     "metadata": {},
     "output_type": "execute_result"
    }
   ],
   "source": [
    "server = function.to_mock_server()\n",
    "resp = server.test(\"/v2/models/infer\", body={\"inputs\": x})\n",
    "server.wait_for_completion()\n",
    "resp"
   ]
  },
  {
   "cell_type": "markdown",
   "metadata": {},
   "source": [
    "## Deploy the graph as a real-time serverless function"
   ]
  },
  {
   "cell_type": "code",
   "execution_count": 12,
   "metadata": {},
   "outputs": [
    {
     "name": "stdout",
     "output_type": "stream",
     "text": [
      "> 2022-05-26 03:31:57,738 [info] Starting remote function deploy\n",
      "2022-05-26 03:31:57  (info) Deploying function\n",
      "2022-05-26 03:31:57  (info) Building\n",
      "2022-05-26 03:31:58  (info) Staging files and preparing base images\n",
      "2022-05-26 03:31:58  (info) Building processor image\n",
      "2022-05-26 03:32:43  (info) Build complete\n",
      "2022-05-26 03:32:53  (info) Function deploy complete\n",
      "> 2022-05-26 03:32:53,620 [info] successfully deployed function: {'internal_invocation_urls': ['nuclio-default-advanced.default-tenant.svc.cluster.local:8080'], 'external_invocation_urls': ['default-advanced-default.default-tenant.app.us-sales-341.iguazio-cd1.com/']}\n"
     ]
    },
    {
     "data": {
      "text/plain": [
       "'http://default-advanced-default.default-tenant.app.us-sales-341.iguazio-cd1.com/'"
      ]
     },
     "execution_count": 12,
     "metadata": {},
     "output_type": "execute_result"
    }
   ],
   "source": [
    "function.deploy()"
   ]
  },
  {
   "cell_type": "markdown",
   "metadata": {},
   "source": [
    "<b>Invoke the remote function using the test data</b>"
   ]
  },
  {
   "cell_type": "code",
   "execution_count": 14,
   "metadata": {},
   "outputs": [
    {
     "name": "stdout",
     "output_type": "stream",
     "text": [
      "> 2022-05-26 03:38:04,030 [info] invoking function: {'method': 'POST', 'path': 'http://nuclio-default-advanced.default-tenant.svc.cluster.local:8080/v2/models/infer'}\n"
     ]
    },
    {
     "data": {
      "text/plain": [
       "{'id': 'b09ceed7-c022-4302-908b-1da60236b8e4',\n",
       " 'model_name': 'ensemble',\n",
       " 'outputs': [1, 0, 2, 0, 2],\n",
       " 'model_version': 'v1'}"
      ]
     },
     "execution_count": 14,
     "metadata": {},
     "output_type": "execute_result"
    }
   ],
   "source": [
    "function.invoke(\"/v2/models/infer\", body={\"inputs\": x})"
   ]
  },
  {
   "cell_type": "code",
   "execution_count": null,
   "metadata": {},
   "outputs": [],
   "source": []
  }
 ],
 "metadata": {
  "kernelspec": {
   "display_name": "Python 3",
   "language": "python",
   "name": "python3"
  },
  "language_info": {
   "codemirror_mode": {
    "name": "ipython",
    "version": 3
   },
   "file_extension": ".py",
   "mimetype": "text/x-python",
   "name": "python",
   "nbconvert_exporter": "python",
   "pygments_lexer": "ipython3",
   "version": "3.7.6"
  }
 },
 "nbformat": 4,
 "nbformat_minor": 4
}
