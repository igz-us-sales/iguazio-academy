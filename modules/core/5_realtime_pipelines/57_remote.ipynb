{
 "cells": [
  {
   "cell_type": "markdown",
   "metadata": {},
   "source": [
    "### Serving graph with remote"
   ]
  },
  {
   "cell_type": "markdown",
   "metadata": {},
   "source": [
    "#### Set up project"
   ]
  },
  {
   "cell_type": "code",
   "execution_count": 1,
   "metadata": {},
   "outputs": [
    {
     "name": "stdout",
     "output_type": "stream",
     "text": [
      "> 2022-06-18 03:01:48,744 [info] loaded project realtime-pipelines from MLRun DB\n"
     ]
    },
    {
     "data": {
      "text/plain": [
       "('realtime-pipelines', 'v3io:///projects/{{run.project}}/artifacts')"
      ]
     },
     "execution_count": 1,
     "metadata": {},
     "output_type": "execute_result"
    }
   ],
   "source": [
    "import mlrun\n",
    "import os\n",
    "\n",
    "# Create the project:\n",
    "project_name='realtime-pipelines'\n",
    "project_dir = os.path.abspath('./')\n",
    "project = mlrun.new_project(project_name, project_dir)\n",
    "\n",
    "# Set the environment:\n",
    "mlrun.set_environment(project=project.metadata.name)"
   ]
  },
  {
   "cell_type": "markdown",
   "metadata": {},
   "source": [
    "#### Deploy a remote function"
   ]
  },
  {
   "cell_type": "code",
   "execution_count": 2,
   "metadata": {},
   "outputs": [],
   "source": [
    "# mlrun: start-code"
   ]
  },
  {
   "cell_type": "code",
   "execution_count": 3,
   "metadata": {},
   "outputs": [],
   "source": [
    "import mlrun\n",
    "import time\n",
    "import datetime\n",
    "\n",
    "def remote_echo(context, event):\n",
    "    context.logger.info('This is an unstructured log')\n",
    "    if isinstance(event.body, (str,bytes) ):\n",
    "        event.body = json.loads(event.body)\n",
    "    time.sleep(1)\n",
    "    print(f'\\nIn remote-echo {datetime.datetime.now()}')\n",
    "    print(f'\\In remote-echo {event}\\n')\n",
    "    return context.Response(body=event.body,\n",
    "                            headers={},\n",
    "                            content_type='text/plain',\n",
    "                            status_code=200)"
   ]
  },
  {
   "cell_type": "code",
   "execution_count": 4,
   "metadata": {},
   "outputs": [],
   "source": [
    "# mlrun: end-code"
   ]
  },
  {
   "cell_type": "code",
   "execution_count": 5,
   "metadata": {},
   "outputs": [],
   "source": [
    "fn = mlrun.code_to_function(name='a-remote-echo', \n",
    "                            kind='nuclio',\n",
    "                            image=\"mlrun/mlrun\",\n",
    "                            handler='remote_echo',\n",
    "                            with_doc=False\n",
    "                           )"
   ]
  },
  {
   "cell_type": "code",
   "execution_count": 6,
   "metadata": {},
   "outputs": [
    {
     "name": "stdout",
     "output_type": "stream",
     "text": [
      "> 2022-06-18 02:52:34,847 [info] Starting remote function deploy\n",
      "2022-06-18 02:52:35  (info) Deploying function\n",
      "2022-06-18 02:52:35  (info) Building\n",
      "2022-06-18 02:52:35  (info) Staging files and preparing base images\n",
      "2022-06-18 02:52:35  (info) Building processor image\n",
      "2022-06-18 02:53:30  (info) Build complete\n",
      "2022-06-18 02:53:52  (info) Function deploy complete\n",
      "> 2022-06-18 02:53:52,493 [info] successfully deployed function: {'internal_invocation_urls': ['nuclio-remote-serving-a-remote-echo.default-tenant.svc.cluster.local:8080'], 'external_invocation_urls': ['remote-serving-a-remote-echo-remote-serving.default-tenant.app.uss-sales-341.iguazio-cd1.com/']}\n"
     ]
    }
   ],
   "source": [
    "fn.apply(mlrun.platforms.auto_mount())\n",
    "addr = fn.deploy()"
   ]
  },
  {
   "cell_type": "code",
   "execution_count": 7,
   "metadata": {},
   "outputs": [
    {
     "name": "stdout",
     "output_type": "stream",
     "text": [
      "http://remote-serving-a-remote-echo-remote-serving.default-tenant.app.uss-sales-341.iguazio-cd1.com/\n"
     ]
    }
   ],
   "source": [
    "print(addr)"
   ]
  },
  {
   "cell_type": "markdown",
   "metadata": {},
   "source": [
    "#### Define a function in the graph"
   ]
  },
  {
   "cell_type": "code",
   "execution_count": 8,
   "metadata": {},
   "outputs": [],
   "source": [
    "# mlrun: start-code"
   ]
  },
  {
   "cell_type": "code",
   "execution_count": 9,
   "metadata": {},
   "outputs": [],
   "source": [
    "import mlrun\n",
    "import time\n",
    "import datetime\n",
    "\n",
    "def echo(event):\n",
    "    time.sleep(1)\n",
    "    print(datetime.datetime.now())\n",
    "    print(f'\\nIn echo {datetime.datetime.now()}')\n",
    "    print(f'In echo {event}\\n')\n",
    "    return event"
   ]
  },
  {
   "cell_type": "code",
   "execution_count": 10,
   "metadata": {},
   "outputs": [],
   "source": [
    "# mlrun: end-code"
   ]
  },
  {
   "cell_type": "markdown",
   "metadata": {},
   "source": [
    "#### Create a graph that have the remote function in the graph"
   ]
  },
  {
   "cell_type": "code",
   "execution_count": 11,
   "metadata": {},
   "outputs": [
    {
     "data": {
      "image/svg+xml": [
       "<?xml version=\"1.0\" encoding=\"UTF-8\" standalone=\"no\"?>\n",
       "<!DOCTYPE svg PUBLIC \"-//W3C//DTD SVG 1.1//EN\"\n",
       " \"http://www.w3.org/Graphics/SVG/1.1/DTD/svg11.dtd\">\n",
       "<!-- Generated by graphviz version 2.40.1 (20161225.0304)\n",
       " -->\n",
       "<!-- Title: mlrun&#45;flow Pages: 1 -->\n",
       "<svg width=\"436pt\" height=\"44pt\"\n",
       " viewBox=\"0.00 0.00 436.29 44.00\" xmlns=\"http://www.w3.org/2000/svg\" xmlns:xlink=\"http://www.w3.org/1999/xlink\">\n",
       "<g id=\"graph0\" class=\"graph\" transform=\"scale(1 1) rotate(0) translate(4 40)\">\n",
       "<title>mlrun&#45;flow</title>\n",
       "<polygon fill=\"#ffffff\" stroke=\"transparent\" points=\"-4,4 -4,-40 432.2865,-40 432.2865,4 -4,4\"/>\n",
       "<!-- _start -->\n",
       "<g id=\"node1\" class=\"node\">\n",
       "<title>_start</title>\n",
       "<polygon fill=\"#d3d3d3\" stroke=\"#000000\" points=\"38.5476,-.0493 40.698,-.1479 42.8263,-.2953 44.9236,-.4913 46.9815,-.7353 48.9917,-1.0266 50.9463,-1.3645 52.8377,-1.7479 54.6587,-2.1759 56.4025,-2.6472 58.0628,-3.1606 59.634,-3.7147 61.1107,-4.308 62.4882,-4.9388 63.7625,-5.6054 64.9302,-6.3059 65.9882,-7.0385 66.9343,-7.8012 67.7669,-8.5918 68.4849,-9.4082 69.0878,-10.2481 69.5758,-11.1093 69.9496,-11.9894 70.2102,-12.886 70.3595,-13.7965 70.3997,-14.7186 70.3334,-15.6497 70.1636,-16.5873 69.8937,-17.5287 69.5276,-18.4713 69.0691,-19.4127 68.5225,-20.3503 67.8923,-21.2814 67.1831,-22.2035 66.3996,-23.114 65.5464,-24.0106 64.6285,-24.8907 63.6504,-25.7519 62.617,-26.5918 61.5329,-27.4082 60.4024,-28.1988 59.2299,-28.9615 58.0197,-29.6941 56.7755,-30.3946 55.5012,-31.0612 54.2002,-31.692 52.8757,-32.2853 51.5309,-32.8394 50.1684,-33.3528 48.7908,-33.8241 47.4003,-34.2521 45.9989,-34.6355 44.5886,-34.9734 43.1708,-35.2647 41.7472,-35.5087 40.3189,-35.7047 38.8872,-35.8521 37.4531,-35.9507 36.0175,-36 34.5815,-36 33.146,-35.9507 31.7119,-35.8521 30.2801,-35.7047 28.8519,-35.5087 27.4282,-35.2647 26.0105,-34.9734 24.6001,-34.6355 23.1988,-34.2521 21.8083,-33.8241 20.4306,-33.3528 19.0681,-32.8394 17.7233,-32.2853 16.3989,-31.692 15.0979,-31.0612 13.8236,-30.3946 12.5794,-29.6941 11.3691,-28.9615 10.1967,-28.1988 9.0662,-27.4082 7.982,-26.5918 6.9486,-25.7519 5.9706,-24.8907 5.0526,-24.0106 4.1995,-23.114 3.4159,-22.2035 2.7067,-21.2814 2.0765,-20.3503 1.53,-19.4127 1.0715,-18.4713 .7053,-17.5287 .4355,-16.5873 .2657,-15.6497 .1993,-14.7186 .2395,-13.7965 .3888,-12.886 .6495,-11.9894 1.0232,-11.1093 1.5112,-10.2481 2.1141,-9.4082 2.8321,-8.5918 3.6647,-7.8012 4.6109,-7.0385 5.6689,-6.3059 6.8365,-5.6054 8.1108,-4.9388 9.4884,-4.308 10.9651,-3.7147 12.5362,-3.1606 14.1966,-2.6472 15.9404,-2.1759 17.7614,-1.7479 19.6528,-1.3645 21.6074,-1.0266 23.6176,-.7353 25.6755,-.4913 27.7728,-.2953 29.901,-.1479 32.0515,-.0493 34.2154,0 36.3837,0 38.5476,-.0493\"/>\n",
       "<text text-anchor=\"middle\" x=\"35.2995\" y=\"-14.3\" font-family=\"Times,serif\" font-size=\"14.00\" fill=\"#000000\">start</text>\n",
       "</g>\n",
       "<!-- s1 -->\n",
       "<g id=\"node2\" class=\"node\">\n",
       "<title>s1</title>\n",
       "<ellipse fill=\"none\" stroke=\"#000000\" cx=\"133.5991\" cy=\"-18\" rx=\"27\" ry=\"18\"/>\n",
       "<text text-anchor=\"middle\" x=\"133.5991\" y=\"-14.3\" font-family=\"Times,serif\" font-size=\"14.00\" fill=\"#000000\">s1</text>\n",
       "</g>\n",
       "<!-- _start&#45;&gt;s1 -->\n",
       "<g id=\"edge1\" class=\"edge\">\n",
       "<title>_start&#45;&gt;s1</title>\n",
       "<path fill=\"none\" stroke=\"#000000\" d=\"M69.9563,-18C78.4445,-18 87.5661,-18 96.1775,-18\"/>\n",
       "<polygon fill=\"#000000\" stroke=\"#000000\" points=\"96.3518,-21.5001 106.3518,-18 96.3517,-14.5001 96.3518,-21.5001\"/>\n",
       "</g>\n",
       "<!-- remote_echo -->\n",
       "<g id=\"node3\" class=\"node\">\n",
       "<title>remote_echo</title>\n",
       "<ellipse fill=\"none\" stroke=\"#000000\" cx=\"267.4428\" cy=\"-18\" rx=\"70.6878\" ry=\"18\"/>\n",
       "<text text-anchor=\"middle\" x=\"267.4428\" y=\"-14.3\" font-family=\"Times,serif\" font-size=\"14.00\" fill=\"#000000\">remote_echo</text>\n",
       "</g>\n",
       "<!-- s1&#45;&gt;remote_echo -->\n",
       "<g id=\"edge2\" class=\"edge\">\n",
       "<title>s1&#45;&gt;remote_echo</title>\n",
       "<path fill=\"none\" stroke=\"#000000\" d=\"M160.6843,-18C168.3695,-18 177.1566,-18 186.3159,-18\"/>\n",
       "<polygon fill=\"#000000\" stroke=\"#000000\" points=\"186.3662,-21.5001 196.3662,-18 186.3662,-14.5001 186.3662,-21.5001\"/>\n",
       "</g>\n",
       "<!-- s3 -->\n",
       "<g id=\"node4\" class=\"node\">\n",
       "<title>s3</title>\n",
       "<ellipse fill=\"none\" stroke=\"#000000\" cx=\"401.2865\" cy=\"-18\" rx=\"27\" ry=\"18\"/>\n",
       "<text text-anchor=\"middle\" x=\"401.2865\" y=\"-14.3\" font-family=\"Times,serif\" font-size=\"14.00\" fill=\"#000000\">s3</text>\n",
       "</g>\n",
       "<!-- remote_echo&#45;&gt;s3 -->\n",
       "<g id=\"edge3\" class=\"edge\">\n",
       "<title>remote_echo&#45;&gt;s3</title>\n",
       "<path fill=\"none\" stroke=\"#000000\" d=\"M338.6753,-18C347.4437,-18 356.1131,-18 364.0779,-18\"/>\n",
       "<polygon fill=\"#000000\" stroke=\"#000000\" points=\"364.0916,-21.5001 374.0916,-18 364.0916,-14.5001 364.0916,-21.5001\"/>\n",
       "</g>\n",
       "</g>\n",
       "</svg>\n"
      ],
      "text/plain": [
       "<graphviz.dot.Digraph at 0x7fc6a1745dd0>"
      ]
     },
     "execution_count": 11,
     "metadata": {},
     "output_type": "execute_result"
    }
   ],
   "source": [
    "function = mlrun.code_to_function(\"test-remote-graph\", kind=\"serving\", image=\"mlrun/mlrun\")\n",
    "flow = function.set_topology(\"flow\", engine=\"async\")\n",
    "flow.to(name=\"s1\", handler=\"echo\")\\\n",
    "     .to(\"$remote\", \"remote_echo\", url=addr)\\\n",
    "     .to(name=\"s3\", handler=\"echo\").respond()\n",
    "\n",
    "flow.plot(rankdir='LR')"
   ]
  },
  {
   "cell_type": "markdown",
   "metadata": {},
   "source": [
    "#### Test the graph with mock server"
   ]
  },
  {
   "cell_type": "code",
   "execution_count": 12,
   "metadata": {},
   "outputs": [
    {
     "name": "stdout",
     "output_type": "stream",
     "text": [
      "2022-06-18 02:56:17.472343\n",
      "\n",
      "In echo 2022-06-18 02:56:17.472860\n",
      "In echo {'x': 1}\n",
      "\n",
      "2022-06-18 02:56:19.481307\n",
      "\n",
      "In echo 2022-06-18 02:56:19.481452\n",
      "In echo {'x': 1}\n",
      "\n",
      "resp: {'x': 1}\n",
      "2022-06-18 02:56:19.483457\n"
     ]
    }
   ],
   "source": [
    "server = function.to_mock_server()\n",
    "# print(f\"\\nFlow:\\n{flow.to_yaml()}\")\n",
    "resp = server.test(body={\"x\": 1})\n",
    "server.wait_for_completion()\n",
    "print(f'resp: {resp}')\n",
    "print(datetime.datetime.now())"
   ]
  },
  {
   "cell_type": "markdown",
   "metadata": {},
   "source": [
    "#### Deploy the graph"
   ]
  },
  {
   "cell_type": "code",
   "execution_count": 13,
   "metadata": {},
   "outputs": [],
   "source": [
    "function.apply(mlrun.platforms.auto_mount())\n",
    "function.verbose=False"
   ]
  },
  {
   "cell_type": "code",
   "execution_count": 14,
   "metadata": {},
   "outputs": [
    {
     "name": "stdout",
     "output_type": "stream",
     "text": [
      "> 2022-06-18 02:56:29,529 [info] Starting remote function deploy\n",
      "2022-06-18 02:56:29  (info) Deploying function\n",
      "2022-06-18 02:56:29  (info) Building\n",
      "2022-06-18 02:56:29  (info) Staging files and preparing base images\n",
      "2022-06-18 02:56:29  (info) Building processor image\n",
      "2022-06-18 02:57:24  (info) Build complete\n",
      "2022-06-18 02:57:50  (info) Function deploy complete\n",
      "> 2022-06-18 02:57:51,739 [info] successfully deployed function: {'internal_invocation_urls': ['nuclio-remote-serving-test-remote-graph.default-tenant.svc.cluster.local:8080'], 'external_invocation_urls': ['remote-serving-test-remote-graph-remote-serving.default-tenant.app.uss-sales-341.iguazio-cd1.com/']}\n"
     ]
    },
    {
     "data": {
      "text/plain": [
       "'http://remote-serving-test-remote-graph-remote-serving.default-tenant.app.uss-sales-341.iguazio-cd1.com/'"
      ]
     },
     "execution_count": 14,
     "metadata": {},
     "output_type": "execute_result"
    }
   ],
   "source": [
    "function.deploy()"
   ]
  },
  {
   "cell_type": "code",
   "execution_count": 15,
   "metadata": {},
   "outputs": [
    {
     "name": "stdout",
     "output_type": "stream",
     "text": [
      "> 2022-06-18 02:57:51,805 [info] invoking function: {'method': 'POST', 'path': 'http://nuclio-remote-serving-test-remote-graph.default-tenant.svc.cluster.local:8080/'}\n"
     ]
    },
    {
     "data": {
      "text/plain": [
       "{'x': 1}"
      ]
     },
     "execution_count": 15,
     "metadata": {},
     "output_type": "execute_result"
    }
   ],
   "source": [
    "function.invoke(path=\"/\", body={\"x\":1})"
   ]
  },
  {
   "cell_type": "code",
   "execution_count": null,
   "metadata": {},
   "outputs": [],
   "source": []
  }
 ],
 "metadata": {
  "kernelspec": {
   "display_name": "Python [conda env:root] *",
   "language": "python",
   "name": "conda-root-py"
  },
  "language_info": {
   "codemirror_mode": {
    "name": "ipython",
    "version": 3
   },
   "file_extension": ".py",
   "mimetype": "text/x-python",
   "name": "python",
   "nbconvert_exporter": "python",
   "pygments_lexer": "ipython3",
   "version": "3.7.6"
  }
 },
 "nbformat": 4,
 "nbformat_minor": 4
}
