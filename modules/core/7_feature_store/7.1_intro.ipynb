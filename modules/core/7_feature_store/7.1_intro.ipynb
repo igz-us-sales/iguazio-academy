{
 "cells": [
  {
   "cell_type": "markdown",
   "id": "0dcffdb3",
   "metadata": {},
   "source": [
    "# Core 7.1 Feature Store - Intro"
   ]
  },
  {
   "cell_type": "markdown",
   "id": "8e223b8d",
   "metadata": {},
   "source": [
    "This module will cover the basics of the feature store. This includes how to ingest, retrieve, and transform features in batch and real-time"
   ]
  },
  {
   "cell_type": "markdown",
   "id": "360506ce",
   "metadata": {},
   "source": [
    "---"
   ]
  },
  {
   "cell_type": "markdown",
   "id": "51a46e04",
   "metadata": {},
   "source": [
    "### References"
   ]
  },
  {
   "cell_type": "markdown",
   "id": "50fe84a9",
   "metadata": {},
   "source": [
    "Much of the content from the following sections will be derived from the MLRun Feature Store documentation:\n",
    "- [Feature Store: Data ingestion](https://docs.mlrun.org/en/latest/feature-store/feature-store-data-ingestion.html)\n",
    "- [Feature Store: Data retrieval](https://docs.mlrun.org/en/latest/feature-store/feature-store-data-retrieval.html)\n",
    "- [Feature Store tutorials](https://docs.mlrun.org/en/latest/feature-store/feature-store-tutorials.html)"
   ]
  },
  {
   "cell_type": "markdown",
   "id": "ccb0df99",
   "metadata": {},
   "source": [
    "---"
   ]
  },
  {
   "cell_type": "markdown",
   "id": "24f78123",
   "metadata": {},
   "source": [
    "### Table of Contents"
   ]
  },
  {
   "cell_type": "markdown",
   "id": "b65b8687",
   "metadata": {},
   "source": [
    "- [7.1 Intro](7.1_intro.ipynb) - You are here\n",
    "- [7.2 Feature Sets and Feature Vectors](7.2_feature_sets_and_feature_vectors.ipynb) - Fundamental building blocks for ingesting and retrieving features\n",
    "- [7.3 Ingestion Engines](7.3_ingestion_engines) - Showcase of various engines to ingest data (i.e. Pandas, Spark, Storey)\n",
    "- [7.4 Retrieving Features](7.4_retrieving_features) - Showcase various ways to retrieve data (i.e. Batch, Real-Time)\n",
    "- [7.5 Ingestion Methods](7.5_ingestion_methods) - Showcase various ingestion methods (i.e. Ad-hoc, Job, Real-Time)"
   ]
  },
  {
   "cell_type": "markdown",
   "id": "c0226eac",
   "metadata": {},
   "source": [
    "---"
   ]
  }
 ],
 "metadata": {
  "kernelspec": {
   "display_name": "Python 3",
   "language": "python",
   "name": "python3"
  },
  "language_info": {
   "codemirror_mode": {
    "name": "ipython",
    "version": 3
   },
   "file_extension": ".py",
   "mimetype": "text/x-python",
   "name": "python",
   "nbconvert_exporter": "python",
   "pygments_lexer": "ipython3",
   "version": "3.7.6"
  }
 },
 "nbformat": 4,
 "nbformat_minor": 5
}
