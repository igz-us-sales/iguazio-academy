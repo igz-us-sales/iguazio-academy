{
 "cells": [
  {
   "cell_type": "markdown",
   "id": "7270a695",
   "metadata": {},
   "source": [
    "# Core 7.1 Feature Store - Intro"
   ]
  },
  {
   "cell_type": "markdown",
   "id": "f7dc7cc4",
   "metadata": {},
   "source": [
    "This module will cover the basics of the feature store. This includes how to ingest, retrieve, and transform features in batch and real-time"
   ]
  },
  {
   "cell_type": "markdown",
   "id": "3b8cd0b4",
   "metadata": {},
   "source": [
    "### References"
   ]
  },
  {
   "cell_type": "markdown",
   "id": "4de21403",
   "metadata": {},
   "source": [
    "Much of the content from the following sections will be derived from the MLRun Feature Store documentation:\n",
    "- [Feature Store: Data ingestion](https://docs.mlrun.org/en/latest/feature-store/feature-store-data-ingestion.html)\n",
    "- [Feature Store: Data retrieval](https://docs.mlrun.org/en/latest/feature-store/feature-store-data-retrieval.html)\n",
    "- [Feature Store tutorials](https://docs.mlrun.org/en/latest/feature-store/feature-store-tutorials.html)"
   ]
  },
  {
   "cell_type": "markdown",
   "id": "59584c74",
   "metadata": {},
   "source": [
    "### Table of Contents"
   ]
  },
  {
   "cell_type": "markdown",
   "id": "173f7039",
   "metadata": {},
   "source": [
    "- [7.1 Intro](#) - You are here\n",
    "- [7.2 Feature Sets and Feature Vectors](7.2_featuresets_featurevectors.ipynb) - Fundamental building blocks for ingesting and retrieving features\n",
    "- [7.3 Ingestion Engines](7.3_ingestion_engines) - Show case of various ways to ingest data\n",
    "    - Pandas\n",
    "    - Spark\n",
    "    - Storey\n",
    "- [7.4 Retrieving Features](7.4_retrieving_features)\n",
    "    - Batch\n",
    "    - Real-Time\n",
    "- [7.5 Ingestion Methods](7.5_ingestion_methods)\n",
    "    - Ad-hoc\n",
    "    - Job\n",
    "    - Real-Time"
   ]
  }
 ],
 "metadata": {
  "kernelspec": {
   "display_name": "Python 3",
   "language": "python",
   "name": "python3"
  },
  "language_info": {
   "codemirror_mode": {
    "name": "ipython",
    "version": 3
   },
   "file_extension": ".py",
   "mimetype": "text/x-python",
   "name": "python",
   "nbconvert_exporter": "python",
   "pygments_lexer": "ipython3",
   "version": "3.7.6"
  }
 },
 "nbformat": 4,
 "nbformat_minor": 5
}
