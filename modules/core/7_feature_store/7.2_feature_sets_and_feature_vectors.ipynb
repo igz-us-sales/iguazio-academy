{
 "cells": [
  {
   "cell_type": "markdown",
   "id": "d2a0320c",
   "metadata": {},
   "source": [
    "# Core 7.2 Feature Store - Feature Sets and Feature Vectors"
   ]
  },
  {
   "cell_type": "markdown",
   "id": "f08409a0",
   "metadata": {},
   "source": [
    "In this section, we will cover two fundamental concepts of the Feature Store - the `Feature Set` and the `Feature Vector`. These two building blocks are the backbone of using the Feature Store and will be used in all of the following sections."
   ]
  },
  {
   "cell_type": "markdown",
   "id": "fb9b9977",
   "metadata": {},
   "source": [
    "## References"
   ]
  },
  {
   "cell_type": "markdown",
   "id": "20376627",
   "metadata": {},
   "source": [
    "Much of the following content is derived from the official documenation:\n",
    "- [Feature sets](https://docs.mlrun.org/en/latest/feature-store/feature-sets.html#)\n",
    "- [Creating and using feature vectors](https://docs.mlrun.org/en/latest/feature-store/feature-vectors.html)"
   ]
  },
  {
   "cell_type": "markdown",
   "id": "de367f88",
   "metadata": {},
   "source": [
    "## What is a Feature Set and Feature Vector?"
   ]
  },
  {
   "cell_type": "markdown",
   "id": "380d90a1",
   "metadata": {},
   "source": [
    "So what exactly is a `Feature Set` and a `Feature Vector`? At a high level:\n",
    "- A `Feature Set` is a way to ingest data. It is essentially one-to-one with a data source (i.e. file, table, stream, etc.)\n",
    "- A `Feature Vector` is a way to retrieve data. It allows you to combine and join multiple `Feature Sets` together (i.e. a few columns from here, a few columns from there)\n",
    "\n",
    "There are also another definition we need to know:\n",
    "- An `Entity` is essentially a primary key. A `Feature Set` can have one or more of these primary keys. The `Entity` is used to store the data in Key-Value format as well as by the `Feature Vector` to perform joins with other `Feature Sets`. These `Entities` are expected to be columns in the dataset."
   ]
  },
  {
   "cell_type": "markdown",
   "id": "7cb33b15",
   "metadata": {},
   "source": [
    "## My First Feature Set\n",
    "\n",
    "Let's create our first `Feature Set`. We can create a `Feature Set` with the name `stocks` and an `Entity` called `ticker` like so:\n",
    "\n",
    "```python\n",
    "import mlrun.feature_store as fstore\n",
    "\n",
    "my_feature_set = fstore.FeatureSet(\n",
    "    name=\"stocks\",\n",
    "    entities=[fstore.Entity(\"ticker\")],\n",
    "    description=\"Stock data per ticker\"\n",
    ")\n",
    "```\n",
    "\n",
    "You can also add an optional description of what the `Feature Set` is. There is a lot more that can be done with regards to configuration and transformation functions, however we will get to these in the following sections."
   ]
  },
  {
   "cell_type": "markdown",
   "id": "c8eb539b",
   "metadata": {},
   "source": [
    "## Wait, where's the data?"
   ]
  },
  {
   "cell_type": "markdown",
   "id": "7eb3d1ac",
   "metadata": {},
   "source": [
    "You will notice that in the defintion of the `Feature Set`, the data itself is nowhere to be found - this is by design.\n",
    "\n",
    "By decoupling the `Feature Set` logic, configuration, and transformations from the data itself, we allow the user to ingest a few records or a giant dataset with no change in the `Feature Set` definition. The data will come into play once we get into ingestion in a future section."
   ]
  },
  {
   "cell_type": "markdown",
   "id": "19c49091",
   "metadata": {},
   "source": [
    "## My First Feature Vector\n",
    "\n",
    "Now that we have our first `Feature Set`, let's create our first `Feature Vector` to retrieve it. This can be done like so:\n",
    "```python\n",
    "import mlrun.feature_store as fstore\n",
    "\n",
    "my_feature_vector = fstore.FeatureVector(\n",
    "    name=\"finance-vector\",\n",
    "    features=[\"stocks.*\"],\n",
    "    description=\"Financial dataset\"\n",
    ")\n",
    "my_feature_vector.save()\n",
    "```\n",
    "\n",
    "The desired features are selected in the list of `features` in the format of `<feature_set>.<feature>`. You can also use the syntax `<feature_set>.*` to select all features in the `Feature Set`. If we had multiple `Feature Sets` to join, we would add them to this list - we will see this functionality in the following sections.\n",
    "\n",
    "Finally, we save the `Feature Vector` to the project using `my_feature_vector.save()` - this allows us to retrieve it in other contexts."
   ]
  }
 ],
 "metadata": {
  "kernelspec": {
   "display_name": "Python 3",
   "language": "python",
   "name": "python3"
  },
  "language_info": {
   "codemirror_mode": {
    "name": "ipython",
    "version": 3
   },
   "file_extension": ".py",
   "mimetype": "text/x-python",
   "name": "python",
   "nbconvert_exporter": "python",
   "pygments_lexer": "ipython3",
   "version": "3.7.6"
  }
 },
 "nbformat": 4,
 "nbformat_minor": 5
}
