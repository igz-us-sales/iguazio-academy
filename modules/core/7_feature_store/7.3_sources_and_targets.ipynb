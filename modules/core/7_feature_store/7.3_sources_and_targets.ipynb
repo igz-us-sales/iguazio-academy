{
 "cells": [
  {
   "cell_type": "markdown",
   "id": "d3a30111",
   "metadata": {},
   "source": [
    "# Core 7.3 Feature Store - Sources and Targets"
   ]
  },
  {
   "cell_type": "markdown",
   "id": "c102c7f6",
   "metadata": {},
   "source": [
    "In this section, we will discuss places data can come from and where is will be stored in the Feature Store. Actual implementation of the `Source` and `Target` will come later when we cover data ingestion."
   ]
  },
  {
   "cell_type": "markdown",
   "id": "0c56d960",
   "metadata": {},
   "source": [
    "---"
   ]
  },
  {
   "cell_type": "markdown",
   "id": "5a7c4210",
   "metadata": {},
   "source": [
    "### References"
   ]
  },
  {
   "cell_type": "markdown",
   "id": "f5c9beb0",
   "metadata": {},
   "source": [
    "Much of the following content is derived from the official documenation:\n",
    "- [Feature Store Sources](https://docs.mlrun.org/en/latest/serving/available-steps.html#sources)\n",
    "- [Feature Store Targets](https://docs.mlrun.org/en/latest/serving/available-steps.html#targets)"
   ]
  },
  {
   "cell_type": "markdown",
   "id": "a623f86a",
   "metadata": {},
   "source": [
    "---"
   ]
  },
  {
   "cell_type": "markdown",
   "id": "6a0fc1bb",
   "metadata": {},
   "source": [
    "### What is a Source and Target?"
   ]
  },
  {
   "cell_type": "markdown",
   "id": "6927b548",
   "metadata": {},
   "source": [
    "So what exactly is a `Source` and a `Target`? At a high level:\n",
    "- A `Source` is simply a place where we can ingest data from\n",
    "- Likewise, a `Target` is a place where the data will land once ingested"
   ]
  },
  {
   "cell_type": "markdown",
   "id": "305d0c24",
   "metadata": {},
   "source": [
    "---"
   ]
  },
  {
   "cell_type": "markdown",
   "id": "70e589c8",
   "metadata": {},
   "source": [
    "### Default Targets\n",
    "\n",
    "By default, data ingested into the Feature Store will be stored in two `Targets` - the `ParquetTarget` and the `NoSqlTarget`. They are used for different reasons:\n",
    "- `ParquetTarget` - Stored in parquet format for batch retrieval (i.e. fetch entire dataset for training job)\n",
    "- `NoSqlTarget` - Stored in Key-Value format for real-time retrieval (i.e. fetch single record for a given `Entity`/key)\n",
    "\n",
    "This is demonstrated in the diagram we saw in the last section:\n",
    "![](img/feature-store-training-v2.png)"
   ]
  },
  {
   "cell_type": "markdown",
   "id": "6ed9ea04",
   "metadata": {},
   "source": [
    "Although the default behavior is to store data using the `ParquetTarget` and `NoSqlTarget`, it is also possible to specify these manually. It is important to note that a `Feature Set` can only have one `Source`, but can have multiple `Targets`."
   ]
  },
  {
   "cell_type": "markdown",
   "id": "64bd4c2f",
   "metadata": {},
   "source": [
    "---"
   ]
  },
  {
   "cell_type": "markdown",
   "id": "04a67c67",
   "metadata": {},
   "source": [
    "### What Sources and Targets are supported?\n",
    "\n",
    "The list of supported `Sources` and `Targets` is constantly growing.\n",
    "\n",
    "Some of the most common `Sources` include `DataframeSource`, `CSVSource`, `ParquetSource`, and `StreamSource`. A list of all supported `Sources` can be found [here](https://docs.mlrun.org/en/latest/serving/available-steps.html#sources)\n",
    "\n",
    "Some of the most common `Targets` include `ParquetTarget`, `NoSqlTarget`, `CSVTarget`, and `StreamTarget`. A list of all supported `Targets` can be found [here](https://docs.mlrun.org/en/latest/serving/available-steps.html#targets)"
   ]
  },
  {
   "cell_type": "markdown",
   "id": "a1b1dc55",
   "metadata": {},
   "source": [
    "---"
   ]
  },
  {
   "cell_type": "markdown",
   "id": "9736d2b1",
   "metadata": {},
   "source": [
    "### How do I specify a Source and Target?\n",
    "\n",
    "`Sources` and `Targets` and specified during data ingestion. We will cover the actual implementation once we get to that section."
   ]
  },
  {
   "cell_type": "markdown",
   "id": "443219e5",
   "metadata": {},
   "source": [
    "---"
   ]
  }
 ],
 "metadata": {
  "kernelspec": {
   "display_name": "Python 3",
   "language": "python",
   "name": "python3"
  },
  "language_info": {
   "codemirror_mode": {
    "name": "ipython",
    "version": 3
   },
   "file_extension": ".py",
   "mimetype": "text/x-python",
   "name": "python",
   "nbconvert_exporter": "python",
   "pygments_lexer": "ipython3",
   "version": "3.7.6"
  }
 },
 "nbformat": 4,
 "nbformat_minor": 5
}
