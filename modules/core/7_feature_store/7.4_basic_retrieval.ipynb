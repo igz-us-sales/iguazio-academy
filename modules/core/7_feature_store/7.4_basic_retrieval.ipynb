{
 "cells": [
  {
   "cell_type": "markdown",
   "id": "3dd048b5",
   "metadata": {},
   "source": [
    "# Core 7.4 Feature Store - Basic Retrieval"
   ]
  },
  {
   "cell_type": "markdown",
   "id": "bc1ff5a8",
   "metadata": {},
   "source": [
    "In this section, we will create a `Feature Vector` to retrieve the 3 `Feature Sets` created previously."
   ]
  },
  {
   "cell_type": "markdown",
   "id": "5983a7bd",
   "metadata": {},
   "source": [
    "---"
   ]
  },
  {
   "cell_type": "markdown",
   "id": "e3ead57b",
   "metadata": {},
   "source": [
    "### References"
   ]
  },
  {
   "cell_type": "markdown",
   "id": "d1607f49",
   "metadata": {},
   "source": [
    "Much of the following content is derived from the official documenation:\n",
    "- [Creating and using feature vectors](https://docs.mlrun.org/en/latest/feature-store/feature-vectors.html)"
   ]
  },
  {
   "cell_type": "markdown",
   "id": "b271c858",
   "metadata": {},
   "source": [
    "---"
   ]
  },
  {
   "cell_type": "markdown",
   "id": "3d604693",
   "metadata": {},
   "source": [
    "### Example Overview"
   ]
  },
  {
   "cell_type": "markdown",
   "id": "7c7b4d42",
   "metadata": {},
   "source": [
    "In this example, we will retrieve/join the 3 previous `Feature Sets` together into a single `Feature Vector`. This will allow us to retrieve the features in batch and in real-time"
   ]
  },
  {
   "cell_type": "markdown",
   "id": "cf8a710a",
   "metadata": {},
   "source": [
    "---"
   ]
  },
  {
   "cell_type": "markdown",
   "id": "8ce4f1b0",
   "metadata": {},
   "source": [
    "### Setup"
   ]
  },
  {
   "cell_type": "code",
   "execution_count": 17,
   "id": "a9fbaa20",
   "metadata": {},
   "outputs": [
    {
     "name": "stdout",
     "output_type": "stream",
     "text": [
      "> 2022-04-22 22:11:55,036 [info] loaded project iguazio-academy from MLRun DB\n"
     ]
    }
   ],
   "source": [
    "import pandas as pd\n",
    "import mlrun\n",
    "import mlrun.feature_store as fstore\n",
    "from mlrun.datastore.targets import ParquetTarget\n",
    "\n",
    "project = mlrun.get_or_create_project(\"iguazio-academy\", context=\"./\")"
   ]
  },
  {
   "cell_type": "markdown",
   "id": "874667f9",
   "metadata": {},
   "source": [
    "---"
   ]
  },
  {
   "cell_type": "markdown",
   "id": "b5dd782d",
   "metadata": {},
   "source": [
    "### Define Feature Vector"
   ]
  },
  {
   "cell_type": "markdown",
   "id": "dc0ca121",
   "metadata": {},
   "source": [
    "Our `Feature Vector` will allow us to join and retrieve the 3 previous `Feature Sets` together as a single dataset. We can define it like so:"
   ]
  },
  {
   "cell_type": "code",
   "execution_count": 2,
   "id": "3639c578",
   "metadata": {},
   "outputs": [],
   "source": [
    "fvec = fstore.FeatureVector(\n",
    "    name=\"heart-disease-vector\",\n",
    "    features=[\"heart-disease-categorical.*\", \"heart-disease-continuous.*\"],\n",
    "    description=\"Financial dataset\",\n",
    "    label_feature=\"heart-disease-target.target\"\n",
    ")\n",
    "fvec.save()"
   ]
  },
  {
   "cell_type": "markdown",
   "id": "7f102dc3",
   "metadata": {},
   "source": [
    "Note the additional `label_feature` field. This allows us to specify a certain column as the target for the training set."
   ]
  },
  {
   "cell_type": "markdown",
   "id": "0f5f63b5",
   "metadata": {},
   "source": [
    "---"
   ]
  },
  {
   "cell_type": "markdown",
   "id": "38681785",
   "metadata": {},
   "source": [
    "### Retrieve Feature Vector as Dataframe"
   ]
  },
  {
   "cell_type": "markdown",
   "id": "96ae2528",
   "metadata": {},
   "source": [
    "In order to retrieve our `Feature Vector`, we just need to specify the project and name of the vector.\n",
    "\n",
    "One of the most common ways to retrieve your dataset is as a dataframe. This is very simple to do:"
   ]
  },
  {
   "cell_type": "code",
   "execution_count": 6,
   "id": "36eed038",
   "metadata": {},
   "outputs": [
    {
     "data": {
      "text/html": [
       "<div>\n",
       "<style scoped>\n",
       "    .dataframe tbody tr th:only-of-type {\n",
       "        vertical-align: middle;\n",
       "    }\n",
       "\n",
       "    .dataframe tbody tr th {\n",
       "        vertical-align: top;\n",
       "    }\n",
       "\n",
       "    .dataframe thead th {\n",
       "        text-align: right;\n",
       "    }\n",
       "</style>\n",
       "<table border=\"1\" class=\"dataframe\">\n",
       "  <thead>\n",
       "    <tr style=\"text-align: right;\">\n",
       "      <th></th>\n",
       "      <th>age</th>\n",
       "      <th>sex</th>\n",
       "      <th>cp</th>\n",
       "      <th>exang</th>\n",
       "      <th>fbs</th>\n",
       "      <th>slope</th>\n",
       "      <th>thal</th>\n",
       "      <th>trestbps</th>\n",
       "      <th>chol</th>\n",
       "      <th>restecg</th>\n",
       "      <th>thalach</th>\n",
       "      <th>oldpeak</th>\n",
       "      <th>ca</th>\n",
       "      <th>target</th>\n",
       "    </tr>\n",
       "  </thead>\n",
       "  <tbody>\n",
       "    <tr>\n",
       "      <th>0</th>\n",
       "      <td>52</td>\n",
       "      <td>male</td>\n",
       "      <td>typical_angina</td>\n",
       "      <td>no</td>\n",
       "      <td>False</td>\n",
       "      <td>downsloping</td>\n",
       "      <td>normal</td>\n",
       "      <td>125</td>\n",
       "      <td>212</td>\n",
       "      <td>1</td>\n",
       "      <td>168</td>\n",
       "      <td>1.0</td>\n",
       "      <td>2.0</td>\n",
       "      <td>0</td>\n",
       "    </tr>\n",
       "    <tr>\n",
       "      <th>1</th>\n",
       "      <td>53</td>\n",
       "      <td>male</td>\n",
       "      <td>typical_angina</td>\n",
       "      <td>yes</td>\n",
       "      <td>True</td>\n",
       "      <td>upsloping</td>\n",
       "      <td>normal</td>\n",
       "      <td>140</td>\n",
       "      <td>203</td>\n",
       "      <td>0</td>\n",
       "      <td>155</td>\n",
       "      <td>3.1</td>\n",
       "      <td>0.0</td>\n",
       "      <td>0</td>\n",
       "    </tr>\n",
       "    <tr>\n",
       "      <th>2</th>\n",
       "      <td>70</td>\n",
       "      <td>male</td>\n",
       "      <td>typical_angina</td>\n",
       "      <td>yes</td>\n",
       "      <td>False</td>\n",
       "      <td>upsloping</td>\n",
       "      <td>normal</td>\n",
       "      <td>145</td>\n",
       "      <td>174</td>\n",
       "      <td>1</td>\n",
       "      <td>125</td>\n",
       "      <td>2.6</td>\n",
       "      <td>0.0</td>\n",
       "      <td>0</td>\n",
       "    </tr>\n",
       "    <tr>\n",
       "      <th>3</th>\n",
       "      <td>61</td>\n",
       "      <td>male</td>\n",
       "      <td>typical_angina</td>\n",
       "      <td>no</td>\n",
       "      <td>False</td>\n",
       "      <td>downsloping</td>\n",
       "      <td>normal</td>\n",
       "      <td>148</td>\n",
       "      <td>203</td>\n",
       "      <td>1</td>\n",
       "      <td>161</td>\n",
       "      <td>0.0</td>\n",
       "      <td>1.0</td>\n",
       "      <td>0</td>\n",
       "    </tr>\n",
       "    <tr>\n",
       "      <th>4</th>\n",
       "      <td>62</td>\n",
       "      <td>female</td>\n",
       "      <td>typical_angina</td>\n",
       "      <td>no</td>\n",
       "      <td>True</td>\n",
       "      <td>flat</td>\n",
       "      <td>reversable_defect</td>\n",
       "      <td>138</td>\n",
       "      <td>294</td>\n",
       "      <td>1</td>\n",
       "      <td>106</td>\n",
       "      <td>1.9</td>\n",
       "      <td>3.0</td>\n",
       "      <td>0</td>\n",
       "    </tr>\n",
       "  </tbody>\n",
       "</table>\n",
       "</div>"
      ],
      "text/plain": [
       "   age     sex              cp exang    fbs        slope               thal  \\\n",
       "0   52    male  typical_angina    no  False  downsloping             normal   \n",
       "1   53    male  typical_angina   yes   True    upsloping             normal   \n",
       "2   70    male  typical_angina   yes  False    upsloping             normal   \n",
       "3   61    male  typical_angina    no  False  downsloping             normal   \n",
       "4   62  female  typical_angina    no   True         flat  reversable_defect   \n",
       "\n",
       "   trestbps  chol  restecg  thalach  oldpeak   ca  target  \n",
       "0       125   212        1      168      1.0  2.0       0  \n",
       "1       140   203        0      155      3.1  0.0       0  \n",
       "2       145   174        1      125      2.6  0.0       0  \n",
       "3       148   203        1      161      0.0  1.0       0  \n",
       "4       138   294        1      106      1.9  3.0       0  "
      ]
     },
     "execution_count": 6,
     "metadata": {},
     "output_type": "execute_result"
    }
   ],
   "source": [
    "df = fstore.get_offline_features(\"iguazio-academy/heart-disease-vector\").to_dataframe()\n",
    "df.head()"
   ]
  },
  {
   "cell_type": "markdown",
   "id": "0c288dc9",
   "metadata": {},
   "source": [
    "This has joined all 3 of our `Feature Vectors` into a single dataset using the defined `Entity`. If you would like to explicitly see the `Entity` during retrieval, you can do the following:"
   ]
  },
  {
   "cell_type": "code",
   "execution_count": 8,
   "id": "6648016e",
   "metadata": {},
   "outputs": [
    {
     "data": {
      "text/html": [
       "<div>\n",
       "<style scoped>\n",
       "    .dataframe tbody tr th:only-of-type {\n",
       "        vertical-align: middle;\n",
       "    }\n",
       "\n",
       "    .dataframe tbody tr th {\n",
       "        vertical-align: top;\n",
       "    }\n",
       "\n",
       "    .dataframe thead th {\n",
       "        text-align: right;\n",
       "    }\n",
       "</style>\n",
       "<table border=\"1\" class=\"dataframe\">\n",
       "  <thead>\n",
       "    <tr style=\"text-align: right;\">\n",
       "      <th></th>\n",
       "      <th>age</th>\n",
       "      <th>sex</th>\n",
       "      <th>cp</th>\n",
       "      <th>exang</th>\n",
       "      <th>fbs</th>\n",
       "      <th>slope</th>\n",
       "      <th>thal</th>\n",
       "      <th>trestbps</th>\n",
       "      <th>chol</th>\n",
       "      <th>restecg</th>\n",
       "      <th>thalach</th>\n",
       "      <th>oldpeak</th>\n",
       "      <th>ca</th>\n",
       "      <th>target</th>\n",
       "    </tr>\n",
       "    <tr>\n",
       "      <th>patient_id</th>\n",
       "      <th></th>\n",
       "      <th></th>\n",
       "      <th></th>\n",
       "      <th></th>\n",
       "      <th></th>\n",
       "      <th></th>\n",
       "      <th></th>\n",
       "      <th></th>\n",
       "      <th></th>\n",
       "      <th></th>\n",
       "      <th></th>\n",
       "      <th></th>\n",
       "      <th></th>\n",
       "      <th></th>\n",
       "    </tr>\n",
       "  </thead>\n",
       "  <tbody>\n",
       "    <tr>\n",
       "      <th>e443544b-8d9e-4f6c-9623-e24b6139aae0</th>\n",
       "      <td>52</td>\n",
       "      <td>male</td>\n",
       "      <td>typical_angina</td>\n",
       "      <td>no</td>\n",
       "      <td>False</td>\n",
       "      <td>downsloping</td>\n",
       "      <td>normal</td>\n",
       "      <td>125</td>\n",
       "      <td>212</td>\n",
       "      <td>1</td>\n",
       "      <td>168</td>\n",
       "      <td>1.0</td>\n",
       "      <td>2.0</td>\n",
       "      <td>0</td>\n",
       "    </tr>\n",
       "    <tr>\n",
       "      <th>8227d3df-16ab-4452-8ea5-99472362d982</th>\n",
       "      <td>53</td>\n",
       "      <td>male</td>\n",
       "      <td>typical_angina</td>\n",
       "      <td>yes</td>\n",
       "      <td>True</td>\n",
       "      <td>upsloping</td>\n",
       "      <td>normal</td>\n",
       "      <td>140</td>\n",
       "      <td>203</td>\n",
       "      <td>0</td>\n",
       "      <td>155</td>\n",
       "      <td>3.1</td>\n",
       "      <td>0.0</td>\n",
       "      <td>0</td>\n",
       "    </tr>\n",
       "    <tr>\n",
       "      <th>10c4b4ba-ab40-44de-8aba-6bdb062192c4</th>\n",
       "      <td>70</td>\n",
       "      <td>male</td>\n",
       "      <td>typical_angina</td>\n",
       "      <td>yes</td>\n",
       "      <td>False</td>\n",
       "      <td>upsloping</td>\n",
       "      <td>normal</td>\n",
       "      <td>145</td>\n",
       "      <td>174</td>\n",
       "      <td>1</td>\n",
       "      <td>125</td>\n",
       "      <td>2.6</td>\n",
       "      <td>0.0</td>\n",
       "      <td>0</td>\n",
       "    </tr>\n",
       "    <tr>\n",
       "      <th>f0acdc22-7ee6-4817-a671-e136211bc0a6</th>\n",
       "      <td>61</td>\n",
       "      <td>male</td>\n",
       "      <td>typical_angina</td>\n",
       "      <td>no</td>\n",
       "      <td>False</td>\n",
       "      <td>downsloping</td>\n",
       "      <td>normal</td>\n",
       "      <td>148</td>\n",
       "      <td>203</td>\n",
       "      <td>1</td>\n",
       "      <td>161</td>\n",
       "      <td>0.0</td>\n",
       "      <td>1.0</td>\n",
       "      <td>0</td>\n",
       "    </tr>\n",
       "    <tr>\n",
       "      <th>2d6b3bca-4841-4618-9a8c-ca902010b009</th>\n",
       "      <td>62</td>\n",
       "      <td>female</td>\n",
       "      <td>typical_angina</td>\n",
       "      <td>no</td>\n",
       "      <td>True</td>\n",
       "      <td>flat</td>\n",
       "      <td>reversable_defect</td>\n",
       "      <td>138</td>\n",
       "      <td>294</td>\n",
       "      <td>1</td>\n",
       "      <td>106</td>\n",
       "      <td>1.9</td>\n",
       "      <td>3.0</td>\n",
       "      <td>0</td>\n",
       "    </tr>\n",
       "  </tbody>\n",
       "</table>\n",
       "</div>"
      ],
      "text/plain": [
       "                                      age     sex              cp exang  \\\n",
       "patient_id                                                                \n",
       "e443544b-8d9e-4f6c-9623-e24b6139aae0   52    male  typical_angina    no   \n",
       "8227d3df-16ab-4452-8ea5-99472362d982   53    male  typical_angina   yes   \n",
       "10c4b4ba-ab40-44de-8aba-6bdb062192c4   70    male  typical_angina   yes   \n",
       "f0acdc22-7ee6-4817-a671-e136211bc0a6   61    male  typical_angina    no   \n",
       "2d6b3bca-4841-4618-9a8c-ca902010b009   62  female  typical_angina    no   \n",
       "\n",
       "                                        fbs        slope               thal  \\\n",
       "patient_id                                                                    \n",
       "e443544b-8d9e-4f6c-9623-e24b6139aae0  False  downsloping             normal   \n",
       "8227d3df-16ab-4452-8ea5-99472362d982   True    upsloping             normal   \n",
       "10c4b4ba-ab40-44de-8aba-6bdb062192c4  False    upsloping             normal   \n",
       "f0acdc22-7ee6-4817-a671-e136211bc0a6  False  downsloping             normal   \n",
       "2d6b3bca-4841-4618-9a8c-ca902010b009   True         flat  reversable_defect   \n",
       "\n",
       "                                      trestbps  chol  restecg  thalach  \\\n",
       "patient_id                                                               \n",
       "e443544b-8d9e-4f6c-9623-e24b6139aae0       125   212        1      168   \n",
       "8227d3df-16ab-4452-8ea5-99472362d982       140   203        0      155   \n",
       "10c4b4ba-ab40-44de-8aba-6bdb062192c4       145   174        1      125   \n",
       "f0acdc22-7ee6-4817-a671-e136211bc0a6       148   203        1      161   \n",
       "2d6b3bca-4841-4618-9a8c-ca902010b009       138   294        1      106   \n",
       "\n",
       "                                      oldpeak   ca  target  \n",
       "patient_id                                                  \n",
       "e443544b-8d9e-4f6c-9623-e24b6139aae0      1.0  2.0       0  \n",
       "8227d3df-16ab-4452-8ea5-99472362d982      3.1  0.0       0  \n",
       "10c4b4ba-ab40-44de-8aba-6bdb062192c4      2.6  0.0       0  \n",
       "f0acdc22-7ee6-4817-a671-e136211bc0a6      0.0  1.0       0  \n",
       "2d6b3bca-4841-4618-9a8c-ca902010b009      1.9  3.0       0  "
      ]
     },
     "execution_count": 8,
     "metadata": {},
     "output_type": "execute_result"
    }
   ],
   "source": [
    "df = fstore.get_offline_features(\"iguazio-academy/heart-disease-vector\", with_indexes=True).to_dataframe()\n",
    "df.head()"
   ]
  },
  {
   "cell_type": "markdown",
   "id": "72b412b2",
   "metadata": {},
   "source": [
    "---"
   ]
  },
  {
   "cell_type": "markdown",
   "id": "6ad2ff75",
   "metadata": {},
   "source": [
    "### Retrieve Feature Vector as Parquet"
   ]
  },
  {
   "cell_type": "markdown",
   "id": "f01e735c",
   "metadata": {},
   "source": [
    "Another common use case is to materialize the joined dataset on the filesystem using a target such as the `ParquetTarget` or `CSVTarget`. You can do this like so:"
   ]
  },
  {
   "cell_type": "code",
   "execution_count": 13,
   "id": "c5bce62f",
   "metadata": {},
   "outputs": [
    {
     "name": "stdout",
     "output_type": "stream",
     "text": [
      "> 2022-04-22 22:10:55,709 [info] wrote target: {'name': 'parquet', 'kind': 'parquet', 'path': 'v3io:///projects/iguazio-academy/FeatureStore/heart-disease-vector/parquet/vectors/heart-disease-vector-latest.parquet', 'status': 'ready', 'updated': '2022-04-22T22:10:55.709201+00:00', 'size': 16818}\n"
     ]
    }
   ],
   "source": [
    "resp = fstore.get_offline_features(\"iguazio-academy/heart-disease-vector\", target=ParquetTarget())"
   ]
  },
  {
   "cell_type": "markdown",
   "id": "f3c6fc44",
   "metadata": {},
   "source": [
    "This will create a parquet file on the filesystem located here:"
   ]
  },
  {
   "cell_type": "code",
   "execution_count": 12,
   "id": "cb779391",
   "metadata": {},
   "outputs": [
    {
     "name": "stdout",
     "output_type": "stream",
     "text": [
      "heart-disease-vector-latest.parquet\n"
     ]
    }
   ],
   "source": [
    "!ls /v3io/projects/iguazio-academy/FeatureStore/heart-disease-vector/parquet/vectors"
   ]
  },
  {
   "cell_type": "markdown",
   "id": "b33be3d7",
   "metadata": {},
   "source": [
    "You can even read the parquet file without any use of the Feature Store if desired:"
   ]
  },
  {
   "cell_type": "code",
   "execution_count": 18,
   "id": "bbadac69",
   "metadata": {},
   "outputs": [
    {
     "data": {
      "text/html": [
       "<div>\n",
       "<style scoped>\n",
       "    .dataframe tbody tr th:only-of-type {\n",
       "        vertical-align: middle;\n",
       "    }\n",
       "\n",
       "    .dataframe tbody tr th {\n",
       "        vertical-align: top;\n",
       "    }\n",
       "\n",
       "    .dataframe thead th {\n",
       "        text-align: right;\n",
       "    }\n",
       "</style>\n",
       "<table border=\"1\" class=\"dataframe\">\n",
       "  <thead>\n",
       "    <tr style=\"text-align: right;\">\n",
       "      <th></th>\n",
       "      <th>age</th>\n",
       "      <th>sex</th>\n",
       "      <th>cp</th>\n",
       "      <th>exang</th>\n",
       "      <th>fbs</th>\n",
       "      <th>slope</th>\n",
       "      <th>thal</th>\n",
       "      <th>trestbps</th>\n",
       "      <th>chol</th>\n",
       "      <th>restecg</th>\n",
       "      <th>thalach</th>\n",
       "      <th>oldpeak</th>\n",
       "      <th>ca</th>\n",
       "      <th>target</th>\n",
       "    </tr>\n",
       "  </thead>\n",
       "  <tbody>\n",
       "    <tr>\n",
       "      <th>0</th>\n",
       "      <td>52</td>\n",
       "      <td>male</td>\n",
       "      <td>typical_angina</td>\n",
       "      <td>no</td>\n",
       "      <td>False</td>\n",
       "      <td>downsloping</td>\n",
       "      <td>normal</td>\n",
       "      <td>125</td>\n",
       "      <td>212</td>\n",
       "      <td>1</td>\n",
       "      <td>168</td>\n",
       "      <td>1.0</td>\n",
       "      <td>2.0</td>\n",
       "      <td>0</td>\n",
       "    </tr>\n",
       "    <tr>\n",
       "      <th>1</th>\n",
       "      <td>53</td>\n",
       "      <td>male</td>\n",
       "      <td>typical_angina</td>\n",
       "      <td>yes</td>\n",
       "      <td>True</td>\n",
       "      <td>upsloping</td>\n",
       "      <td>normal</td>\n",
       "      <td>140</td>\n",
       "      <td>203</td>\n",
       "      <td>0</td>\n",
       "      <td>155</td>\n",
       "      <td>3.1</td>\n",
       "      <td>0.0</td>\n",
       "      <td>0</td>\n",
       "    </tr>\n",
       "    <tr>\n",
       "      <th>2</th>\n",
       "      <td>70</td>\n",
       "      <td>male</td>\n",
       "      <td>typical_angina</td>\n",
       "      <td>yes</td>\n",
       "      <td>False</td>\n",
       "      <td>upsloping</td>\n",
       "      <td>normal</td>\n",
       "      <td>145</td>\n",
       "      <td>174</td>\n",
       "      <td>1</td>\n",
       "      <td>125</td>\n",
       "      <td>2.6</td>\n",
       "      <td>0.0</td>\n",
       "      <td>0</td>\n",
       "    </tr>\n",
       "    <tr>\n",
       "      <th>3</th>\n",
       "      <td>61</td>\n",
       "      <td>male</td>\n",
       "      <td>typical_angina</td>\n",
       "      <td>no</td>\n",
       "      <td>False</td>\n",
       "      <td>downsloping</td>\n",
       "      <td>normal</td>\n",
       "      <td>148</td>\n",
       "      <td>203</td>\n",
       "      <td>1</td>\n",
       "      <td>161</td>\n",
       "      <td>0.0</td>\n",
       "      <td>1.0</td>\n",
       "      <td>0</td>\n",
       "    </tr>\n",
       "    <tr>\n",
       "      <th>4</th>\n",
       "      <td>62</td>\n",
       "      <td>female</td>\n",
       "      <td>typical_angina</td>\n",
       "      <td>no</td>\n",
       "      <td>True</td>\n",
       "      <td>flat</td>\n",
       "      <td>reversable_defect</td>\n",
       "      <td>138</td>\n",
       "      <td>294</td>\n",
       "      <td>1</td>\n",
       "      <td>106</td>\n",
       "      <td>1.9</td>\n",
       "      <td>3.0</td>\n",
       "      <td>0</td>\n",
       "    </tr>\n",
       "  </tbody>\n",
       "</table>\n",
       "</div>"
      ],
      "text/plain": [
       "   age     sex              cp exang    fbs        slope               thal  \\\n",
       "0   52    male  typical_angina    no  False  downsloping             normal   \n",
       "1   53    male  typical_angina   yes   True    upsloping             normal   \n",
       "2   70    male  typical_angina   yes  False    upsloping             normal   \n",
       "3   61    male  typical_angina    no  False  downsloping             normal   \n",
       "4   62  female  typical_angina    no   True         flat  reversable_defect   \n",
       "\n",
       "   trestbps  chol  restecg  thalach  oldpeak   ca  target  \n",
       "0       125   212        1      168      1.0  2.0       0  \n",
       "1       140   203        0      155      3.1  0.0       0  \n",
       "2       145   174        1      125      2.6  0.0       0  \n",
       "3       148   203        1      161      0.0  1.0       0  \n",
       "4       138   294        1      106      1.9  3.0       0  "
      ]
     },
     "execution_count": 18,
     "metadata": {},
     "output_type": "execute_result"
    }
   ],
   "source": [
    "df = pd.read_parquet(\"/v3io/projects/iguazio-academy/FeatureStore/heart-disease-vector/parquet/vectors/heart-disease-vector-latest.parquet\")\n",
    "df.head()"
   ]
  },
  {
   "cell_type": "markdown",
   "id": "bb952220",
   "metadata": {},
   "source": [
    "---"
   ]
  },
  {
   "cell_type": "markdown",
   "id": "58e85cb1",
   "metadata": {},
   "source": [
    "### Retrieve Records in Real-Time"
   ]
  },
  {
   "cell_type": "markdown",
   "id": "8542f6c1",
   "metadata": {},
   "source": [
    "In addition to retrieving the entire dataset in batch, you can also retrieve individual records in real-time using their `Entity`. This is useful for enriching incoming records and imputing missing values.\n",
    "\n",
    "To retrieve records in real-time, we can create an online feature service like so:"
   ]
  },
  {
   "cell_type": "code",
   "execution_count": 19,
   "id": "97977f5a",
   "metadata": {},
   "outputs": [],
   "source": [
    "feature_service = fstore.get_online_feature_service(feature_vector=\"iguazio-academy/heart-disease-vector\")"
   ]
  },
  {
   "cell_type": "markdown",
   "id": "4b7f15aa",
   "metadata": {},
   "source": [
    "Then, we can retrieve a record like so:"
   ]
  },
  {
   "cell_type": "code",
   "execution_count": 24,
   "id": "7e997af3",
   "metadata": {},
   "outputs": [
    {
     "data": {
      "text/plain": [
       "[{'age': 52,\n",
       "  'sex': 'male',\n",
       "  'cp': 'typical_angina',\n",
       "  'exang': 'no',\n",
       "  'fbs': False,\n",
       "  'slope': 'downsloping',\n",
       "  'thal': 'normal',\n",
       "  'trestbps': 125,\n",
       "  'chol': 212,\n",
       "  'restecg': 1,\n",
       "  'thalach': 168,\n",
       "  'oldpeak': 1.0,\n",
       "  'ca': 2.0},\n",
       " {'age': 53,\n",
       "  'sex': 'male',\n",
       "  'cp': 'typical_angina',\n",
       "  'exang': 'yes',\n",
       "  'fbs': True,\n",
       "  'slope': 'upsloping',\n",
       "  'thal': 'normal',\n",
       "  'trestbps': 140,\n",
       "  'chol': 203,\n",
       "  'restecg': 0,\n",
       "  'thalach': 155,\n",
       "  'oldpeak': 3.1,\n",
       "  'ca': 0.0}]"
      ]
     },
     "execution_count": 24,
     "metadata": {},
     "output_type": "execute_result"
    }
   ],
   "source": [
    "feature_service.get(\n",
    "    [\n",
    "        {\"patient_id\" : \"e443544b-8d9e-4f6c-9623-e24b6139aae0\"},\n",
    "        {\"patient_id\" : \"8227d3df-16ab-4452-8ea5-99472362d982\"}\n",
    "    ]\n",
    ")"
   ]
  },
  {
   "cell_type": "markdown",
   "id": "9c287caf",
   "metadata": {},
   "source": [
    "---"
   ]
  }
 ],
 "metadata": {
  "kernelspec": {
   "display_name": "Python 3",
   "language": "python",
   "name": "python3"
  },
  "language_info": {
   "codemirror_mode": {
    "name": "ipython",
    "version": 3
   },
   "file_extension": ".py",
   "mimetype": "text/x-python",
   "name": "python",
   "nbconvert_exporter": "python",
   "pygments_lexer": "ipython3",
   "version": "3.7.6"
  }
 },
 "nbformat": 4,
 "nbformat_minor": 5
}
