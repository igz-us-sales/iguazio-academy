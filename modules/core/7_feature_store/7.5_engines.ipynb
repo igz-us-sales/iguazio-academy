{
 "cells": [
  {
   "cell_type": "markdown",
   "id": "e829634e",
   "metadata": {},
   "source": [
    "# Core 7.5 Feature Store - Engines"
   ]
  },
  {
   "cell_type": "markdown",
   "id": "1e3608e8",
   "metadata": {},
   "source": [
    "In this section, we will take a look at the various ingestion and transformation engines in the Featore Store to allow for ingesting data in batch as well as real-time."
   ]
  },
  {
   "cell_type": "markdown",
   "id": "a4e69839",
   "metadata": {},
   "source": [
    "---"
   ]
  },
  {
   "cell_type": "markdown",
   "id": "d361411d",
   "metadata": {},
   "source": [
    "### References"
   ]
  },
  {
   "cell_type": "markdown",
   "id": "e51652c3",
   "metadata": {},
   "source": [
    "Much of the following content is derived from the official documenation:\n",
    "- [Feature Store: Data ingestion](https://docs.mlrun.org/en/stable/feature-store/feature-store-data-ingestion.html)"
   ]
  },
  {
   "cell_type": "markdown",
   "id": "148c3dbe",
   "metadata": {},
   "source": [
    "---"
   ]
  },
  {
   "cell_type": "markdown",
   "id": "b4e5a043",
   "metadata": {},
   "source": [
    "### What is an engine?"
   ]
  },
  {
   "cell_type": "markdown",
   "id": "2c54065d",
   "metadata": {},
   "source": [
    "So what exactly is an `engine` in the context of the feature store? Simply put, it is the processing framework for ingesting and transforming data into the Feature Store. For example, we would use a different `engine` to ingest data in batch than we would for real-time."
   ]
  },
  {
   "cell_type": "markdown",
   "id": "4df6d7ec",
   "metadata": {},
   "source": [
    "---"
   ]
  },
  {
   "cell_type": "markdown",
   "id": "ebcc98df",
   "metadata": {},
   "source": [
    "### What engines are supported?"
   ]
  },
  {
   "cell_type": "markdown",
   "id": "fd0bfd13",
   "metadata": {},
   "source": [
    "At this time, two engines are supported for batch - `Pandas` and `Spark`. Chances are, you are using at least one of these tools today to do data processing. This will allow you to take that exerience and apply it to the Iguazio Feature Store\n",
    "\n",
    "At this time, one engine is supported for real-time - `storey`. This is an engine of our own design that is a part of `MLRun` which allows for complex transformations and flows in real-time. If you have completed our `Real-Time Pipelines` module, we are using the same underlying technology here."
   ]
  },
  {
   "cell_type": "markdown",
   "id": "3e78ed12",
   "metadata": {},
   "source": [
    "![](img/transformation-engines.png)"
   ]
  },
  {
   "cell_type": "markdown",
   "id": "a78860cb",
   "metadata": {},
   "source": [
    "---"
   ]
  },
  {
   "cell_type": "markdown",
   "id": "ae388a08",
   "metadata": {},
   "source": [
    "### What are the differences between the engines?"
   ]
  },
  {
   "cell_type": "markdown",
   "id": "ac908dde",
   "metadata": {},
   "source": [
    "The main difference between the engines is what framework will be used to process the data and apply transfomations. For example:\n",
    "- The `pandas` engine is designed for batch data that can fit into memory that will be transformed using Pandas dataframes\n",
    "- The `spark` engine is designed for batch data that cannot fit into memory that will be transformed using Spark dataframes\n",
    "- The `storey` engine is designed for real-time data (i.e. individual records) that will be transformed using Python functions and classes"
   ]
  },
  {
   "cell_type": "markdown",
   "id": "30e81749",
   "metadata": {},
   "source": [
    "---"
   ]
  },
  {
   "cell_type": "markdown",
   "id": "dd1fcaab",
   "metadata": {},
   "source": [
    "### Specifying an Engine"
   ]
  },
  {
   "cell_type": "markdown",
   "id": "2e9f1404",
   "metadata": {},
   "source": [
    "Specifying an `engine` in the Feature Store is done at the `Feature Set` level. If you do not specify an engine (like in our previous examples), MLRun will default to the `storey` engine. You can specify an engine like so:\n",
    "\n",
    "```python\n",
    "import mlrun.feature_store as fstore\n",
    "\n",
    "my_feature_set = fstore.FeatureSet(\n",
    "    name=\"stocks\",\n",
    "    entities=[fstore.Entity(\"ticker\")],\n",
    "    description=\"Stock data per ticker\",\n",
    "    engine=\"pandas\"\n",
    ")\n",
    "```"
   ]
  },
  {
   "cell_type": "markdown",
   "id": "6eb783a6",
   "metadata": {},
   "source": [
    "---"
   ]
  },
  {
   "cell_type": "markdown",
   "id": "dfd55601",
   "metadata": {},
   "source": [
    "### Ingestion Example per Engine"
   ]
  },
  {
   "cell_type": "markdown",
   "id": "eee98669",
   "metadata": {},
   "source": [
    "#### Setup"
   ]
  },
  {
   "cell_type": "code",
   "execution_count": 30,
   "id": "a965cd61",
   "metadata": {},
   "outputs": [
    {
     "name": "stdout",
     "output_type": "stream",
     "text": [
      "> 2022-04-27 23:28:07,955 [info] loaded project iguazio-academy from MLRun DB\n"
     ]
    },
    {
     "data": {
      "text/html": [
       "<div>\n",
       "<style scoped>\n",
       "    .dataframe tbody tr th:only-of-type {\n",
       "        vertical-align: middle;\n",
       "    }\n",
       "\n",
       "    .dataframe tbody tr th {\n",
       "        vertical-align: top;\n",
       "    }\n",
       "\n",
       "    .dataframe thead th {\n",
       "        text-align: right;\n",
       "    }\n",
       "</style>\n",
       "<table border=\"1\" class=\"dataframe\">\n",
       "  <thead>\n",
       "    <tr style=\"text-align: right;\">\n",
       "      <th></th>\n",
       "      <th>patient_id</th>\n",
       "      <th>age</th>\n",
       "      <th>sex</th>\n",
       "      <th>cp</th>\n",
       "      <th>exang</th>\n",
       "      <th>fbs</th>\n",
       "      <th>slope</th>\n",
       "      <th>thal</th>\n",
       "    </tr>\n",
       "  </thead>\n",
       "  <tbody>\n",
       "    <tr>\n",
       "      <th>0</th>\n",
       "      <td>e443544b-8d9e-4f6c-9623-e24b6139aae0</td>\n",
       "      <td>52</td>\n",
       "      <td>male</td>\n",
       "      <td>typical_angina</td>\n",
       "      <td>no</td>\n",
       "      <td>False</td>\n",
       "      <td>downsloping</td>\n",
       "      <td>normal</td>\n",
       "    </tr>\n",
       "    <tr>\n",
       "      <th>1</th>\n",
       "      <td>8227d3df-16ab-4452-8ea5-99472362d982</td>\n",
       "      <td>53</td>\n",
       "      <td>male</td>\n",
       "      <td>typical_angina</td>\n",
       "      <td>yes</td>\n",
       "      <td>True</td>\n",
       "      <td>upsloping</td>\n",
       "      <td>normal</td>\n",
       "    </tr>\n",
       "    <tr>\n",
       "      <th>2</th>\n",
       "      <td>10c4b4ba-ab40-44de-8aba-6bdb062192c4</td>\n",
       "      <td>70</td>\n",
       "      <td>male</td>\n",
       "      <td>typical_angina</td>\n",
       "      <td>yes</td>\n",
       "      <td>False</td>\n",
       "      <td>upsloping</td>\n",
       "      <td>normal</td>\n",
       "    </tr>\n",
       "    <tr>\n",
       "      <th>3</th>\n",
       "      <td>f0acdc22-7ee6-4817-a671-e136211bc0a6</td>\n",
       "      <td>61</td>\n",
       "      <td>male</td>\n",
       "      <td>typical_angina</td>\n",
       "      <td>no</td>\n",
       "      <td>False</td>\n",
       "      <td>downsloping</td>\n",
       "      <td>normal</td>\n",
       "    </tr>\n",
       "    <tr>\n",
       "      <th>4</th>\n",
       "      <td>2d6b3bca-4841-4618-9a8c-ca902010b009</td>\n",
       "      <td>62</td>\n",
       "      <td>female</td>\n",
       "      <td>typical_angina</td>\n",
       "      <td>no</td>\n",
       "      <td>True</td>\n",
       "      <td>flat</td>\n",
       "      <td>reversable_defect</td>\n",
       "    </tr>\n",
       "  </tbody>\n",
       "</table>\n",
       "</div>"
      ],
      "text/plain": [
       "                             patient_id  age     sex              cp exang  \\\n",
       "0  e443544b-8d9e-4f6c-9623-e24b6139aae0   52    male  typical_angina    no   \n",
       "1  8227d3df-16ab-4452-8ea5-99472362d982   53    male  typical_angina   yes   \n",
       "2  10c4b4ba-ab40-44de-8aba-6bdb062192c4   70    male  typical_angina   yes   \n",
       "3  f0acdc22-7ee6-4817-a671-e136211bc0a6   61    male  typical_angina    no   \n",
       "4  2d6b3bca-4841-4618-9a8c-ca902010b009   62  female  typical_angina    no   \n",
       "\n",
       "     fbs        slope               thal  \n",
       "0  False  downsloping             normal  \n",
       "1   True    upsloping             normal  \n",
       "2  False    upsloping             normal  \n",
       "3  False  downsloping             normal  \n",
       "4   True         flat  reversable_defect  "
      ]
     },
     "execution_count": 30,
     "metadata": {},
     "output_type": "execute_result"
    }
   ],
   "source": [
    "import pandas as pd\n",
    "import mlrun\n",
    "import mlrun.feature_store as fstore\n",
    "from mlrun.datastore.sources import DataFrameSource, CSVSource\n",
    "from pyspark.sql import SparkSession\n",
    "\n",
    "project = mlrun.get_or_create_project(\"iguazio-academy\", context=\"./\")\n",
    "\n",
    "data = pd.read_csv(\"data/heart_disease_categorical.csv\")\n",
    "\n",
    "data.head()"
   ]
  },
  {
   "cell_type": "markdown",
   "id": "78a7cec5",
   "metadata": {},
   "source": [
    "#### Storey Engine"
   ]
  },
  {
   "cell_type": "code",
   "execution_count": 15,
   "id": "14145348",
   "metadata": {},
   "outputs": [],
   "source": [
    "storey_set = my_feature_set = fstore.FeatureSet(\n",
    "    name=\"heart-disease-storey\",\n",
    "    entities=[fstore.Entity(\"patient_id\")],\n",
    "    description=\"Heart disease data via storey engine\",\n",
    "    engine=\"storey\"\n",
    ")"
   ]
  },
  {
   "cell_type": "code",
   "execution_count": 16,
   "id": "e40d7eba",
   "metadata": {},
   "outputs": [
    {
     "name": "stderr",
     "output_type": "stream",
     "text": [
      "Converting input from bool to <class 'numpy.uint8'> for compatibility.\n"
     ]
    },
    {
     "data": {
      "text/html": [
       "<div>\n",
       "<style scoped>\n",
       "    .dataframe tbody tr th:only-of-type {\n",
       "        vertical-align: middle;\n",
       "    }\n",
       "\n",
       "    .dataframe tbody tr th {\n",
       "        vertical-align: top;\n",
       "    }\n",
       "\n",
       "    .dataframe thead th {\n",
       "        text-align: right;\n",
       "    }\n",
       "</style>\n",
       "<table border=\"1\" class=\"dataframe\">\n",
       "  <thead>\n",
       "    <tr style=\"text-align: right;\">\n",
       "      <th></th>\n",
       "      <th>age</th>\n",
       "      <th>sex</th>\n",
       "      <th>cp</th>\n",
       "      <th>exang</th>\n",
       "      <th>fbs</th>\n",
       "      <th>slope</th>\n",
       "      <th>thal</th>\n",
       "    </tr>\n",
       "    <tr>\n",
       "      <th>patient_id</th>\n",
       "      <th></th>\n",
       "      <th></th>\n",
       "      <th></th>\n",
       "      <th></th>\n",
       "      <th></th>\n",
       "      <th></th>\n",
       "      <th></th>\n",
       "    </tr>\n",
       "  </thead>\n",
       "  <tbody>\n",
       "    <tr>\n",
       "      <th>e443544b-8d9e-4f6c-9623-e24b6139aae0</th>\n",
       "      <td>52</td>\n",
       "      <td>male</td>\n",
       "      <td>typical_angina</td>\n",
       "      <td>no</td>\n",
       "      <td>False</td>\n",
       "      <td>downsloping</td>\n",
       "      <td>normal</td>\n",
       "    </tr>\n",
       "    <tr>\n",
       "      <th>8227d3df-16ab-4452-8ea5-99472362d982</th>\n",
       "      <td>53</td>\n",
       "      <td>male</td>\n",
       "      <td>typical_angina</td>\n",
       "      <td>yes</td>\n",
       "      <td>True</td>\n",
       "      <td>upsloping</td>\n",
       "      <td>normal</td>\n",
       "    </tr>\n",
       "    <tr>\n",
       "      <th>10c4b4ba-ab40-44de-8aba-6bdb062192c4</th>\n",
       "      <td>70</td>\n",
       "      <td>male</td>\n",
       "      <td>typical_angina</td>\n",
       "      <td>yes</td>\n",
       "      <td>False</td>\n",
       "      <td>upsloping</td>\n",
       "      <td>normal</td>\n",
       "    </tr>\n",
       "    <tr>\n",
       "      <th>f0acdc22-7ee6-4817-a671-e136211bc0a6</th>\n",
       "      <td>61</td>\n",
       "      <td>male</td>\n",
       "      <td>typical_angina</td>\n",
       "      <td>no</td>\n",
       "      <td>False</td>\n",
       "      <td>downsloping</td>\n",
       "      <td>normal</td>\n",
       "    </tr>\n",
       "    <tr>\n",
       "      <th>2d6b3bca-4841-4618-9a8c-ca902010b009</th>\n",
       "      <td>62</td>\n",
       "      <td>female</td>\n",
       "      <td>typical_angina</td>\n",
       "      <td>no</td>\n",
       "      <td>True</td>\n",
       "      <td>flat</td>\n",
       "      <td>reversable_defect</td>\n",
       "    </tr>\n",
       "    <tr>\n",
       "      <th>...</th>\n",
       "      <td>...</td>\n",
       "      <td>...</td>\n",
       "      <td>...</td>\n",
       "      <td>...</td>\n",
       "      <td>...</td>\n",
       "      <td>...</td>\n",
       "      <td>...</td>\n",
       "    </tr>\n",
       "    <tr>\n",
       "      <th>5d2fc80f-ed64-4e1c-9c95-3baace09118b</th>\n",
       "      <td>59</td>\n",
       "      <td>male</td>\n",
       "      <td>atypical_angina</td>\n",
       "      <td>yes</td>\n",
       "      <td>False</td>\n",
       "      <td>downsloping</td>\n",
       "      <td>reversable_defect</td>\n",
       "    </tr>\n",
       "    <tr>\n",
       "      <th>01548a7e-0f68-4308-80de-cd93fdbfb903</th>\n",
       "      <td>60</td>\n",
       "      <td>male</td>\n",
       "      <td>typical_angina</td>\n",
       "      <td>yes</td>\n",
       "      <td>False</td>\n",
       "      <td>flat</td>\n",
       "      <td>normal</td>\n",
       "    </tr>\n",
       "    <tr>\n",
       "      <th>f8c97cc1-8a3a-4b8e-965c-58e75c2379e6</th>\n",
       "      <td>47</td>\n",
       "      <td>male</td>\n",
       "      <td>typical_angina</td>\n",
       "      <td>yes</td>\n",
       "      <td>False</td>\n",
       "      <td>flat</td>\n",
       "      <td>reversable_defect</td>\n",
       "    </tr>\n",
       "    <tr>\n",
       "      <th>d7fc9e01-b792-44da-88fa-a0057527da3f</th>\n",
       "      <td>50</td>\n",
       "      <td>female</td>\n",
       "      <td>typical_angina</td>\n",
       "      <td>no</td>\n",
       "      <td>False</td>\n",
       "      <td>downsloping</td>\n",
       "      <td>reversable_defect</td>\n",
       "    </tr>\n",
       "    <tr>\n",
       "      <th>8f2a32fc-9424-4bdc-aac1-3c493675fa48</th>\n",
       "      <td>54</td>\n",
       "      <td>male</td>\n",
       "      <td>typical_angina</td>\n",
       "      <td>no</td>\n",
       "      <td>False</td>\n",
       "      <td>flat</td>\n",
       "      <td>normal</td>\n",
       "    </tr>\n",
       "  </tbody>\n",
       "</table>\n",
       "<p>968 rows × 7 columns</p>\n",
       "</div>"
      ],
      "text/plain": [
       "                                      age     sex               cp exang  \\\n",
       "patient_id                                                                 \n",
       "e443544b-8d9e-4f6c-9623-e24b6139aae0   52    male   typical_angina    no   \n",
       "8227d3df-16ab-4452-8ea5-99472362d982   53    male   typical_angina   yes   \n",
       "10c4b4ba-ab40-44de-8aba-6bdb062192c4   70    male   typical_angina   yes   \n",
       "f0acdc22-7ee6-4817-a671-e136211bc0a6   61    male   typical_angina    no   \n",
       "2d6b3bca-4841-4618-9a8c-ca902010b009   62  female   typical_angina    no   \n",
       "...                                   ...     ...              ...   ...   \n",
       "5d2fc80f-ed64-4e1c-9c95-3baace09118b   59    male  atypical_angina   yes   \n",
       "01548a7e-0f68-4308-80de-cd93fdbfb903   60    male   typical_angina   yes   \n",
       "f8c97cc1-8a3a-4b8e-965c-58e75c2379e6   47    male   typical_angina   yes   \n",
       "d7fc9e01-b792-44da-88fa-a0057527da3f   50  female   typical_angina    no   \n",
       "8f2a32fc-9424-4bdc-aac1-3c493675fa48   54    male   typical_angina    no   \n",
       "\n",
       "                                        fbs        slope               thal  \n",
       "patient_id                                                                   \n",
       "e443544b-8d9e-4f6c-9623-e24b6139aae0  False  downsloping             normal  \n",
       "8227d3df-16ab-4452-8ea5-99472362d982   True    upsloping             normal  \n",
       "10c4b4ba-ab40-44de-8aba-6bdb062192c4  False    upsloping             normal  \n",
       "f0acdc22-7ee6-4817-a671-e136211bc0a6  False  downsloping             normal  \n",
       "2d6b3bca-4841-4618-9a8c-ca902010b009   True         flat  reversable_defect  \n",
       "...                                     ...          ...                ...  \n",
       "5d2fc80f-ed64-4e1c-9c95-3baace09118b  False  downsloping  reversable_defect  \n",
       "01548a7e-0f68-4308-80de-cd93fdbfb903  False         flat             normal  \n",
       "f8c97cc1-8a3a-4b8e-965c-58e75c2379e6  False         flat  reversable_defect  \n",
       "d7fc9e01-b792-44da-88fa-a0057527da3f  False  downsloping  reversable_defect  \n",
       "8f2a32fc-9424-4bdc-aac1-3c493675fa48  False         flat             normal  \n",
       "\n",
       "[968 rows x 7 columns]"
      ]
     },
     "execution_count": 16,
     "metadata": {},
     "output_type": "execute_result"
    }
   ],
   "source": [
    "fstore.ingest(featureset=storey_set, source=DataFrameSource(df=data))"
   ]
  },
  {
   "cell_type": "markdown",
   "id": "0cd96a7a",
   "metadata": {},
   "source": [
    "#### Pandas Engine"
   ]
  },
  {
   "cell_type": "code",
   "execution_count": 27,
   "id": "6861bedc",
   "metadata": {},
   "outputs": [],
   "source": [
    "pandas_set = my_feature_set = fstore.FeatureSet(\n",
    "    name=\"heart-disease-pandas\",\n",
    "    entities=[fstore.Entity(\"patient_id\")],\n",
    "    description=\"Heart disease data via pandas engine\",\n",
    "    engine=\"pandas\"\n",
    ")"
   ]
  },
  {
   "cell_type": "code",
   "execution_count": 29,
   "id": "e68ce6ec",
   "metadata": {},
   "outputs": [
    {
     "name": "stderr",
     "output_type": "stream",
     "text": [
      "Converting input from bool to <class 'numpy.uint8'> for compatibility.\n"
     ]
    },
    {
     "data": {
      "text/html": [
       "<div>\n",
       "<style scoped>\n",
       "    .dataframe tbody tr th:only-of-type {\n",
       "        vertical-align: middle;\n",
       "    }\n",
       "\n",
       "    .dataframe tbody tr th {\n",
       "        vertical-align: top;\n",
       "    }\n",
       "\n",
       "    .dataframe thead th {\n",
       "        text-align: right;\n",
       "    }\n",
       "</style>\n",
       "<table border=\"1\" class=\"dataframe\">\n",
       "  <thead>\n",
       "    <tr style=\"text-align: right;\">\n",
       "      <th></th>\n",
       "      <th>patient_id</th>\n",
       "      <th>age</th>\n",
       "      <th>sex</th>\n",
       "      <th>cp</th>\n",
       "      <th>exang</th>\n",
       "      <th>fbs</th>\n",
       "      <th>slope</th>\n",
       "      <th>thal</th>\n",
       "    </tr>\n",
       "  </thead>\n",
       "  <tbody>\n",
       "    <tr>\n",
       "      <th>0</th>\n",
       "      <td>e443544b-8d9e-4f6c-9623-e24b6139aae0</td>\n",
       "      <td>52</td>\n",
       "      <td>male</td>\n",
       "      <td>typical_angina</td>\n",
       "      <td>no</td>\n",
       "      <td>False</td>\n",
       "      <td>downsloping</td>\n",
       "      <td>normal</td>\n",
       "    </tr>\n",
       "    <tr>\n",
       "      <th>1</th>\n",
       "      <td>8227d3df-16ab-4452-8ea5-99472362d982</td>\n",
       "      <td>53</td>\n",
       "      <td>male</td>\n",
       "      <td>typical_angina</td>\n",
       "      <td>yes</td>\n",
       "      <td>True</td>\n",
       "      <td>upsloping</td>\n",
       "      <td>normal</td>\n",
       "    </tr>\n",
       "    <tr>\n",
       "      <th>2</th>\n",
       "      <td>10c4b4ba-ab40-44de-8aba-6bdb062192c4</td>\n",
       "      <td>70</td>\n",
       "      <td>male</td>\n",
       "      <td>typical_angina</td>\n",
       "      <td>yes</td>\n",
       "      <td>False</td>\n",
       "      <td>upsloping</td>\n",
       "      <td>normal</td>\n",
       "    </tr>\n",
       "    <tr>\n",
       "      <th>3</th>\n",
       "      <td>f0acdc22-7ee6-4817-a671-e136211bc0a6</td>\n",
       "      <td>61</td>\n",
       "      <td>male</td>\n",
       "      <td>typical_angina</td>\n",
       "      <td>no</td>\n",
       "      <td>False</td>\n",
       "      <td>downsloping</td>\n",
       "      <td>normal</td>\n",
       "    </tr>\n",
       "    <tr>\n",
       "      <th>4</th>\n",
       "      <td>2d6b3bca-4841-4618-9a8c-ca902010b009</td>\n",
       "      <td>62</td>\n",
       "      <td>female</td>\n",
       "      <td>typical_angina</td>\n",
       "      <td>no</td>\n",
       "      <td>True</td>\n",
       "      <td>flat</td>\n",
       "      <td>reversable_defect</td>\n",
       "    </tr>\n",
       "    <tr>\n",
       "      <th>...</th>\n",
       "      <td>...</td>\n",
       "      <td>...</td>\n",
       "      <td>...</td>\n",
       "      <td>...</td>\n",
       "      <td>...</td>\n",
       "      <td>...</td>\n",
       "      <td>...</td>\n",
       "      <td>...</td>\n",
       "    </tr>\n",
       "    <tr>\n",
       "      <th>963</th>\n",
       "      <td>5d2fc80f-ed64-4e1c-9c95-3baace09118b</td>\n",
       "      <td>59</td>\n",
       "      <td>male</td>\n",
       "      <td>atypical_angina</td>\n",
       "      <td>yes</td>\n",
       "      <td>False</td>\n",
       "      <td>downsloping</td>\n",
       "      <td>reversable_defect</td>\n",
       "    </tr>\n",
       "    <tr>\n",
       "      <th>964</th>\n",
       "      <td>01548a7e-0f68-4308-80de-cd93fdbfb903</td>\n",
       "      <td>60</td>\n",
       "      <td>male</td>\n",
       "      <td>typical_angina</td>\n",
       "      <td>yes</td>\n",
       "      <td>False</td>\n",
       "      <td>flat</td>\n",
       "      <td>normal</td>\n",
       "    </tr>\n",
       "    <tr>\n",
       "      <th>965</th>\n",
       "      <td>f8c97cc1-8a3a-4b8e-965c-58e75c2379e6</td>\n",
       "      <td>47</td>\n",
       "      <td>male</td>\n",
       "      <td>typical_angina</td>\n",
       "      <td>yes</td>\n",
       "      <td>False</td>\n",
       "      <td>flat</td>\n",
       "      <td>reversable_defect</td>\n",
       "    </tr>\n",
       "    <tr>\n",
       "      <th>966</th>\n",
       "      <td>d7fc9e01-b792-44da-88fa-a0057527da3f</td>\n",
       "      <td>50</td>\n",
       "      <td>female</td>\n",
       "      <td>typical_angina</td>\n",
       "      <td>no</td>\n",
       "      <td>False</td>\n",
       "      <td>downsloping</td>\n",
       "      <td>reversable_defect</td>\n",
       "    </tr>\n",
       "    <tr>\n",
       "      <th>967</th>\n",
       "      <td>8f2a32fc-9424-4bdc-aac1-3c493675fa48</td>\n",
       "      <td>54</td>\n",
       "      <td>male</td>\n",
       "      <td>typical_angina</td>\n",
       "      <td>no</td>\n",
       "      <td>False</td>\n",
       "      <td>flat</td>\n",
       "      <td>normal</td>\n",
       "    </tr>\n",
       "  </tbody>\n",
       "</table>\n",
       "<p>968 rows × 8 columns</p>\n",
       "</div>"
      ],
      "text/plain": [
       "                               patient_id  age     sex               cp exang  \\\n",
       "0    e443544b-8d9e-4f6c-9623-e24b6139aae0   52    male   typical_angina    no   \n",
       "1    8227d3df-16ab-4452-8ea5-99472362d982   53    male   typical_angina   yes   \n",
       "2    10c4b4ba-ab40-44de-8aba-6bdb062192c4   70    male   typical_angina   yes   \n",
       "3    f0acdc22-7ee6-4817-a671-e136211bc0a6   61    male   typical_angina    no   \n",
       "4    2d6b3bca-4841-4618-9a8c-ca902010b009   62  female   typical_angina    no   \n",
       "..                                    ...  ...     ...              ...   ...   \n",
       "963  5d2fc80f-ed64-4e1c-9c95-3baace09118b   59    male  atypical_angina   yes   \n",
       "964  01548a7e-0f68-4308-80de-cd93fdbfb903   60    male   typical_angina   yes   \n",
       "965  f8c97cc1-8a3a-4b8e-965c-58e75c2379e6   47    male   typical_angina   yes   \n",
       "966  d7fc9e01-b792-44da-88fa-a0057527da3f   50  female   typical_angina    no   \n",
       "967  8f2a32fc-9424-4bdc-aac1-3c493675fa48   54    male   typical_angina    no   \n",
       "\n",
       "       fbs        slope               thal  \n",
       "0    False  downsloping             normal  \n",
       "1     True    upsloping             normal  \n",
       "2    False    upsloping             normal  \n",
       "3    False  downsloping             normal  \n",
       "4     True         flat  reversable_defect  \n",
       "..     ...          ...                ...  \n",
       "963  False  downsloping  reversable_defect  \n",
       "964  False         flat             normal  \n",
       "965  False         flat  reversable_defect  \n",
       "966  False  downsloping  reversable_defect  \n",
       "967  False         flat             normal  \n",
       "\n",
       "[968 rows x 8 columns]"
      ]
     },
     "execution_count": 29,
     "metadata": {},
     "output_type": "execute_result"
    }
   ],
   "source": [
    "fstore.ingest(featureset=pandas_set, source=DataFrameSource(df=data))"
   ]
  },
  {
   "cell_type": "markdown",
   "id": "00e2ee87",
   "metadata": {},
   "source": [
    "#### Spark Engine"
   ]
  },
  {
   "cell_type": "code",
   "execution_count": 44,
   "id": "a42a4cf5",
   "metadata": {},
   "outputs": [],
   "source": [
    "spark_set = my_feature_set = fstore.FeatureSet(\n",
    "    name=\"heart-disease-spark\",\n",
    "    entities=[fstore.Entity(\"patient_id\")],\n",
    "    description=\"Heart disease data via spark engine\",\n",
    "    engine=\"spark\"\n",
    ")"
   ]
  },
  {
   "cell_type": "code",
   "execution_count": 45,
   "id": "93136604",
   "metadata": {},
   "outputs": [],
   "source": [
    "spark = SparkSession.builder.appName(\"Spark function\").getOrCreate()"
   ]
  },
  {
   "cell_type": "code",
   "execution_count": 46,
   "id": "f79b027a",
   "metadata": {},
   "outputs": [],
   "source": [
    "v3io_data_path = \"v3io://users/nick/igz_repos/iguazio-academy/modules/core/7_feature_store/data/heart_disease_categorical.csv\""
   ]
  },
  {
   "cell_type": "code",
   "execution_count": 47,
   "id": "c5c8bb1a",
   "metadata": {},
   "outputs": [
    {
     "name": "stdout",
     "output_type": "stream",
     "text": [
      "> 2022-04-27 23:32:56,581 [info] writing to target parquet, spark options {'path': 'v3io://projects/iguazio-academy/FeatureStore/heart-disease-spark/parquet/sets/heart-disease-spark-latest', 'format': 'parquet'}\n",
      "> 2022-04-27 23:32:57,030 [info] writing to target nosql, spark options {'path': 'v3io://projects/iguazio-academy/FeatureStore/heart-disease-spark/nosql/sets/heart-disease-spark-latest', 'format': 'io.iguaz.v3io.spark.sql.kv', 'key': 'patient_id'}\n"
     ]
    },
    {
     "data": {
      "text/plain": [
       "DataFrame[patient_id: string, age: int, sex: string, cp: string, exang: string, fbs: boolean, slope: string, thal: string]"
      ]
     },
     "execution_count": 47,
     "metadata": {},
     "output_type": "execute_result"
    }
   ],
   "source": [
    "fstore.ingest(featureset=spark_set, source=CSVSource(path=v3io_data_path), spark_context=spark)"
   ]
  },
  {
   "cell_type": "markdown",
   "id": "cf8d14ca",
   "metadata": {},
   "source": [
    "---"
   ]
  }
 ],
 "metadata": {
  "kernelspec": {
   "display_name": "Python 3",
   "language": "python",
   "name": "python3"
  },
  "language_info": {
   "codemirror_mode": {
    "name": "ipython",
    "version": 3
   },
   "file_extension": ".py",
   "mimetype": "text/x-python",
   "name": "python",
   "nbconvert_exporter": "python",
   "pygments_lexer": "ipython3",
   "version": "3.7.6"
  }
 },
 "nbformat": 4,
 "nbformat_minor": 5
}
