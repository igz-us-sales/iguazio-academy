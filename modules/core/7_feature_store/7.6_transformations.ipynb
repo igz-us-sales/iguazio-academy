{
 "cells": [
  {
   "cell_type": "markdown",
   "id": "2d0cd3ff",
   "metadata": {},
   "source": [
    "# Core 7.6 Feature Store - Transformations"
   ]
  },
  {
   "cell_type": "markdown",
   "id": "196a4baf",
   "metadata": {},
   "source": [
    "In this section, we will take a look at the various ways you can transform data during ingestion using various engines."
   ]
  },
  {
   "cell_type": "markdown",
   "id": "173ed7af",
   "metadata": {},
   "source": [
    "### References"
   ]
  },
  {
   "cell_type": "markdown",
   "id": "33c499ff",
   "metadata": {},
   "source": [
    "Much of the following content is derived from the official documenation:\n",
    "- [Feature set transformations](https://docs.mlrun.org/en/stable/feature-store/transformations.html)"
   ]
  },
  {
   "cell_type": "markdown",
   "id": "c6c140e8",
   "metadata": {},
   "source": [
    "---"
   ]
  },
  {
   "cell_type": "markdown",
   "id": "c77c1b62",
   "metadata": {},
   "source": [
    "### What is a transformation and how are they applied?"
   ]
  },
  {
   "cell_type": "markdown",
   "id": "e88614ab",
   "metadata": {},
   "source": [
    "In context of the Iguazio Feature Store, a transformation is simply a way of modifying or changing data during ingestion - either in batch or real-time. \n",
    "\n",
    "These transformations are added and applied by adding steps to a computation graph - exactly the same as in the `Real-Time Pipelines` module. In fact, we are using the same technology under the hood."
   ]
  },
  {
   "cell_type": "markdown",
   "id": "d6a685b8",
   "metadata": {},
   "source": [
    "---"
   ]
  },
  {
   "cell_type": "markdown",
   "id": "3bd32599",
   "metadata": {},
   "source": [
    "### What does a transformation look like?"
   ]
  },
  {
   "cell_type": "markdown",
   "id": "bb1db259",
   "metadata": {},
   "source": [
    "A transformation will be a Python class or function that is added to the graph and executed during ingestion. The specific implementation of a transformation depends on the `engine` used, however they are all added the same way.\n",
    "\n",
    "In general, you can describe transformations for each `engine` as follows:\n",
    "- `storey`: Python class or function that receives an individual record as an `OrderedDict`, does something to the record, and outputs an `OrderedDict`\n",
    "- `pandas`: Python class or function that receives an entire pandas dataframe, does something to the dataframe, and outputs the pandas dataframe\n",
    "- `spark`: Python class or function that receives an entire spark dataframe, does something to the dataframe, and outputs the spark dataframe"
   ]
  },
  {
   "cell_type": "markdown",
   "id": "ef645284",
   "metadata": {},
   "source": [
    "---"
   ]
  },
  {
   "cell_type": "markdown",
   "id": "f37fdc2c",
   "metadata": {},
   "source": [
    "### Transformation Example per Engine"
   ]
  },
  {
   "cell_type": "markdown",
   "id": "4130e8ec",
   "metadata": {},
   "source": [
    "#### Setup"
   ]
  },
  {
   "cell_type": "code",
   "execution_count": 1,
   "id": "51879d0f",
   "metadata": {},
   "outputs": [
    {
     "name": "stdout",
     "output_type": "stream",
     "text": [
      "> 2022-04-28 22:35:42,163 [info] loaded project iguazio-academy from MLRun DB\n"
     ]
    },
    {
     "data": {
      "text/html": [
       "<div>\n",
       "<style scoped>\n",
       "    .dataframe tbody tr th:only-of-type {\n",
       "        vertical-align: middle;\n",
       "    }\n",
       "\n",
       "    .dataframe tbody tr th {\n",
       "        vertical-align: top;\n",
       "    }\n",
       "\n",
       "    .dataframe thead th {\n",
       "        text-align: right;\n",
       "    }\n",
       "</style>\n",
       "<table border=\"1\" class=\"dataframe\">\n",
       "  <thead>\n",
       "    <tr style=\"text-align: right;\">\n",
       "      <th></th>\n",
       "      <th>patient_id</th>\n",
       "      <th>oldpeak</th>\n",
       "      <th>chol</th>\n",
       "      <th>ca</th>\n",
       "      <th>exang</th>\n",
       "    </tr>\n",
       "  </thead>\n",
       "  <tbody>\n",
       "    <tr>\n",
       "      <th>0</th>\n",
       "      <td>e443544b-8d9e-4f6c-9623-e24b6139aae0</td>\n",
       "      <td>1.0</td>\n",
       "      <td>212</td>\n",
       "      <td>2.0</td>\n",
       "      <td>no</td>\n",
       "    </tr>\n",
       "    <tr>\n",
       "      <th>1</th>\n",
       "      <td>8227d3df-16ab-4452-8ea5-99472362d982</td>\n",
       "      <td>3.1</td>\n",
       "      <td>203</td>\n",
       "      <td>0.0</td>\n",
       "      <td>yes</td>\n",
       "    </tr>\n",
       "    <tr>\n",
       "      <th>2</th>\n",
       "      <td>10c4b4ba-ab40-44de-8aba-6bdb062192c4</td>\n",
       "      <td>2.6</td>\n",
       "      <td>174</td>\n",
       "      <td>0.0</td>\n",
       "      <td>yes</td>\n",
       "    </tr>\n",
       "    <tr>\n",
       "      <th>3</th>\n",
       "      <td>f0acdc22-7ee6-4817-a671-e136211bc0a6</td>\n",
       "      <td>0.0</td>\n",
       "      <td>203</td>\n",
       "      <td>1.0</td>\n",
       "      <td>no</td>\n",
       "    </tr>\n",
       "    <tr>\n",
       "      <th>4</th>\n",
       "      <td>2d6b3bca-4841-4618-9a8c-ca902010b009</td>\n",
       "      <td>1.9</td>\n",
       "      <td>294</td>\n",
       "      <td>3.0</td>\n",
       "      <td>no</td>\n",
       "    </tr>\n",
       "  </tbody>\n",
       "</table>\n",
       "</div>"
      ],
      "text/plain": [
       "                             patient_id  oldpeak  chol   ca exang\n",
       "0  e443544b-8d9e-4f6c-9623-e24b6139aae0      1.0   212  2.0    no\n",
       "1  8227d3df-16ab-4452-8ea5-99472362d982      3.1   203  0.0   yes\n",
       "2  10c4b4ba-ab40-44de-8aba-6bdb062192c4      2.6   174  0.0   yes\n",
       "3  f0acdc22-7ee6-4817-a671-e136211bc0a6      0.0   203  1.0    no\n",
       "4  2d6b3bca-4841-4618-9a8c-ca902010b009      1.9   294  3.0    no"
      ]
     },
     "execution_count": 1,
     "metadata": {},
     "output_type": "execute_result"
    }
   ],
   "source": [
    "import mlrun\n",
    "import mlrun.feature_store as fstore\n",
    "from mlrun.datastore.sources import DataFrameSource, CSVSource\n",
    "import storey\n",
    "\n",
    "import pandas as pd\n",
    "from pyspark.sql import SparkSession\n",
    "import pyspark.sql.functions as F\n",
    "\n",
    "project = mlrun.get_or_create_project(\"iguazio-academy\", context=\"./\")\n",
    "\n",
    "data = pd.read_csv(\"data/heart_disease_subset.csv\")\n",
    "\n",
    "data.head()"
   ]
  },
  {
   "cell_type": "markdown",
   "id": "ab0242b8",
   "metadata": {},
   "source": [
    "#### Storey Transformation"
   ]
  },
  {
   "cell_type": "markdown",
   "id": "d2e673fa",
   "metadata": {},
   "source": [
    "A `storey` transformation will be either a custom Python class that subclasses `storey.MapClass` or a simple Python function. The function approach is great for simpler transformations, whereas the class approach is great for more complex behaviors and passing parameters.\n",
    "\n",
    "**Note that these transformations are designed to run on an invididual record. Even if a dataframe is ingested, each row will be processed separately.**\n",
    "\n",
    "This is important to keep in mind for tasks like One Hot Encoding. Because you will only have an individual record at a time, all values to be One Hot Encoded need to be specified before ingestion."
   ]
  },
  {
   "cell_type": "code",
   "execution_count": 2,
   "id": "cb6832f6",
   "metadata": {},
   "outputs": [],
   "source": [
    "def oldpeak_times_three_storey(event):\n",
    "    \"\"\"Simple transformation function to multiply oldpeak by 3\"\"\"\n",
    "    event[\"three_x_oldpeak\"] = event[\"oldpeak\"] * 3\n",
    "    return event"
   ]
  },
  {
   "cell_type": "code",
   "execution_count": 3,
   "id": "cd4354f4",
   "metadata": {},
   "outputs": [],
   "source": [
    "class MultiplyColumnsStorey(storey.MapClass):\n",
    "    \"\"\"\n",
    "    Transformation class to create a new column based on\n",
    "    multiplying other columns together.\n",
    "    \"\"\"\n",
    "    def __init__(self, input_columns, output_column, **kwargs):\n",
    "        super().__init__(**kwargs)\n",
    "        self.input_columns = input_columns\n",
    "        self.output_column = output_column\n",
    "\n",
    "    def do(self, event):\n",
    "        event[self.output_column] = 1\n",
    "        for col in self.input_columns:\n",
    "            event[self.output_column] *= event[col]\n",
    "        return event"
   ]
  },
  {
   "cell_type": "markdown",
   "id": "b5ca5552",
   "metadata": {},
   "source": [
    "We will also use one of the build in steps - the [OneHotEncoder](https://github.com/mlrun/mlrun/blob/development/mlrun/feature_store/steps.py#L149)"
   ]
  },
  {
   "cell_type": "code",
   "execution_count": 4,
   "id": "53327bd3",
   "metadata": {},
   "outputs": [],
   "source": [
    "from mlrun.feature_store.steps import OneHotEncoder"
   ]
  },
  {
   "cell_type": "markdown",
   "id": "0e028af8",
   "metadata": {},
   "source": [
    "Once the transformations are defined, you can add them to the computation graph. When using a function, specify the `handler` parameter. When using a class, specify the `class_name` parameter. When using a class, you can also specify the `handler` to use (the default handler will be `do`)."
   ]
  },
  {
   "cell_type": "code",
   "execution_count": 5,
   "id": "03cb091b",
   "metadata": {},
   "outputs": [
    {
     "data": {
      "image/svg+xml": [
       "<?xml version=\"1.0\" encoding=\"UTF-8\" standalone=\"no\"?>\n",
       "<!DOCTYPE svg PUBLIC \"-//W3C//DTD SVG 1.1//EN\"\n",
       " \"http://www.w3.org/Graphics/SVG/1.1/DTD/svg11.dtd\">\n",
       "<!-- Generated by graphviz version 2.40.1 (20161225.0304)\n",
       " -->\n",
       "<!-- Title: mlrun&#45;flow Pages: 1 -->\n",
       "<svg width=\"144pt\" height=\"260pt\"\n",
       " viewBox=\"0.00 0.00 144.49 260.00\" xmlns=\"http://www.w3.org/2000/svg\" xmlns:xlink=\"http://www.w3.org/1999/xlink\">\n",
       "<g id=\"graph0\" class=\"graph\" transform=\"scale(1 1) rotate(0) translate(4 256)\">\n",
       "<title>mlrun&#45;flow</title>\n",
       "<polygon fill=\"#ffffff\" stroke=\"transparent\" points=\"-4,4 -4,-256 140.4879,-256 140.4879,4 -4,4\"/>\n",
       "<!-- _start -->\n",
       "<g id=\"node1\" class=\"node\">\n",
       "<title>_start</title>\n",
       "<polygon fill=\"#d3d3d3\" stroke=\"#000000\" points=\"71.492,-216.0493 73.6425,-216.1479 75.7707,-216.2953 77.868,-216.4913 79.9259,-216.7353 81.9361,-217.0266 83.8907,-217.3645 85.7821,-217.7479 87.6031,-218.1759 89.3469,-218.6472 91.0073,-219.1606 92.5784,-219.7147 94.0551,-220.308 95.4326,-220.9388 96.707,-221.6054 97.8746,-222.3059 98.9326,-223.0385 99.8787,-223.8012 100.7113,-224.5918 101.4293,-225.4082 102.0323,-226.2481 102.5203,-227.1093 102.894,-227.9894 103.1546,-228.886 103.304,-229.7965 103.3441,-230.7186 103.2778,-231.6497 103.108,-232.5873 102.8381,-233.5287 102.472,-234.4713 102.0135,-235.4127 101.4669,-236.3503 100.8368,-237.2814 100.1275,-238.2035 99.344,-239.114 98.4908,-240.0106 97.5729,-240.8907 96.5949,-241.7519 95.5615,-242.5918 94.4773,-243.4082 93.3468,-244.1988 92.1744,-244.9615 90.9641,-245.6941 89.7199,-246.3946 88.4456,-247.0612 87.1446,-247.692 85.8202,-248.2853 84.4753,-248.8394 83.1128,-249.3528 81.7352,-249.8241 80.3447,-250.2521 78.9433,-250.6355 77.533,-250.9734 76.1153,-251.2647 74.6916,-251.5087 73.2633,-251.7047 71.8316,-251.8521 70.3975,-251.9507 68.9619,-252 67.5259,-252 66.0904,-251.9507 64.6563,-251.8521 63.2246,-251.7047 61.7963,-251.5087 60.3726,-251.2647 58.9549,-250.9734 57.5446,-250.6355 56.1432,-250.2521 54.7527,-249.8241 53.375,-249.3528 52.0126,-248.8394 50.6677,-248.2853 49.3433,-247.692 48.0423,-247.0612 46.768,-246.3946 45.5238,-245.6941 44.3135,-244.9615 43.1411,-244.1988 42.0106,-243.4082 40.9264,-242.5918 39.893,-241.7519 38.915,-240.8907 37.997,-240.0106 37.1439,-239.114 36.3603,-238.2035 35.6511,-237.2814 35.021,-236.3503 34.4744,-235.4127 34.0159,-234.4713 33.6497,-233.5287 33.3799,-232.5873 33.2101,-231.6497 33.1438,-230.7186 33.1839,-229.7965 33.3333,-228.886 33.5939,-227.9894 33.9676,-227.1093 34.4556,-226.2481 35.0586,-225.4082 35.7766,-224.5918 36.6092,-223.8012 37.5553,-223.0385 38.6133,-222.3059 39.7809,-221.6054 41.0553,-220.9388 42.4328,-220.308 43.9095,-219.7147 45.4806,-219.1606 47.141,-218.6472 48.8848,-218.1759 50.7058,-217.7479 52.5972,-217.3645 54.5518,-217.0266 56.562,-216.7353 58.6199,-216.4913 60.7172,-216.2953 62.8454,-216.1479 64.9959,-216.0493 67.1598,-216 69.3281,-216 71.492,-216.0493\"/>\n",
       "<text text-anchor=\"middle\" x=\"68.2439\" y=\"-230.3\" font-family=\"Times,serif\" font-size=\"14.00\" fill=\"#000000\">start</text>\n",
       "</g>\n",
       "<!-- 3_x_oldpeak -->\n",
       "<g id=\"node2\" class=\"node\">\n",
       "<title>3_x_oldpeak</title>\n",
       "<ellipse fill=\"none\" stroke=\"#000000\" cx=\"68.2439\" cy=\"-162\" rx=\"68.4888\" ry=\"18\"/>\n",
       "<text text-anchor=\"middle\" x=\"68.2439\" y=\"-158.3\" font-family=\"Times,serif\" font-size=\"14.00\" fill=\"#000000\">3_x_oldpeak</text>\n",
       "</g>\n",
       "<!-- _start&#45;&gt;3_x_oldpeak -->\n",
       "<g id=\"edge1\" class=\"edge\">\n",
       "<title>_start&#45;&gt;3_x_oldpeak</title>\n",
       "<path fill=\"none\" stroke=\"#000000\" d=\"M68.2439,-215.8314C68.2439,-208.131 68.2439,-198.9743 68.2439,-190.4166\"/>\n",
       "<polygon fill=\"#000000\" stroke=\"#000000\" points=\"71.744,-190.4132 68.2439,-180.4133 64.744,-190.4133 71.744,-190.4132\"/>\n",
       "</g>\n",
       "<!-- chol_x_ca -->\n",
       "<g id=\"node3\" class=\"node\">\n",
       "<title>chol_x_ca</title>\n",
       "<ellipse fill=\"none\" stroke=\"#000000\" cx=\"68.2439\" cy=\"-90\" rx=\"55.7903\" ry=\"18\"/>\n",
       "<text text-anchor=\"middle\" x=\"68.2439\" y=\"-86.3\" font-family=\"Times,serif\" font-size=\"14.00\" fill=\"#000000\">chol_x_ca</text>\n",
       "</g>\n",
       "<!-- 3_x_oldpeak&#45;&gt;chol_x_ca -->\n",
       "<g id=\"edge2\" class=\"edge\">\n",
       "<title>3_x_oldpeak&#45;&gt;chol_x_ca</title>\n",
       "<path fill=\"none\" stroke=\"#000000\" d=\"M68.2439,-143.8314C68.2439,-136.131 68.2439,-126.9743 68.2439,-118.4166\"/>\n",
       "<polygon fill=\"#000000\" stroke=\"#000000\" points=\"71.744,-118.4132 68.2439,-108.4133 64.744,-118.4133 71.744,-118.4132\"/>\n",
       "</g>\n",
       "<!-- one_hot -->\n",
       "<g id=\"node4\" class=\"node\">\n",
       "<title>one_hot</title>\n",
       "<ellipse fill=\"none\" stroke=\"#000000\" cx=\"68.2439\" cy=\"-18\" rx=\"47.3916\" ry=\"18\"/>\n",
       "<text text-anchor=\"middle\" x=\"68.2439\" y=\"-14.3\" font-family=\"Times,serif\" font-size=\"14.00\" fill=\"#000000\">one_hot</text>\n",
       "</g>\n",
       "<!-- chol_x_ca&#45;&gt;one_hot -->\n",
       "<g id=\"edge3\" class=\"edge\">\n",
       "<title>chol_x_ca&#45;&gt;one_hot</title>\n",
       "<path fill=\"none\" stroke=\"#000000\" d=\"M68.2439,-71.8314C68.2439,-64.131 68.2439,-54.9743 68.2439,-46.4166\"/>\n",
       "<polygon fill=\"#000000\" stroke=\"#000000\" points=\"71.744,-46.4132 68.2439,-36.4133 64.744,-46.4133 71.744,-46.4132\"/>\n",
       "</g>\n",
       "</g>\n",
       "</svg>\n"
      ],
      "text/plain": [
       "<graphviz.dot.Digraph at 0x7f0b7dd051d0>"
      ]
     },
     "execution_count": 5,
     "metadata": {},
     "output_type": "execute_result"
    }
   ],
   "source": [
    "storey_set = fstore.FeatureSet(\n",
    "    name=\"heart-disease-storey-transform\",\n",
    "    entities=[fstore.Entity(\"patient_id\")],\n",
    "    description=\"Heart disease data via storey engine with transformations\",\n",
    "    engine=\"storey\"\n",
    ")\n",
    "\n",
    "storey_set.graph.to(name=\"3_x_oldpeak\", handler=\"oldpeak_times_three_storey\")\\\n",
    "                .to(name=\"chol_x_ca\", class_name=\"MultiplyColumnsStorey\", input_columns=[\"chol\", \"ca\"], output_column=\"chol_x_ca\")\\\n",
    "                .to(name=\"one_hot\", class_name=\"OneHotEncoder\", mapping={'exang': ['no', 'yes']})\n",
    "\n",
    "storey_set.graph.plot()"
   ]
  },
  {
   "cell_type": "markdown",
   "id": "7fec8ebd",
   "metadata": {},
   "source": [
    "Notice that the computation graph, classes, functions, and parameters are all stored within the `Feature Set`. This means that we can ingest the data just like before:"
   ]
  },
  {
   "cell_type": "code",
   "execution_count": 6,
   "id": "4709fffe",
   "metadata": {},
   "outputs": [
    {
     "data": {
      "text/html": [
       "<div>\n",
       "<style scoped>\n",
       "    .dataframe tbody tr th:only-of-type {\n",
       "        vertical-align: middle;\n",
       "    }\n",
       "\n",
       "    .dataframe tbody tr th {\n",
       "        vertical-align: top;\n",
       "    }\n",
       "\n",
       "    .dataframe thead th {\n",
       "        text-align: right;\n",
       "    }\n",
       "</style>\n",
       "<table border=\"1\" class=\"dataframe\">\n",
       "  <thead>\n",
       "    <tr style=\"text-align: right;\">\n",
       "      <th></th>\n",
       "      <th>oldpeak</th>\n",
       "      <th>chol</th>\n",
       "      <th>ca</th>\n",
       "      <th>exang_no</th>\n",
       "      <th>exang_yes</th>\n",
       "      <th>three_x_oldpeak</th>\n",
       "      <th>chol_x_ca</th>\n",
       "    </tr>\n",
       "    <tr>\n",
       "      <th>patient_id</th>\n",
       "      <th></th>\n",
       "      <th></th>\n",
       "      <th></th>\n",
       "      <th></th>\n",
       "      <th></th>\n",
       "      <th></th>\n",
       "      <th></th>\n",
       "    </tr>\n",
       "  </thead>\n",
       "  <tbody>\n",
       "    <tr>\n",
       "      <th>e443544b-8d9e-4f6c-9623-e24b6139aae0</th>\n",
       "      <td>1.0</td>\n",
       "      <td>212</td>\n",
       "      <td>2.0</td>\n",
       "      <td>1</td>\n",
       "      <td>0</td>\n",
       "      <td>3.0</td>\n",
       "      <td>424.0</td>\n",
       "    </tr>\n",
       "    <tr>\n",
       "      <th>8227d3df-16ab-4452-8ea5-99472362d982</th>\n",
       "      <td>3.1</td>\n",
       "      <td>203</td>\n",
       "      <td>0.0</td>\n",
       "      <td>0</td>\n",
       "      <td>1</td>\n",
       "      <td>9.3</td>\n",
       "      <td>0.0</td>\n",
       "    </tr>\n",
       "    <tr>\n",
       "      <th>10c4b4ba-ab40-44de-8aba-6bdb062192c4</th>\n",
       "      <td>2.6</td>\n",
       "      <td>174</td>\n",
       "      <td>0.0</td>\n",
       "      <td>0</td>\n",
       "      <td>1</td>\n",
       "      <td>7.8</td>\n",
       "      <td>0.0</td>\n",
       "    </tr>\n",
       "    <tr>\n",
       "      <th>f0acdc22-7ee6-4817-a671-e136211bc0a6</th>\n",
       "      <td>0.0</td>\n",
       "      <td>203</td>\n",
       "      <td>1.0</td>\n",
       "      <td>1</td>\n",
       "      <td>0</td>\n",
       "      <td>0.0</td>\n",
       "      <td>203.0</td>\n",
       "    </tr>\n",
       "    <tr>\n",
       "      <th>2d6b3bca-4841-4618-9a8c-ca902010b009</th>\n",
       "      <td>1.9</td>\n",
       "      <td>294</td>\n",
       "      <td>3.0</td>\n",
       "      <td>1</td>\n",
       "      <td>0</td>\n",
       "      <td>5.7</td>\n",
       "      <td>882.0</td>\n",
       "    </tr>\n",
       "    <tr>\n",
       "      <th>...</th>\n",
       "      <td>...</td>\n",
       "      <td>...</td>\n",
       "      <td>...</td>\n",
       "      <td>...</td>\n",
       "      <td>...</td>\n",
       "      <td>...</td>\n",
       "      <td>...</td>\n",
       "    </tr>\n",
       "    <tr>\n",
       "      <th>5d2fc80f-ed64-4e1c-9c95-3baace09118b</th>\n",
       "      <td>0.0</td>\n",
       "      <td>221</td>\n",
       "      <td>0.0</td>\n",
       "      <td>0</td>\n",
       "      <td>1</td>\n",
       "      <td>0.0</td>\n",
       "      <td>0.0</td>\n",
       "    </tr>\n",
       "    <tr>\n",
       "      <th>01548a7e-0f68-4308-80de-cd93fdbfb903</th>\n",
       "      <td>2.8</td>\n",
       "      <td>258</td>\n",
       "      <td>1.0</td>\n",
       "      <td>0</td>\n",
       "      <td>1</td>\n",
       "      <td>8.4</td>\n",
       "      <td>258.0</td>\n",
       "    </tr>\n",
       "    <tr>\n",
       "      <th>f8c97cc1-8a3a-4b8e-965c-58e75c2379e6</th>\n",
       "      <td>1.0</td>\n",
       "      <td>275</td>\n",
       "      <td>1.0</td>\n",
       "      <td>0</td>\n",
       "      <td>1</td>\n",
       "      <td>3.0</td>\n",
       "      <td>275.0</td>\n",
       "    </tr>\n",
       "    <tr>\n",
       "      <th>d7fc9e01-b792-44da-88fa-a0057527da3f</th>\n",
       "      <td>0.0</td>\n",
       "      <td>254</td>\n",
       "      <td>0.0</td>\n",
       "      <td>1</td>\n",
       "      <td>0</td>\n",
       "      <td>0.0</td>\n",
       "      <td>0.0</td>\n",
       "    </tr>\n",
       "    <tr>\n",
       "      <th>8f2a32fc-9424-4bdc-aac1-3c493675fa48</th>\n",
       "      <td>1.4</td>\n",
       "      <td>188</td>\n",
       "      <td>1.0</td>\n",
       "      <td>1</td>\n",
       "      <td>0</td>\n",
       "      <td>4.2</td>\n",
       "      <td>188.0</td>\n",
       "    </tr>\n",
       "  </tbody>\n",
       "</table>\n",
       "<p>968 rows × 7 columns</p>\n",
       "</div>"
      ],
      "text/plain": [
       "                                      oldpeak  chol   ca  exang_no  exang_yes  \\\n",
       "patient_id                                                                      \n",
       "e443544b-8d9e-4f6c-9623-e24b6139aae0      1.0   212  2.0         1          0   \n",
       "8227d3df-16ab-4452-8ea5-99472362d982      3.1   203  0.0         0          1   \n",
       "10c4b4ba-ab40-44de-8aba-6bdb062192c4      2.6   174  0.0         0          1   \n",
       "f0acdc22-7ee6-4817-a671-e136211bc0a6      0.0   203  1.0         1          0   \n",
       "2d6b3bca-4841-4618-9a8c-ca902010b009      1.9   294  3.0         1          0   \n",
       "...                                       ...   ...  ...       ...        ...   \n",
       "5d2fc80f-ed64-4e1c-9c95-3baace09118b      0.0   221  0.0         0          1   \n",
       "01548a7e-0f68-4308-80de-cd93fdbfb903      2.8   258  1.0         0          1   \n",
       "f8c97cc1-8a3a-4b8e-965c-58e75c2379e6      1.0   275  1.0         0          1   \n",
       "d7fc9e01-b792-44da-88fa-a0057527da3f      0.0   254  0.0         1          0   \n",
       "8f2a32fc-9424-4bdc-aac1-3c493675fa48      1.4   188  1.0         1          0   \n",
       "\n",
       "                                      three_x_oldpeak  chol_x_ca  \n",
       "patient_id                                                        \n",
       "e443544b-8d9e-4f6c-9623-e24b6139aae0              3.0      424.0  \n",
       "8227d3df-16ab-4452-8ea5-99472362d982              9.3        0.0  \n",
       "10c4b4ba-ab40-44de-8aba-6bdb062192c4              7.8        0.0  \n",
       "f0acdc22-7ee6-4817-a671-e136211bc0a6              0.0      203.0  \n",
       "2d6b3bca-4841-4618-9a8c-ca902010b009              5.7      882.0  \n",
       "...                                               ...        ...  \n",
       "5d2fc80f-ed64-4e1c-9c95-3baace09118b              0.0        0.0  \n",
       "01548a7e-0f68-4308-80de-cd93fdbfb903              8.4      258.0  \n",
       "f8c97cc1-8a3a-4b8e-965c-58e75c2379e6              3.0      275.0  \n",
       "d7fc9e01-b792-44da-88fa-a0057527da3f              0.0        0.0  \n",
       "8f2a32fc-9424-4bdc-aac1-3c493675fa48              4.2      188.0  \n",
       "\n",
       "[968 rows x 7 columns]"
      ]
     },
     "execution_count": 6,
     "metadata": {},
     "output_type": "execute_result"
    }
   ],
   "source": [
    "fstore.ingest(featureset=storey_set, source=DataFrameSource(df=data))"
   ]
  },
  {
   "cell_type": "markdown",
   "id": "27a5d710",
   "metadata": {},
   "source": [
    "#### Pandas Transformation"
   ]
  },
  {
   "cell_type": "markdown",
   "id": "96d2bf91",
   "metadata": {},
   "source": [
    "A `pandas` transformation will be either a custom Python class a simple Python function. Like the `storey` engine, the function approach is great for simpler transformations, whereas the class approach is great for more complex behaviors and passing parameters.\n",
    "\n",
    "**Note that these transformations are designed to run on an entire dataframe at once.**\n",
    "\n",
    "Because you have access to the entire dataframe during the transformation, tasks like One Hot Encoding and imputing can be performed like you would expect."
   ]
  },
  {
   "cell_type": "code",
   "execution_count": 7,
   "id": "16299c1c",
   "metadata": {},
   "outputs": [],
   "source": [
    "def oldpeak_times_three_pandas(df):\n",
    "    \"\"\"Simple transformation function to multiply oldpeak by 3\"\"\"\n",
    "    df[\"three_x_oldpeak\"] = df[\"oldpeak\"] * 3\n",
    "    return df"
   ]
  },
  {
   "cell_type": "code",
   "execution_count": 8,
   "id": "c7af83e2",
   "metadata": {},
   "outputs": [],
   "source": [
    "class MultiplyColumnsPandas:\n",
    "    \"\"\"\n",
    "    Transformation class to create a new column based on\n",
    "    multiplying other columns together.\n",
    "    \"\"\"\n",
    "    def __init__(self, input_columns, output_column):\n",
    "        self.input_columns = input_columns\n",
    "        self.output_column = output_column\n",
    "\n",
    "    def custom_handler(self, df, context=None):\n",
    "        df[self.output_column] = 1\n",
    "        for col in self.input_columns:\n",
    "            df[self.output_column] *= df[col]\n",
    "        return df"
   ]
  },
  {
   "cell_type": "code",
   "execution_count": 9,
   "id": "cac93e03",
   "metadata": {},
   "outputs": [],
   "source": [
    "class OneHotEncoderPandas:\n",
    "    \"\"\"\n",
    "    One hot encoder using pandas get_dummies\n",
    "    \"\"\"\n",
    "    def __init__(self, one_hot_columns):\n",
    "        self.one_hot_columns = one_hot_columns\n",
    "    \n",
    "    def do(self, df, context=None):\n",
    "        return pd.get_dummies(df, columns=self.one_hot_columns)"
   ]
  },
  {
   "cell_type": "markdown",
   "id": "d10c9268",
   "metadata": {},
   "source": [
    "Once the transformations are defined, you can add them to the computation graph. When using a function, specify the `handler` parameter. When using a class, specify the `class_name` parameter. When using a class, you can also specify the `handler` to use (the default will be `do()`)."
   ]
  },
  {
   "cell_type": "code",
   "execution_count": 10,
   "id": "9c7fa00d",
   "metadata": {},
   "outputs": [
    {
     "data": {
      "image/svg+xml": [
       "<?xml version=\"1.0\" encoding=\"UTF-8\" standalone=\"no\"?>\n",
       "<!DOCTYPE svg PUBLIC \"-//W3C//DTD SVG 1.1//EN\"\n",
       " \"http://www.w3.org/Graphics/SVG/1.1/DTD/svg11.dtd\">\n",
       "<!-- Generated by graphviz version 2.40.1 (20161225.0304)\n",
       " -->\n",
       "<!-- Title: mlrun&#45;flow Pages: 1 -->\n",
       "<svg width=\"144pt\" height=\"260pt\"\n",
       " viewBox=\"0.00 0.00 144.49 260.00\" xmlns=\"http://www.w3.org/2000/svg\" xmlns:xlink=\"http://www.w3.org/1999/xlink\">\n",
       "<g id=\"graph0\" class=\"graph\" transform=\"scale(1 1) rotate(0) translate(4 256)\">\n",
       "<title>mlrun&#45;flow</title>\n",
       "<polygon fill=\"#ffffff\" stroke=\"transparent\" points=\"-4,4 -4,-256 140.4879,-256 140.4879,4 -4,4\"/>\n",
       "<!-- _start -->\n",
       "<g id=\"node1\" class=\"node\">\n",
       "<title>_start</title>\n",
       "<polygon fill=\"#d3d3d3\" stroke=\"#000000\" points=\"71.492,-216.0493 73.6425,-216.1479 75.7707,-216.2953 77.868,-216.4913 79.9259,-216.7353 81.9361,-217.0266 83.8907,-217.3645 85.7821,-217.7479 87.6031,-218.1759 89.3469,-218.6472 91.0073,-219.1606 92.5784,-219.7147 94.0551,-220.308 95.4326,-220.9388 96.707,-221.6054 97.8746,-222.3059 98.9326,-223.0385 99.8787,-223.8012 100.7113,-224.5918 101.4293,-225.4082 102.0323,-226.2481 102.5203,-227.1093 102.894,-227.9894 103.1546,-228.886 103.304,-229.7965 103.3441,-230.7186 103.2778,-231.6497 103.108,-232.5873 102.8381,-233.5287 102.472,-234.4713 102.0135,-235.4127 101.4669,-236.3503 100.8368,-237.2814 100.1275,-238.2035 99.344,-239.114 98.4908,-240.0106 97.5729,-240.8907 96.5949,-241.7519 95.5615,-242.5918 94.4773,-243.4082 93.3468,-244.1988 92.1744,-244.9615 90.9641,-245.6941 89.7199,-246.3946 88.4456,-247.0612 87.1446,-247.692 85.8202,-248.2853 84.4753,-248.8394 83.1128,-249.3528 81.7352,-249.8241 80.3447,-250.2521 78.9433,-250.6355 77.533,-250.9734 76.1153,-251.2647 74.6916,-251.5087 73.2633,-251.7047 71.8316,-251.8521 70.3975,-251.9507 68.9619,-252 67.5259,-252 66.0904,-251.9507 64.6563,-251.8521 63.2246,-251.7047 61.7963,-251.5087 60.3726,-251.2647 58.9549,-250.9734 57.5446,-250.6355 56.1432,-250.2521 54.7527,-249.8241 53.375,-249.3528 52.0126,-248.8394 50.6677,-248.2853 49.3433,-247.692 48.0423,-247.0612 46.768,-246.3946 45.5238,-245.6941 44.3135,-244.9615 43.1411,-244.1988 42.0106,-243.4082 40.9264,-242.5918 39.893,-241.7519 38.915,-240.8907 37.997,-240.0106 37.1439,-239.114 36.3603,-238.2035 35.6511,-237.2814 35.021,-236.3503 34.4744,-235.4127 34.0159,-234.4713 33.6497,-233.5287 33.3799,-232.5873 33.2101,-231.6497 33.1438,-230.7186 33.1839,-229.7965 33.3333,-228.886 33.5939,-227.9894 33.9676,-227.1093 34.4556,-226.2481 35.0586,-225.4082 35.7766,-224.5918 36.6092,-223.8012 37.5553,-223.0385 38.6133,-222.3059 39.7809,-221.6054 41.0553,-220.9388 42.4328,-220.308 43.9095,-219.7147 45.4806,-219.1606 47.141,-218.6472 48.8848,-218.1759 50.7058,-217.7479 52.5972,-217.3645 54.5518,-217.0266 56.562,-216.7353 58.6199,-216.4913 60.7172,-216.2953 62.8454,-216.1479 64.9959,-216.0493 67.1598,-216 69.3281,-216 71.492,-216.0493\"/>\n",
       "<text text-anchor=\"middle\" x=\"68.2439\" y=\"-230.3\" font-family=\"Times,serif\" font-size=\"14.00\" fill=\"#000000\">start</text>\n",
       "</g>\n",
       "<!-- 3_x_oldpeak -->\n",
       "<g id=\"node2\" class=\"node\">\n",
       "<title>3_x_oldpeak</title>\n",
       "<ellipse fill=\"none\" stroke=\"#000000\" cx=\"68.2439\" cy=\"-162\" rx=\"68.4888\" ry=\"18\"/>\n",
       "<text text-anchor=\"middle\" x=\"68.2439\" y=\"-158.3\" font-family=\"Times,serif\" font-size=\"14.00\" fill=\"#000000\">3_x_oldpeak</text>\n",
       "</g>\n",
       "<!-- _start&#45;&gt;3_x_oldpeak -->\n",
       "<g id=\"edge1\" class=\"edge\">\n",
       "<title>_start&#45;&gt;3_x_oldpeak</title>\n",
       "<path fill=\"none\" stroke=\"#000000\" d=\"M68.2439,-215.8314C68.2439,-208.131 68.2439,-198.9743 68.2439,-190.4166\"/>\n",
       "<polygon fill=\"#000000\" stroke=\"#000000\" points=\"71.744,-190.4132 68.2439,-180.4133 64.744,-190.4133 71.744,-190.4132\"/>\n",
       "</g>\n",
       "<!-- chol_x_ca -->\n",
       "<g id=\"node3\" class=\"node\">\n",
       "<title>chol_x_ca</title>\n",
       "<ellipse fill=\"none\" stroke=\"#000000\" cx=\"68.2439\" cy=\"-90\" rx=\"55.7903\" ry=\"18\"/>\n",
       "<text text-anchor=\"middle\" x=\"68.2439\" y=\"-86.3\" font-family=\"Times,serif\" font-size=\"14.00\" fill=\"#000000\">chol_x_ca</text>\n",
       "</g>\n",
       "<!-- 3_x_oldpeak&#45;&gt;chol_x_ca -->\n",
       "<g id=\"edge2\" class=\"edge\">\n",
       "<title>3_x_oldpeak&#45;&gt;chol_x_ca</title>\n",
       "<path fill=\"none\" stroke=\"#000000\" d=\"M68.2439,-143.8314C68.2439,-136.131 68.2439,-126.9743 68.2439,-118.4166\"/>\n",
       "<polygon fill=\"#000000\" stroke=\"#000000\" points=\"71.744,-118.4132 68.2439,-108.4133 64.744,-118.4133 71.744,-118.4132\"/>\n",
       "</g>\n",
       "<!-- one_hot -->\n",
       "<g id=\"node4\" class=\"node\">\n",
       "<title>one_hot</title>\n",
       "<ellipse fill=\"none\" stroke=\"#000000\" cx=\"68.2439\" cy=\"-18\" rx=\"47.3916\" ry=\"18\"/>\n",
       "<text text-anchor=\"middle\" x=\"68.2439\" y=\"-14.3\" font-family=\"Times,serif\" font-size=\"14.00\" fill=\"#000000\">one_hot</text>\n",
       "</g>\n",
       "<!-- chol_x_ca&#45;&gt;one_hot -->\n",
       "<g id=\"edge3\" class=\"edge\">\n",
       "<title>chol_x_ca&#45;&gt;one_hot</title>\n",
       "<path fill=\"none\" stroke=\"#000000\" d=\"M68.2439,-71.8314C68.2439,-64.131 68.2439,-54.9743 68.2439,-46.4166\"/>\n",
       "<polygon fill=\"#000000\" stroke=\"#000000\" points=\"71.744,-46.4132 68.2439,-36.4133 64.744,-46.4133 71.744,-46.4132\"/>\n",
       "</g>\n",
       "</g>\n",
       "</svg>\n"
      ],
      "text/plain": [
       "<graphviz.dot.Digraph at 0x7f0b7dd1e5d0>"
      ]
     },
     "execution_count": 10,
     "metadata": {},
     "output_type": "execute_result"
    }
   ],
   "source": [
    "pandas_set = fstore.FeatureSet(\n",
    "    name=\"heart-disease-pandas-transform\",\n",
    "    entities=[fstore.Entity(\"patient_id\")],\n",
    "    description=\"Heart disease data via pandas engine with transformations\",\n",
    "    engine=\"pandas\"\n",
    ")\n",
    "\n",
    "pandas_set.graph.to(name=\"3_x_oldpeak\", handler=\"oldpeak_times_three_pandas\")\\\n",
    "                .to(name=\"chol_x_ca\", class_name=\"MultiplyColumnsPandas\", handler=\"custom_handler\", input_columns=[\"chol\", \"ca\"], output_column=\"chol_x_ca\")\\\n",
    "                .to(name=\"one_hot\", class_name=\"OneHotEncoderPandas\", one_hot_columns=[\"exang\"])\n",
    "\n",
    "pandas_set.graph.plot()"
   ]
  },
  {
   "cell_type": "markdown",
   "id": "f8efbda6",
   "metadata": {},
   "source": [
    "For the sake of performance and not duplicating data in memory, the transformations will operate directly on the data passed in. If you are ingesting a dataframe, the original dataframe will be modified. To prevent this, pass in a copy (if memory allows) or a path to a file.\n",
    "\n",
    "In this example, we will ingest a copy of the data to preserve the original."
   ]
  },
  {
   "cell_type": "code",
   "execution_count": 11,
   "id": "1d024b3b",
   "metadata": {},
   "outputs": [
    {
     "name": "stderr",
     "output_type": "stream",
     "text": [
      "Warning - Server version '0.9.6' is different from client version '0.10.2'. Some operations may not work as expected.\n"
     ]
    },
    {
     "data": {
      "text/html": [
       "<div>\n",
       "<style scoped>\n",
       "    .dataframe tbody tr th:only-of-type {\n",
       "        vertical-align: middle;\n",
       "    }\n",
       "\n",
       "    .dataframe tbody tr th {\n",
       "        vertical-align: top;\n",
       "    }\n",
       "\n",
       "    .dataframe thead th {\n",
       "        text-align: right;\n",
       "    }\n",
       "</style>\n",
       "<table border=\"1\" class=\"dataframe\">\n",
       "  <thead>\n",
       "    <tr style=\"text-align: right;\">\n",
       "      <th></th>\n",
       "      <th>patient_id</th>\n",
       "      <th>oldpeak</th>\n",
       "      <th>chol</th>\n",
       "      <th>ca</th>\n",
       "      <th>three_x_oldpeak</th>\n",
       "      <th>chol_x_ca</th>\n",
       "      <th>exang_no</th>\n",
       "      <th>exang_yes</th>\n",
       "    </tr>\n",
       "  </thead>\n",
       "  <tbody>\n",
       "    <tr>\n",
       "      <th>0</th>\n",
       "      <td>e443544b-8d9e-4f6c-9623-e24b6139aae0</td>\n",
       "      <td>1.0</td>\n",
       "      <td>212</td>\n",
       "      <td>2.0</td>\n",
       "      <td>3.0</td>\n",
       "      <td>424.0</td>\n",
       "      <td>1</td>\n",
       "      <td>0</td>\n",
       "    </tr>\n",
       "    <tr>\n",
       "      <th>1</th>\n",
       "      <td>8227d3df-16ab-4452-8ea5-99472362d982</td>\n",
       "      <td>3.1</td>\n",
       "      <td>203</td>\n",
       "      <td>0.0</td>\n",
       "      <td>9.3</td>\n",
       "      <td>0.0</td>\n",
       "      <td>0</td>\n",
       "      <td>1</td>\n",
       "    </tr>\n",
       "    <tr>\n",
       "      <th>2</th>\n",
       "      <td>10c4b4ba-ab40-44de-8aba-6bdb062192c4</td>\n",
       "      <td>2.6</td>\n",
       "      <td>174</td>\n",
       "      <td>0.0</td>\n",
       "      <td>7.8</td>\n",
       "      <td>0.0</td>\n",
       "      <td>0</td>\n",
       "      <td>1</td>\n",
       "    </tr>\n",
       "    <tr>\n",
       "      <th>3</th>\n",
       "      <td>f0acdc22-7ee6-4817-a671-e136211bc0a6</td>\n",
       "      <td>0.0</td>\n",
       "      <td>203</td>\n",
       "      <td>1.0</td>\n",
       "      <td>0.0</td>\n",
       "      <td>203.0</td>\n",
       "      <td>1</td>\n",
       "      <td>0</td>\n",
       "    </tr>\n",
       "    <tr>\n",
       "      <th>4</th>\n",
       "      <td>2d6b3bca-4841-4618-9a8c-ca902010b009</td>\n",
       "      <td>1.9</td>\n",
       "      <td>294</td>\n",
       "      <td>3.0</td>\n",
       "      <td>5.7</td>\n",
       "      <td>882.0</td>\n",
       "      <td>1</td>\n",
       "      <td>0</td>\n",
       "    </tr>\n",
       "    <tr>\n",
       "      <th>...</th>\n",
       "      <td>...</td>\n",
       "      <td>...</td>\n",
       "      <td>...</td>\n",
       "      <td>...</td>\n",
       "      <td>...</td>\n",
       "      <td>...</td>\n",
       "      <td>...</td>\n",
       "      <td>...</td>\n",
       "    </tr>\n",
       "    <tr>\n",
       "      <th>963</th>\n",
       "      <td>5d2fc80f-ed64-4e1c-9c95-3baace09118b</td>\n",
       "      <td>0.0</td>\n",
       "      <td>221</td>\n",
       "      <td>0.0</td>\n",
       "      <td>0.0</td>\n",
       "      <td>0.0</td>\n",
       "      <td>0</td>\n",
       "      <td>1</td>\n",
       "    </tr>\n",
       "    <tr>\n",
       "      <th>964</th>\n",
       "      <td>01548a7e-0f68-4308-80de-cd93fdbfb903</td>\n",
       "      <td>2.8</td>\n",
       "      <td>258</td>\n",
       "      <td>1.0</td>\n",
       "      <td>8.4</td>\n",
       "      <td>258.0</td>\n",
       "      <td>0</td>\n",
       "      <td>1</td>\n",
       "    </tr>\n",
       "    <tr>\n",
       "      <th>965</th>\n",
       "      <td>f8c97cc1-8a3a-4b8e-965c-58e75c2379e6</td>\n",
       "      <td>1.0</td>\n",
       "      <td>275</td>\n",
       "      <td>1.0</td>\n",
       "      <td>3.0</td>\n",
       "      <td>275.0</td>\n",
       "      <td>0</td>\n",
       "      <td>1</td>\n",
       "    </tr>\n",
       "    <tr>\n",
       "      <th>966</th>\n",
       "      <td>d7fc9e01-b792-44da-88fa-a0057527da3f</td>\n",
       "      <td>0.0</td>\n",
       "      <td>254</td>\n",
       "      <td>0.0</td>\n",
       "      <td>0.0</td>\n",
       "      <td>0.0</td>\n",
       "      <td>1</td>\n",
       "      <td>0</td>\n",
       "    </tr>\n",
       "    <tr>\n",
       "      <th>967</th>\n",
       "      <td>8f2a32fc-9424-4bdc-aac1-3c493675fa48</td>\n",
       "      <td>1.4</td>\n",
       "      <td>188</td>\n",
       "      <td>1.0</td>\n",
       "      <td>4.2</td>\n",
       "      <td>188.0</td>\n",
       "      <td>1</td>\n",
       "      <td>0</td>\n",
       "    </tr>\n",
       "  </tbody>\n",
       "</table>\n",
       "<p>968 rows × 8 columns</p>\n",
       "</div>"
      ],
      "text/plain": [
       "                               patient_id  oldpeak  chol   ca  \\\n",
       "0    e443544b-8d9e-4f6c-9623-e24b6139aae0      1.0   212  2.0   \n",
       "1    8227d3df-16ab-4452-8ea5-99472362d982      3.1   203  0.0   \n",
       "2    10c4b4ba-ab40-44de-8aba-6bdb062192c4      2.6   174  0.0   \n",
       "3    f0acdc22-7ee6-4817-a671-e136211bc0a6      0.0   203  1.0   \n",
       "4    2d6b3bca-4841-4618-9a8c-ca902010b009      1.9   294  3.0   \n",
       "..                                    ...      ...   ...  ...   \n",
       "963  5d2fc80f-ed64-4e1c-9c95-3baace09118b      0.0   221  0.0   \n",
       "964  01548a7e-0f68-4308-80de-cd93fdbfb903      2.8   258  1.0   \n",
       "965  f8c97cc1-8a3a-4b8e-965c-58e75c2379e6      1.0   275  1.0   \n",
       "966  d7fc9e01-b792-44da-88fa-a0057527da3f      0.0   254  0.0   \n",
       "967  8f2a32fc-9424-4bdc-aac1-3c493675fa48      1.4   188  1.0   \n",
       "\n",
       "     three_x_oldpeak  chol_x_ca  exang_no  exang_yes  \n",
       "0                3.0      424.0         1          0  \n",
       "1                9.3        0.0         0          1  \n",
       "2                7.8        0.0         0          1  \n",
       "3                0.0      203.0         1          0  \n",
       "4                5.7      882.0         1          0  \n",
       "..               ...        ...       ...        ...  \n",
       "963              0.0        0.0         0          1  \n",
       "964              8.4      258.0         0          1  \n",
       "965              3.0      275.0         0          1  \n",
       "966              0.0        0.0         1          0  \n",
       "967              4.2      188.0         1          0  \n",
       "\n",
       "[968 rows x 8 columns]"
      ]
     },
     "execution_count": 11,
     "metadata": {},
     "output_type": "execute_result"
    }
   ],
   "source": [
    "fstore.ingest(featureset=pandas_set, source=DataFrameSource(df=data.copy()))"
   ]
  },
  {
   "cell_type": "markdown",
   "id": "cca859cb",
   "metadata": {},
   "source": [
    "#### Spark Transformation"
   ]
  },
  {
   "cell_type": "markdown",
   "id": "eb0f57ed",
   "metadata": {},
   "source": [
    "A `spark` transformation will be either a custom Python class a simple Python function. Like the `storey` and `pandas` engines, the function approach is great for simpler transformations, whereas the class approach is great for more complex behaviors and passing parameters.\n",
    "\n",
    "**Note that these transformations are designed to run on an entire dataframe at once.**\n",
    "\n",
    "Because you have access to the entire dataframe during the transformation, tasks like One Hot Encoding and imputing can be performed like you would expect."
   ]
  },
  {
   "cell_type": "code",
   "execution_count": 12,
   "id": "9765459a",
   "metadata": {},
   "outputs": [],
   "source": [
    "def oldpeak_times_three_spark(df):\n",
    "    \"\"\"Simple transformation function to multiply oldpeak by 3\"\"\"\n",
    "    return df.withColumn(\"three_x_oldpeak\", df[\"oldpeak\"] * 3)"
   ]
  },
  {
   "cell_type": "code",
   "execution_count": 13,
   "id": "16995897",
   "metadata": {},
   "outputs": [],
   "source": [
    "class MultiplyColumnsSpark:\n",
    "    \"\"\"\n",
    "    Transformation class to create a new column based on\n",
    "    multiplying other columns together.\n",
    "    \"\"\"\n",
    "    def __init__(self, input_columns, output_column):\n",
    "        self.input_columns = input_columns\n",
    "        self.output_column = output_column\n",
    "\n",
    "    def custom_handler(self, df, context=None):\n",
    "        df = df.withColumn(self.output_column, F.lit(1))\n",
    "        for col in self.input_columns:\n",
    "            df = df.withColumn(self.output_column, df[col] * df[self.output_column])\n",
    "        return df"
   ]
  },
  {
   "cell_type": "code",
   "execution_count": 14,
   "id": "6afb2e03",
   "metadata": {},
   "outputs": [],
   "source": [
    "class OneHotEncoderSpark:\n",
    "    \"\"\"\n",
    "    One hot encoder using spark in the same style as pandas get_dummies\n",
    "    \"\"\"\n",
    "    def __init__(self, one_hot_columns):\n",
    "        self.one_hot_columns = one_hot_columns\n",
    "    \n",
    "    def do(self, df, context=None):\n",
    "        for one_hot_column in self.one_hot_columns:\n",
    "            # Get distinct categories as list\n",
    "            categories = df.select(one_hot_column).distinct().collect()\n",
    "            categories = [c[one_hot_column] for c in categories]\n",
    "            \n",
    "            # Create expression per category - 1 if category 0 otherwise\n",
    "            exprs = [F.when(F.col(one_hot_column) == category, 1)\\\n",
    "                      .otherwise(0)\\\n",
    "                      .alias(one_hot_column) for category in categories]\n",
    "\n",
    "            # Create columns via expressions\n",
    "            for category, expr in zip(categories, exprs):\n",
    "                df = df.withColumn(f\"{one_hot_column}_{category}\", expr)\n",
    "\n",
    "        return df.drop(one_hot_column)"
   ]
  },
  {
   "cell_type": "markdown",
   "id": "936c19f2",
   "metadata": {},
   "source": [
    "Once the transformations are defined, you can add them to the computation graph. When using a function, specify the `handler` parameter. When using a class, specify the `class_name` parameter. When using a class, you can also specify the `handler` to use (the default will be `do()`)."
   ]
  },
  {
   "cell_type": "code",
   "execution_count": 15,
   "id": "4b58183a",
   "metadata": {},
   "outputs": [
    {
     "data": {
      "image/svg+xml": [
       "<?xml version=\"1.0\" encoding=\"UTF-8\" standalone=\"no\"?>\n",
       "<!DOCTYPE svg PUBLIC \"-//W3C//DTD SVG 1.1//EN\"\n",
       " \"http://www.w3.org/Graphics/SVG/1.1/DTD/svg11.dtd\">\n",
       "<!-- Generated by graphviz version 2.40.1 (20161225.0304)\n",
       " -->\n",
       "<!-- Title: mlrun&#45;flow Pages: 1 -->\n",
       "<svg width=\"144pt\" height=\"260pt\"\n",
       " viewBox=\"0.00 0.00 144.49 260.00\" xmlns=\"http://www.w3.org/2000/svg\" xmlns:xlink=\"http://www.w3.org/1999/xlink\">\n",
       "<g id=\"graph0\" class=\"graph\" transform=\"scale(1 1) rotate(0) translate(4 256)\">\n",
       "<title>mlrun&#45;flow</title>\n",
       "<polygon fill=\"#ffffff\" stroke=\"transparent\" points=\"-4,4 -4,-256 140.4879,-256 140.4879,4 -4,4\"/>\n",
       "<!-- _start -->\n",
       "<g id=\"node1\" class=\"node\">\n",
       "<title>_start</title>\n",
       "<polygon fill=\"#d3d3d3\" stroke=\"#000000\" points=\"71.492,-216.0493 73.6425,-216.1479 75.7707,-216.2953 77.868,-216.4913 79.9259,-216.7353 81.9361,-217.0266 83.8907,-217.3645 85.7821,-217.7479 87.6031,-218.1759 89.3469,-218.6472 91.0073,-219.1606 92.5784,-219.7147 94.0551,-220.308 95.4326,-220.9388 96.707,-221.6054 97.8746,-222.3059 98.9326,-223.0385 99.8787,-223.8012 100.7113,-224.5918 101.4293,-225.4082 102.0323,-226.2481 102.5203,-227.1093 102.894,-227.9894 103.1546,-228.886 103.304,-229.7965 103.3441,-230.7186 103.2778,-231.6497 103.108,-232.5873 102.8381,-233.5287 102.472,-234.4713 102.0135,-235.4127 101.4669,-236.3503 100.8368,-237.2814 100.1275,-238.2035 99.344,-239.114 98.4908,-240.0106 97.5729,-240.8907 96.5949,-241.7519 95.5615,-242.5918 94.4773,-243.4082 93.3468,-244.1988 92.1744,-244.9615 90.9641,-245.6941 89.7199,-246.3946 88.4456,-247.0612 87.1446,-247.692 85.8202,-248.2853 84.4753,-248.8394 83.1128,-249.3528 81.7352,-249.8241 80.3447,-250.2521 78.9433,-250.6355 77.533,-250.9734 76.1153,-251.2647 74.6916,-251.5087 73.2633,-251.7047 71.8316,-251.8521 70.3975,-251.9507 68.9619,-252 67.5259,-252 66.0904,-251.9507 64.6563,-251.8521 63.2246,-251.7047 61.7963,-251.5087 60.3726,-251.2647 58.9549,-250.9734 57.5446,-250.6355 56.1432,-250.2521 54.7527,-249.8241 53.375,-249.3528 52.0126,-248.8394 50.6677,-248.2853 49.3433,-247.692 48.0423,-247.0612 46.768,-246.3946 45.5238,-245.6941 44.3135,-244.9615 43.1411,-244.1988 42.0106,-243.4082 40.9264,-242.5918 39.893,-241.7519 38.915,-240.8907 37.997,-240.0106 37.1439,-239.114 36.3603,-238.2035 35.6511,-237.2814 35.021,-236.3503 34.4744,-235.4127 34.0159,-234.4713 33.6497,-233.5287 33.3799,-232.5873 33.2101,-231.6497 33.1438,-230.7186 33.1839,-229.7965 33.3333,-228.886 33.5939,-227.9894 33.9676,-227.1093 34.4556,-226.2481 35.0586,-225.4082 35.7766,-224.5918 36.6092,-223.8012 37.5553,-223.0385 38.6133,-222.3059 39.7809,-221.6054 41.0553,-220.9388 42.4328,-220.308 43.9095,-219.7147 45.4806,-219.1606 47.141,-218.6472 48.8848,-218.1759 50.7058,-217.7479 52.5972,-217.3645 54.5518,-217.0266 56.562,-216.7353 58.6199,-216.4913 60.7172,-216.2953 62.8454,-216.1479 64.9959,-216.0493 67.1598,-216 69.3281,-216 71.492,-216.0493\"/>\n",
       "<text text-anchor=\"middle\" x=\"68.2439\" y=\"-230.3\" font-family=\"Times,serif\" font-size=\"14.00\" fill=\"#000000\">start</text>\n",
       "</g>\n",
       "<!-- 3_x_oldpeak -->\n",
       "<g id=\"node2\" class=\"node\">\n",
       "<title>3_x_oldpeak</title>\n",
       "<ellipse fill=\"none\" stroke=\"#000000\" cx=\"68.2439\" cy=\"-162\" rx=\"68.4888\" ry=\"18\"/>\n",
       "<text text-anchor=\"middle\" x=\"68.2439\" y=\"-158.3\" font-family=\"Times,serif\" font-size=\"14.00\" fill=\"#000000\">3_x_oldpeak</text>\n",
       "</g>\n",
       "<!-- _start&#45;&gt;3_x_oldpeak -->\n",
       "<g id=\"edge1\" class=\"edge\">\n",
       "<title>_start&#45;&gt;3_x_oldpeak</title>\n",
       "<path fill=\"none\" stroke=\"#000000\" d=\"M68.2439,-215.8314C68.2439,-208.131 68.2439,-198.9743 68.2439,-190.4166\"/>\n",
       "<polygon fill=\"#000000\" stroke=\"#000000\" points=\"71.744,-190.4132 68.2439,-180.4133 64.744,-190.4133 71.744,-190.4132\"/>\n",
       "</g>\n",
       "<!-- chol_x_ca -->\n",
       "<g id=\"node3\" class=\"node\">\n",
       "<title>chol_x_ca</title>\n",
       "<ellipse fill=\"none\" stroke=\"#000000\" cx=\"68.2439\" cy=\"-90\" rx=\"55.7903\" ry=\"18\"/>\n",
       "<text text-anchor=\"middle\" x=\"68.2439\" y=\"-86.3\" font-family=\"Times,serif\" font-size=\"14.00\" fill=\"#000000\">chol_x_ca</text>\n",
       "</g>\n",
       "<!-- 3_x_oldpeak&#45;&gt;chol_x_ca -->\n",
       "<g id=\"edge2\" class=\"edge\">\n",
       "<title>3_x_oldpeak&#45;&gt;chol_x_ca</title>\n",
       "<path fill=\"none\" stroke=\"#000000\" d=\"M68.2439,-143.8314C68.2439,-136.131 68.2439,-126.9743 68.2439,-118.4166\"/>\n",
       "<polygon fill=\"#000000\" stroke=\"#000000\" points=\"71.744,-118.4132 68.2439,-108.4133 64.744,-118.4133 71.744,-118.4132\"/>\n",
       "</g>\n",
       "<!-- one_hot -->\n",
       "<g id=\"node4\" class=\"node\">\n",
       "<title>one_hot</title>\n",
       "<ellipse fill=\"none\" stroke=\"#000000\" cx=\"68.2439\" cy=\"-18\" rx=\"47.3916\" ry=\"18\"/>\n",
       "<text text-anchor=\"middle\" x=\"68.2439\" y=\"-14.3\" font-family=\"Times,serif\" font-size=\"14.00\" fill=\"#000000\">one_hot</text>\n",
       "</g>\n",
       "<!-- chol_x_ca&#45;&gt;one_hot -->\n",
       "<g id=\"edge3\" class=\"edge\">\n",
       "<title>chol_x_ca&#45;&gt;one_hot</title>\n",
       "<path fill=\"none\" stroke=\"#000000\" d=\"M68.2439,-71.8314C68.2439,-64.131 68.2439,-54.9743 68.2439,-46.4166\"/>\n",
       "<polygon fill=\"#000000\" stroke=\"#000000\" points=\"71.744,-46.4132 68.2439,-36.4133 64.744,-46.4133 71.744,-46.4132\"/>\n",
       "</g>\n",
       "</g>\n",
       "</svg>\n"
      ],
      "text/plain": [
       "<graphviz.dot.Digraph at 0x7f0b7b63a610>"
      ]
     },
     "execution_count": 15,
     "metadata": {},
     "output_type": "execute_result"
    }
   ],
   "source": [
    "spark_set = fstore.FeatureSet(\n",
    "    name=\"heart-disease-spark-transform\",\n",
    "    entities=[fstore.Entity(\"patient_id\")],\n",
    "    description=\"Heart disease data via spark engine with transformations\",\n",
    "    engine=\"spark\"\n",
    ")\n",
    "\n",
    "spark_set.graph.to(name=\"3_x_oldpeak\", handler=\"oldpeak_times_three_spark\")\\\n",
    "                .to(name=\"chol_x_ca\", class_name=\"MultiplyColumnsSpark\", handler=\"custom_handler\", input_columns=[\"chol\", \"ca\"], output_column=\"chol_x_ca\")\\\n",
    "                .to(name=\"one_hot\", class_name=\"OneHotEncoderSpark\", one_hot_columns=[\"exang\"])\n",
    "\n",
    "spark_set.graph.plot()"
   ]
  },
  {
   "cell_type": "code",
   "execution_count": 16,
   "id": "d86ce36b",
   "metadata": {},
   "outputs": [],
   "source": [
    "spark = SparkSession.builder.appName(\"Spark function\").getOrCreate()"
   ]
  },
  {
   "cell_type": "code",
   "execution_count": 17,
   "id": "3091016d",
   "metadata": {},
   "outputs": [],
   "source": [
    "v3io_data_path = \"v3io://users/nick/igz_repos/iguazio-academy/modules/core/7_feature_store/data/heart_disease_subset.csv\""
   ]
  },
  {
   "cell_type": "code",
   "execution_count": 18,
   "id": "11230af9",
   "metadata": {},
   "outputs": [
    {
     "name": "stdout",
     "output_type": "stream",
     "text": [
      "> 2022-04-28 22:37:15,387 [info] writing to target parquet, spark options {'path': 'v3io://projects/iguazio-academy/FeatureStore/heart-disease-spark-transform/parquet/sets/heart-disease-spark-transform-latest', 'format': 'parquet'}\n",
      "> 2022-04-28 22:37:16,897 [info] writing to target nosql, spark options {'path': 'v3io://projects/iguazio-academy/FeatureStore/heart-disease-spark-transform/nosql/sets/heart-disease-spark-transform-latest', 'format': 'io.iguaz.v3io.spark.sql.kv', 'key': 'patient_id'}\n"
     ]
    },
    {
     "data": {
      "text/plain": [
       "DataFrame[patient_id: string, oldpeak: double, chol: int, ca: double, three_x_oldpeak: double, chol_x_ca: double, exang_no: int, exang_yes: int]"
      ]
     },
     "execution_count": 18,
     "metadata": {},
     "output_type": "execute_result"
    }
   ],
   "source": [
    "fstore.ingest(featureset=spark_set, source=CSVSource(path=v3io_data_path), spark_context=spark)"
   ]
  },
  {
   "cell_type": "markdown",
   "id": "928eecea",
   "metadata": {},
   "source": [
    "---"
   ]
  }
 ],
 "metadata": {
  "kernelspec": {
   "display_name": "Python 3",
   "language": "python",
   "name": "python3"
  },
  "language_info": {
   "codemirror_mode": {
    "name": "ipython",
    "version": 3
   },
   "file_extension": ".py",
   "mimetype": "text/x-python",
   "name": "python",
   "nbconvert_exporter": "python",
   "pygments_lexer": "ipython3",
   "version": "3.7.6"
  }
 },
 "nbformat": 4,
 "nbformat_minor": 5
}
