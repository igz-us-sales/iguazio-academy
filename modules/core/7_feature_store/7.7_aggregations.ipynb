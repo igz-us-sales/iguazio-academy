{
 "cells": [
  {
   "cell_type": "markdown",
   "id": "f89a78d2",
   "metadata": {},
   "source": [
    "# Core 7.7 Feature Store - Aggregations"
   ]
  },
  {
   "cell_type": "markdown",
   "id": "bace3725",
   "metadata": {},
   "source": [
    "In this section, we will take a look at the built in aggregation features for batch and real-time data."
   ]
  },
  {
   "cell_type": "markdown",
   "id": "2b19103f",
   "metadata": {},
   "source": [
    "---"
   ]
  },
  {
   "cell_type": "markdown",
   "id": "37573c14",
   "metadata": {},
   "source": [
    "### References"
   ]
  },
  {
   "cell_type": "markdown",
   "id": "a5a9e53e",
   "metadata": {},
   "source": [
    "Much of the following content is derived from the official documenation:\n",
    "- [Feature set transformations](https://docs.mlrun.org/en/stable/feature-store/transformations.html)\n",
    "- [FeatureSet.add_aggregation](https://docs.mlrun.org/en/stable/api/mlrun.feature_store.html#mlrun.feature_store.FeatureSet.add_aggregation)"
   ]
  },
  {
   "cell_type": "markdown",
   "id": "6ec609f5",
   "metadata": {},
   "source": [
    "---"
   ]
  },
  {
   "cell_type": "markdown",
   "id": "1c030a0c",
   "metadata": {},
   "source": [
    "### What is an aggregation?"
   ]
  },
  {
   "cell_type": "markdown",
   "id": "27baecb8",
   "metadata": {},
   "source": [
    "So what exactly is an `aggregation` in the context of the feature store? It is simple syntax that allows for the creation of a new column in a `Feature Set` by performing time-based aggregations on an existing column.\n",
    "\n",
    "The aggregation itself is calculated based on the `Entity` of the record. For example, multiple records with the same `stock_ticker` will be used when computing an `aggregation`."
   ]
  },
  {
   "cell_type": "markdown",
   "id": "4df6e5d7",
   "metadata": {},
   "source": [
    "---"
   ]
  },
  {
   "cell_type": "markdown",
   "id": "82f07c4a",
   "metadata": {},
   "source": [
    "### What aggregations are supported?"
   ]
  },
  {
   "cell_type": "markdown",
   "id": "8ee4aa72",
   "metadata": {},
   "source": [
    "At this time, the following aggregations are supported:\n",
    "- count\n",
    "- sum\n",
    "- sqr (sum of squares)\n",
    "- max\n",
    "- min\n",
    "- first\n",
    "- last\n",
    "- avg\n",
    "- stdvar\n",
    "- stddev"
   ]
  },
  {
   "cell_type": "markdown",
   "id": "49894bfd",
   "metadata": {},
   "source": [
    "---"
   ]
  },
  {
   "cell_type": "markdown",
   "id": "828bac57",
   "metadata": {},
   "source": [
    "### What engines support aggregations?"
   ]
  },
  {
   "cell_type": "markdown",
   "id": "0db04e7e",
   "metadata": {},
   "source": [
    "At this time, the `storey`, and `spark` engines support aggregations. The underlying implementation is different per engine, but the syntax is the same."
   ]
  },
  {
   "cell_type": "markdown",
   "id": "59426a7d",
   "metadata": {},
   "source": [
    "---"
   ]
  },
  {
   "cell_type": "markdown",
   "id": "529e9ca5",
   "metadata": {},
   "source": [
    "### Adding an Aggregation"
   ]
  },
  {
   "cell_type": "markdown",
   "id": "51ba2f4f",
   "metadata": {},
   "source": [
    "Adding an `aggregation` in the Feature Store is done at the `Feature Set` level. Much like a transformation, it is a step in the computation graph. An example of an aggregation looks like the following:\n",
    "\n",
    "```python\n",
    "import mlrun.feature_store as fstore\n",
    "\n",
    "my_feature_set = fstore.FeatureSet(\n",
    "    name=\"stocks\",\n",
    "    entities=[fstore.Entity(\"ticker\")],\n",
    "    description=\"Stock data per ticker\",\n",
    "    timestamp_key=\"time\"\n",
    ")\n",
    "\n",
    "my_feature_set.add_aggregation(column=\"bid\", operations=[\"min\", \"max\"], windows=[\"1h\", \"1d\"], period=\"10m\")\n",
    "```"
   ]
  },
  {
   "cell_type": "markdown",
   "id": "83b22dff",
   "metadata": {},
   "source": [
    "Note that you can add multiple `aggregation` operations for a single column in the same step. You can also specify an optional period to perform a sliding window aggregation. The `Feature Set` will automatically detect the timestamp column, but you can also manually specify it."
   ]
  },
  {
   "cell_type": "markdown",
   "id": "eb28e148",
   "metadata": {},
   "source": [
    "---"
   ]
  },
  {
   "cell_type": "markdown",
   "id": "190a69c6",
   "metadata": {},
   "source": [
    "### Example Overview"
   ]
  },
  {
   "cell_type": "markdown",
   "id": "bfec25cd",
   "metadata": {},
   "source": [
    "In this example, we will ingest a dataset as a `Feature Set` and add an `aggregation` to the computation graph. We will be using the `storey` engine, but the same syntax applies to the other engines as well."
   ]
  },
  {
   "cell_type": "markdown",
   "id": "b1d26ac4",
   "metadata": {},
   "source": [
    "---"
   ]
  },
  {
   "cell_type": "markdown",
   "id": "87097e36",
   "metadata": {},
   "source": [
    "### Setup"
   ]
  },
  {
   "cell_type": "code",
   "execution_count": 3,
   "id": "3408ad0e",
   "metadata": {},
   "outputs": [
    {
     "name": "stdout",
     "output_type": "stream",
     "text": [
      "> 2022-04-28 23:33:44,891 [info] loaded project iguazio-academy from MLRun DB\n"
     ]
    }
   ],
   "source": [
    "import pandas as pd\n",
    "import mlrun\n",
    "import mlrun.feature_store as fstore\n",
    "from mlrun.datastore.sources import DataFrameSource, CSVSource\n",
    "\n",
    "project = mlrun.get_or_create_project(\"iguazio-academy\", context=\"./\")"
   ]
  },
  {
   "cell_type": "markdown",
   "id": "b3c1a50f",
   "metadata": {},
   "source": [
    "### Stock Quote Aggregations via Storey Engine"
   ]
  },
  {
   "cell_type": "code",
   "execution_count": 4,
   "id": "6502be5b",
   "metadata": {},
   "outputs": [
    {
     "data": {
      "text/html": [
       "<div>\n",
       "<style scoped>\n",
       "    .dataframe tbody tr th:only-of-type {\n",
       "        vertical-align: middle;\n",
       "    }\n",
       "\n",
       "    .dataframe tbody tr th {\n",
       "        vertical-align: top;\n",
       "    }\n",
       "\n",
       "    .dataframe thead th {\n",
       "        text-align: right;\n",
       "    }\n",
       "</style>\n",
       "<table border=\"1\" class=\"dataframe\">\n",
       "  <thead>\n",
       "    <tr style=\"text-align: right;\">\n",
       "      <th></th>\n",
       "      <th>ticker</th>\n",
       "      <th>time</th>\n",
       "      <th>bid</th>\n",
       "      <th>ask</th>\n",
       "    </tr>\n",
       "  </thead>\n",
       "  <tbody>\n",
       "    <tr>\n",
       "      <th>0</th>\n",
       "      <td>GOOG</td>\n",
       "      <td>2016-05-25 13:30:00.023</td>\n",
       "      <td>720.50</td>\n",
       "      <td>720.93</td>\n",
       "    </tr>\n",
       "    <tr>\n",
       "      <th>1</th>\n",
       "      <td>MSFT</td>\n",
       "      <td>2016-05-25 13:30:00.023</td>\n",
       "      <td>51.95</td>\n",
       "      <td>51.96</td>\n",
       "    </tr>\n",
       "    <tr>\n",
       "      <th>2</th>\n",
       "      <td>MSFT</td>\n",
       "      <td>2016-05-25 13:30:00.030</td>\n",
       "      <td>51.97</td>\n",
       "      <td>51.98</td>\n",
       "    </tr>\n",
       "    <tr>\n",
       "      <th>3</th>\n",
       "      <td>MSFT</td>\n",
       "      <td>2016-05-25 13:30:00.041</td>\n",
       "      <td>51.99</td>\n",
       "      <td>52.00</td>\n",
       "    </tr>\n",
       "    <tr>\n",
       "      <th>4</th>\n",
       "      <td>GOOG</td>\n",
       "      <td>2016-05-25 13:30:00.048</td>\n",
       "      <td>720.50</td>\n",
       "      <td>720.93</td>\n",
       "    </tr>\n",
       "    <tr>\n",
       "      <th>5</th>\n",
       "      <td>AAPL</td>\n",
       "      <td>2016-05-25 13:30:00.049</td>\n",
       "      <td>97.99</td>\n",
       "      <td>98.01</td>\n",
       "    </tr>\n",
       "    <tr>\n",
       "      <th>6</th>\n",
       "      <td>GOOG</td>\n",
       "      <td>2016-05-25 13:30:00.072</td>\n",
       "      <td>720.50</td>\n",
       "      <td>720.88</td>\n",
       "    </tr>\n",
       "    <tr>\n",
       "      <th>7</th>\n",
       "      <td>MSFT</td>\n",
       "      <td>2016-05-25 13:30:00.075</td>\n",
       "      <td>52.01</td>\n",
       "      <td>52.03</td>\n",
       "    </tr>\n",
       "  </tbody>\n",
       "</table>\n",
       "</div>"
      ],
      "text/plain": [
       "  ticker                     time     bid     ask\n",
       "0   GOOG  2016-05-25 13:30:00.023  720.50  720.93\n",
       "1   MSFT  2016-05-25 13:30:00.023   51.95   51.96\n",
       "2   MSFT  2016-05-25 13:30:00.030   51.97   51.98\n",
       "3   MSFT  2016-05-25 13:30:00.041   51.99   52.00\n",
       "4   GOOG  2016-05-25 13:30:00.048  720.50  720.93\n",
       "5   AAPL  2016-05-25 13:30:00.049   97.99   98.01\n",
       "6   GOOG  2016-05-25 13:30:00.072  720.50  720.88\n",
       "7   MSFT  2016-05-25 13:30:00.075   52.01   52.03"
      ]
     },
     "execution_count": 4,
     "metadata": {},
     "output_type": "execute_result"
    }
   ],
   "source": [
    "quotes = pd.read_csv(\"data/stock_quotes.csv\")\n",
    "quotes"
   ]
  },
  {
   "cell_type": "code",
   "execution_count": 7,
   "id": "b13c5b48",
   "metadata": {},
   "outputs": [
    {
     "data": {
      "image/svg+xml": [
       "<?xml version=\"1.0\" encoding=\"UTF-8\" standalone=\"no\"?>\n",
       "<!DOCTYPE svg PUBLIC \"-//W3C//DTD SVG 1.1//EN\"\n",
       " \"http://www.w3.org/Graphics/SVG/1.1/DTD/svg11.dtd\">\n",
       "<!-- Generated by graphviz version 2.40.1 (20161225.0304)\n",
       " -->\n",
       "<!-- Title: mlrun&#45;flow Pages: 1 -->\n",
       "<svg width=\"137pt\" height=\"116pt\"\n",
       " viewBox=\"0.00 0.00 136.69 116.00\" xmlns=\"http://www.w3.org/2000/svg\" xmlns:xlink=\"http://www.w3.org/1999/xlink\">\n",
       "<g id=\"graph0\" class=\"graph\" transform=\"scale(1 1) rotate(0) translate(4 112)\">\n",
       "<title>mlrun&#45;flow</title>\n",
       "<polygon fill=\"#ffffff\" stroke=\"transparent\" points=\"-4,4 -4,-112 132.6886,-112 132.6886,4 -4,4\"/>\n",
       "<!-- _start -->\n",
       "<g id=\"node1\" class=\"node\">\n",
       "<title>_start</title>\n",
       "<polygon fill=\"#d3d3d3\" stroke=\"#000000\" points=\"67.5923,-72.0493 69.7428,-72.1479 71.8711,-72.2953 73.9684,-72.4913 76.0262,-72.7353 78.0365,-73.0266 79.9911,-73.3645 81.8824,-73.7479 83.7034,-74.1759 85.4472,-74.6472 87.1076,-75.1606 88.6787,-75.7147 90.1554,-76.308 91.533,-76.9388 92.8073,-77.6054 93.9749,-78.3059 95.0329,-79.0385 95.9791,-79.8012 96.8117,-80.5918 97.5297,-81.4082 98.1326,-82.2481 98.6206,-83.1093 98.9943,-83.9894 99.255,-84.886 99.4043,-85.7965 99.4445,-86.7186 99.3781,-87.6497 99.2083,-88.5873 98.9385,-89.5287 98.5723,-90.4713 98.1138,-91.4127 97.5673,-92.3503 96.9371,-93.2814 96.2279,-94.2035 95.4443,-95.114 94.5912,-96.0106 93.6732,-96.8907 92.6952,-97.7519 91.6618,-98.5918 90.5776,-99.4082 89.4472,-100.1988 88.2747,-100.9615 87.0644,-101.6941 85.8203,-102.3946 84.5459,-103.0612 83.2449,-103.692 81.9205,-104.2853 80.5757,-104.8394 79.2132,-105.3528 77.8355,-105.8241 76.445,-106.2521 75.0437,-106.6355 73.6333,-106.9734 72.2156,-107.2647 70.792,-107.5087 69.3637,-107.7047 67.932,-107.8521 66.4978,-107.9507 65.0623,-108 63.6263,-108 62.1908,-107.9507 60.7566,-107.8521 59.3249,-107.7047 57.8966,-107.5087 56.473,-107.2647 55.0553,-106.9734 53.6449,-106.6355 52.2435,-106.2521 50.853,-105.8241 49.4754,-105.3528 48.1129,-104.8394 46.7681,-104.2853 45.4436,-103.692 44.1426,-103.0612 42.8683,-102.3946 41.6242,-101.6941 40.4139,-100.9615 39.2414,-100.1988 38.111,-99.4082 37.0268,-98.5918 35.9934,-97.7519 35.0154,-96.8907 34.0974,-96.0106 33.2442,-95.114 32.4607,-94.2035 31.7515,-93.2814 31.1213,-92.3503 30.5748,-91.4127 30.1163,-90.4713 29.7501,-89.5287 29.4802,-88.5873 29.3104,-87.6497 29.2441,-86.7186 29.2843,-85.7965 29.4336,-84.886 29.6943,-83.9894 30.068,-83.1093 30.556,-82.2481 31.1589,-81.4082 31.8769,-80.5918 32.7095,-79.8012 33.6556,-79.0385 34.7137,-78.3059 35.8813,-77.6054 37.1556,-76.9388 38.5331,-76.308 40.0098,-75.7147 41.581,-75.1606 43.2413,-74.6472 44.9852,-74.1759 46.8061,-73.7479 48.6975,-73.3645 50.6521,-73.0266 52.6623,-72.7353 54.7202,-72.4913 56.8175,-72.2953 58.9458,-72.1479 61.0962,-72.0493 63.2601,-72 65.4285,-72 67.5923,-72.0493\"/>\n",
       "<text text-anchor=\"middle\" x=\"64.3443\" y=\"-86.3\" font-family=\"Times,serif\" font-size=\"14.00\" fill=\"#000000\">start</text>\n",
       "</g>\n",
       "<!-- Aggregates -->\n",
       "<g id=\"node2\" class=\"node\">\n",
       "<title>Aggregates</title>\n",
       "<ellipse fill=\"none\" stroke=\"#000000\" cx=\"64.3443\" cy=\"-18\" rx=\"64.189\" ry=\"18\"/>\n",
       "<text text-anchor=\"middle\" x=\"64.3443\" y=\"-14.3\" font-family=\"Times,serif\" font-size=\"14.00\" fill=\"#000000\">Aggregates</text>\n",
       "</g>\n",
       "<!-- _start&#45;&gt;Aggregates -->\n",
       "<g id=\"edge1\" class=\"edge\">\n",
       "<title>_start&#45;&gt;Aggregates</title>\n",
       "<path fill=\"none\" stroke=\"#000000\" d=\"M64.3443,-71.8314C64.3443,-64.131 64.3443,-54.9743 64.3443,-46.4166\"/>\n",
       "<polygon fill=\"#000000\" stroke=\"#000000\" points=\"67.8444,-46.4132 64.3443,-36.4133 60.8444,-46.4133 67.8444,-46.4132\"/>\n",
       "</g>\n",
       "</g>\n",
       "</svg>\n"
      ],
      "text/plain": [
       "<graphviz.dot.Digraph at 0x7f3371024ad0>"
      ]
     },
     "execution_count": 7,
     "metadata": {},
     "output_type": "execute_result"
    }
   ],
   "source": [
    "quote_set = fstore.FeatureSet(\n",
    "    name=\"stock-quotes-aggregated\",\n",
    "    entities=[fstore.Entity(\"ticker\")],\n",
    "    description=\"Stock quotes with aggregations\",\n",
    ")\n",
    "\n",
    "quote_set.add_aggregation(column=\"bid\", operations=[\"avg\", \"sum\", \"count\"], windows=[\"1h\"])\n",
    "\n",
    "quote_set.plot()"
   ]
  },
  {
   "cell_type": "code",
   "execution_count": 8,
   "id": "19316e20",
   "metadata": {},
   "outputs": [
    {
     "data": {
      "text/html": [
       "<div>\n",
       "<style scoped>\n",
       "    .dataframe tbody tr th:only-of-type {\n",
       "        vertical-align: middle;\n",
       "    }\n",
       "\n",
       "    .dataframe tbody tr th {\n",
       "        vertical-align: top;\n",
       "    }\n",
       "\n",
       "    .dataframe thead th {\n",
       "        text-align: right;\n",
       "    }\n",
       "</style>\n",
       "<table border=\"1\" class=\"dataframe\">\n",
       "  <thead>\n",
       "    <tr style=\"text-align: right;\">\n",
       "      <th></th>\n",
       "      <th>bid_sum_1h</th>\n",
       "      <th>bid_count_1h</th>\n",
       "      <th>bid_avg_1h</th>\n",
       "      <th>time</th>\n",
       "      <th>bid</th>\n",
       "      <th>ask</th>\n",
       "    </tr>\n",
       "    <tr>\n",
       "      <th>ticker</th>\n",
       "      <th></th>\n",
       "      <th></th>\n",
       "      <th></th>\n",
       "      <th></th>\n",
       "      <th></th>\n",
       "      <th></th>\n",
       "    </tr>\n",
       "  </thead>\n",
       "  <tbody>\n",
       "    <tr>\n",
       "      <th>GOOG</th>\n",
       "      <td>720.50</td>\n",
       "      <td>1.0</td>\n",
       "      <td>720.50</td>\n",
       "      <td>2016-05-25 13:30:00.023</td>\n",
       "      <td>720.50</td>\n",
       "      <td>720.93</td>\n",
       "    </tr>\n",
       "    <tr>\n",
       "      <th>MSFT</th>\n",
       "      <td>51.95</td>\n",
       "      <td>1.0</td>\n",
       "      <td>51.95</td>\n",
       "      <td>2016-05-25 13:30:00.023</td>\n",
       "      <td>51.95</td>\n",
       "      <td>51.96</td>\n",
       "    </tr>\n",
       "    <tr>\n",
       "      <th>MSFT</th>\n",
       "      <td>103.92</td>\n",
       "      <td>2.0</td>\n",
       "      <td>51.96</td>\n",
       "      <td>2016-05-25 13:30:00.030</td>\n",
       "      <td>51.97</td>\n",
       "      <td>51.98</td>\n",
       "    </tr>\n",
       "    <tr>\n",
       "      <th>MSFT</th>\n",
       "      <td>155.91</td>\n",
       "      <td>3.0</td>\n",
       "      <td>51.97</td>\n",
       "      <td>2016-05-25 13:30:00.041</td>\n",
       "      <td>51.99</td>\n",
       "      <td>52.00</td>\n",
       "    </tr>\n",
       "    <tr>\n",
       "      <th>GOOG</th>\n",
       "      <td>1441.00</td>\n",
       "      <td>2.0</td>\n",
       "      <td>720.50</td>\n",
       "      <td>2016-05-25 13:30:00.048</td>\n",
       "      <td>720.50</td>\n",
       "      <td>720.93</td>\n",
       "    </tr>\n",
       "    <tr>\n",
       "      <th>AAPL</th>\n",
       "      <td>97.99</td>\n",
       "      <td>1.0</td>\n",
       "      <td>97.99</td>\n",
       "      <td>2016-05-25 13:30:00.049</td>\n",
       "      <td>97.99</td>\n",
       "      <td>98.01</td>\n",
       "    </tr>\n",
       "    <tr>\n",
       "      <th>GOOG</th>\n",
       "      <td>2161.50</td>\n",
       "      <td>3.0</td>\n",
       "      <td>720.50</td>\n",
       "      <td>2016-05-25 13:30:00.072</td>\n",
       "      <td>720.50</td>\n",
       "      <td>720.88</td>\n",
       "    </tr>\n",
       "    <tr>\n",
       "      <th>MSFT</th>\n",
       "      <td>207.92</td>\n",
       "      <td>4.0</td>\n",
       "      <td>51.98</td>\n",
       "      <td>2016-05-25 13:30:00.075</td>\n",
       "      <td>52.01</td>\n",
       "      <td>52.03</td>\n",
       "    </tr>\n",
       "  </tbody>\n",
       "</table>\n",
       "</div>"
      ],
      "text/plain": [
       "        bid_sum_1h  bid_count_1h  bid_avg_1h                     time     bid  \\\n",
       "ticker                                                                          \n",
       "GOOG        720.50           1.0      720.50  2016-05-25 13:30:00.023  720.50   \n",
       "MSFT         51.95           1.0       51.95  2016-05-25 13:30:00.023   51.95   \n",
       "MSFT        103.92           2.0       51.96  2016-05-25 13:30:00.030   51.97   \n",
       "MSFT        155.91           3.0       51.97  2016-05-25 13:30:00.041   51.99   \n",
       "GOOG       1441.00           2.0      720.50  2016-05-25 13:30:00.048  720.50   \n",
       "AAPL         97.99           1.0       97.99  2016-05-25 13:30:00.049   97.99   \n",
       "GOOG       2161.50           3.0      720.50  2016-05-25 13:30:00.072  720.50   \n",
       "MSFT        207.92           4.0       51.98  2016-05-25 13:30:00.075   52.01   \n",
       "\n",
       "           ask  \n",
       "ticker          \n",
       "GOOG    720.93  \n",
       "MSFT     51.96  \n",
       "MSFT     51.98  \n",
       "MSFT     52.00  \n",
       "GOOG    720.93  \n",
       "AAPL     98.01  \n",
       "GOOG    720.88  \n",
       "MSFT     52.03  "
      ]
     },
     "execution_count": 8,
     "metadata": {},
     "output_type": "execute_result"
    }
   ],
   "source": [
    "fstore.ingest(featureset=quote_set, source=DataFrameSource(df=quotes))"
   ]
  },
  {
   "cell_type": "markdown",
   "id": "3d9261be",
   "metadata": {},
   "source": [
    "### Stock Trade Aggregations via Spark Engine"
   ]
  },
  {
   "cell_type": "code",
   "execution_count": 9,
   "id": "de8bc456",
   "metadata": {},
   "outputs": [
    {
     "data": {
      "text/html": [
       "<div>\n",
       "<style scoped>\n",
       "    .dataframe tbody tr th:only-of-type {\n",
       "        vertical-align: middle;\n",
       "    }\n",
       "\n",
       "    .dataframe tbody tr th {\n",
       "        vertical-align: top;\n",
       "    }\n",
       "\n",
       "    .dataframe thead th {\n",
       "        text-align: right;\n",
       "    }\n",
       "</style>\n",
       "<table border=\"1\" class=\"dataframe\">\n",
       "  <thead>\n",
       "    <tr style=\"text-align: right;\">\n",
       "      <th></th>\n",
       "      <th>ticker</th>\n",
       "      <th>time</th>\n",
       "      <th>price</th>\n",
       "      <th>quantity</th>\n",
       "    </tr>\n",
       "  </thead>\n",
       "  <tbody>\n",
       "    <tr>\n",
       "      <th>0</th>\n",
       "      <td>MSFT</td>\n",
       "      <td>2016-05-25 13:30:00.023</td>\n",
       "      <td>51.95</td>\n",
       "      <td>75</td>\n",
       "    </tr>\n",
       "    <tr>\n",
       "      <th>1</th>\n",
       "      <td>MSFT</td>\n",
       "      <td>2016-05-25 13:30:00.038</td>\n",
       "      <td>51.95</td>\n",
       "      <td>155</td>\n",
       "    </tr>\n",
       "    <tr>\n",
       "      <th>2</th>\n",
       "      <td>GOOG</td>\n",
       "      <td>2016-05-25 13:30:00.048</td>\n",
       "      <td>720.77</td>\n",
       "      <td>100</td>\n",
       "    </tr>\n",
       "    <tr>\n",
       "      <th>3</th>\n",
       "      <td>GOOG</td>\n",
       "      <td>2016-05-25 13:30:00.048</td>\n",
       "      <td>720.92</td>\n",
       "      <td>100</td>\n",
       "    </tr>\n",
       "    <tr>\n",
       "      <th>4</th>\n",
       "      <td>AAPL</td>\n",
       "      <td>2016-05-25 13:30:00.048</td>\n",
       "      <td>98.00</td>\n",
       "      <td>100</td>\n",
       "    </tr>\n",
       "  </tbody>\n",
       "</table>\n",
       "</div>"
      ],
      "text/plain": [
       "  ticker                     time   price  quantity\n",
       "0   MSFT  2016-05-25 13:30:00.023   51.95        75\n",
       "1   MSFT  2016-05-25 13:30:00.038   51.95       155\n",
       "2   GOOG  2016-05-25 13:30:00.048  720.77       100\n",
       "3   GOOG  2016-05-25 13:30:00.048  720.92       100\n",
       "4   AAPL  2016-05-25 13:30:00.048   98.00       100"
      ]
     },
     "execution_count": 9,
     "metadata": {},
     "output_type": "execute_result"
    }
   ],
   "source": [
    "trades = pd.read_csv(\"data/stock_trades.csv\")\n",
    "trades"
   ]
  },
  {
   "cell_type": "code",
   "execution_count": 25,
   "id": "f4350094",
   "metadata": {},
   "outputs": [
    {
     "data": {
      "image/svg+xml": [
       "<?xml version=\"1.0\" encoding=\"UTF-8\" standalone=\"no\"?>\n",
       "<!DOCTYPE svg PUBLIC \"-//W3C//DTD SVG 1.1//EN\"\n",
       " \"http://www.w3.org/Graphics/SVG/1.1/DTD/svg11.dtd\">\n",
       "<!-- Generated by graphviz version 2.40.1 (20161225.0304)\n",
       " -->\n",
       "<!-- Title: mlrun&#45;flow Pages: 1 -->\n",
       "<svg width=\"137pt\" height=\"116pt\"\n",
       " viewBox=\"0.00 0.00 136.69 116.00\" xmlns=\"http://www.w3.org/2000/svg\" xmlns:xlink=\"http://www.w3.org/1999/xlink\">\n",
       "<g id=\"graph0\" class=\"graph\" transform=\"scale(1 1) rotate(0) translate(4 112)\">\n",
       "<title>mlrun&#45;flow</title>\n",
       "<polygon fill=\"#ffffff\" stroke=\"transparent\" points=\"-4,4 -4,-112 132.6886,-112 132.6886,4 -4,4\"/>\n",
       "<!-- _start -->\n",
       "<g id=\"node1\" class=\"node\">\n",
       "<title>_start</title>\n",
       "<polygon fill=\"#d3d3d3\" stroke=\"#000000\" points=\"67.5923,-72.0493 69.7428,-72.1479 71.8711,-72.2953 73.9684,-72.4913 76.0262,-72.7353 78.0365,-73.0266 79.9911,-73.3645 81.8824,-73.7479 83.7034,-74.1759 85.4472,-74.6472 87.1076,-75.1606 88.6787,-75.7147 90.1554,-76.308 91.533,-76.9388 92.8073,-77.6054 93.9749,-78.3059 95.0329,-79.0385 95.9791,-79.8012 96.8117,-80.5918 97.5297,-81.4082 98.1326,-82.2481 98.6206,-83.1093 98.9943,-83.9894 99.255,-84.886 99.4043,-85.7965 99.4445,-86.7186 99.3781,-87.6497 99.2083,-88.5873 98.9385,-89.5287 98.5723,-90.4713 98.1138,-91.4127 97.5673,-92.3503 96.9371,-93.2814 96.2279,-94.2035 95.4443,-95.114 94.5912,-96.0106 93.6732,-96.8907 92.6952,-97.7519 91.6618,-98.5918 90.5776,-99.4082 89.4472,-100.1988 88.2747,-100.9615 87.0644,-101.6941 85.8203,-102.3946 84.5459,-103.0612 83.2449,-103.692 81.9205,-104.2853 80.5757,-104.8394 79.2132,-105.3528 77.8355,-105.8241 76.445,-106.2521 75.0437,-106.6355 73.6333,-106.9734 72.2156,-107.2647 70.792,-107.5087 69.3637,-107.7047 67.932,-107.8521 66.4978,-107.9507 65.0623,-108 63.6263,-108 62.1908,-107.9507 60.7566,-107.8521 59.3249,-107.7047 57.8966,-107.5087 56.473,-107.2647 55.0553,-106.9734 53.6449,-106.6355 52.2435,-106.2521 50.853,-105.8241 49.4754,-105.3528 48.1129,-104.8394 46.7681,-104.2853 45.4436,-103.692 44.1426,-103.0612 42.8683,-102.3946 41.6242,-101.6941 40.4139,-100.9615 39.2414,-100.1988 38.111,-99.4082 37.0268,-98.5918 35.9934,-97.7519 35.0154,-96.8907 34.0974,-96.0106 33.2442,-95.114 32.4607,-94.2035 31.7515,-93.2814 31.1213,-92.3503 30.5748,-91.4127 30.1163,-90.4713 29.7501,-89.5287 29.4802,-88.5873 29.3104,-87.6497 29.2441,-86.7186 29.2843,-85.7965 29.4336,-84.886 29.6943,-83.9894 30.068,-83.1093 30.556,-82.2481 31.1589,-81.4082 31.8769,-80.5918 32.7095,-79.8012 33.6556,-79.0385 34.7137,-78.3059 35.8813,-77.6054 37.1556,-76.9388 38.5331,-76.308 40.0098,-75.7147 41.581,-75.1606 43.2413,-74.6472 44.9852,-74.1759 46.8061,-73.7479 48.6975,-73.3645 50.6521,-73.0266 52.6623,-72.7353 54.7202,-72.4913 56.8175,-72.2953 58.9458,-72.1479 61.0962,-72.0493 63.2601,-72 65.4285,-72 67.5923,-72.0493\"/>\n",
       "<text text-anchor=\"middle\" x=\"64.3443\" y=\"-86.3\" font-family=\"Times,serif\" font-size=\"14.00\" fill=\"#000000\">start</text>\n",
       "</g>\n",
       "<!-- Aggregates -->\n",
       "<g id=\"node2\" class=\"node\">\n",
       "<title>Aggregates</title>\n",
       "<ellipse fill=\"none\" stroke=\"#000000\" cx=\"64.3443\" cy=\"-18\" rx=\"64.189\" ry=\"18\"/>\n",
       "<text text-anchor=\"middle\" x=\"64.3443\" y=\"-14.3\" font-family=\"Times,serif\" font-size=\"14.00\" fill=\"#000000\">Aggregates</text>\n",
       "</g>\n",
       "<!-- _start&#45;&gt;Aggregates -->\n",
       "<g id=\"edge1\" class=\"edge\">\n",
       "<title>_start&#45;&gt;Aggregates</title>\n",
       "<path fill=\"none\" stroke=\"#000000\" d=\"M64.3443,-71.8314C64.3443,-64.131 64.3443,-54.9743 64.3443,-46.4166\"/>\n",
       "<polygon fill=\"#000000\" stroke=\"#000000\" points=\"67.8444,-46.4132 64.3443,-36.4133 60.8444,-46.4133 67.8444,-46.4132\"/>\n",
       "</g>\n",
       "</g>\n",
       "</svg>\n"
      ],
      "text/plain": [
       "<graphviz.dot.Digraph at 0x7f336df93ad0>"
      ]
     },
     "execution_count": 25,
     "metadata": {},
     "output_type": "execute_result"
    }
   ],
   "source": [
    "trade_set = fstore.FeatureSet(\n",
    "    name=\"stock-trades-aggregated\",\n",
    "    entities=[fstore.Entity(\"ticker\")],\n",
    "    description=\"Stock trades with aggregations\",\n",
    "    timestamp_key=\"time\",\n",
    "    engine=\"spark\"\n",
    ")\n",
    "\n",
    "trade_set.add_aggregation(column=\"price\", operations=[\"max\", \"avg\"], windows=[\"1m\"], period=\"1m\")\n",
    "\n",
    "trade_set.plot()"
   ]
  },
  {
   "cell_type": "code",
   "execution_count": 26,
   "id": "5f06114f",
   "metadata": {},
   "outputs": [],
   "source": [
    "import pandas as pd\n",
    "from pyspark.sql import SparkSession\n",
    "import pyspark.sql.functions as F"
   ]
  },
  {
   "cell_type": "code",
   "execution_count": 27,
   "id": "9f98b07c",
   "metadata": {},
   "outputs": [],
   "source": [
    "spark = SparkSession.builder.appName(\"Spark function\").getOrCreate()"
   ]
  },
  {
   "cell_type": "code",
   "execution_count": 28,
   "id": "7f4eaf5c",
   "metadata": {},
   "outputs": [],
   "source": [
    "v3io_data_path = \"v3io://users/nick/igz_repos/iguazio-academy/modules/core/7_feature_store/data/stock_trades.csv\""
   ]
  },
  {
   "cell_type": "code",
   "execution_count": 29,
   "id": "198e8df5",
   "metadata": {},
   "outputs": [
    {
     "name": "stdout",
     "output_type": "stream",
     "text": [
      "> 2022-04-28 23:37:05,225 [info] writing to target parquet, spark options {'path': 'v3io://projects/iguazio-academy/FeatureStore/stock-trades-aggregated/parquet/sets/stock-trades-aggregated-latest', 'format': 'parquet'}\n",
      "> 2022-04-28 23:37:07,074 [info] writing to target nosql, spark options {'path': 'v3io://projects/iguazio-academy/FeatureStore/stock-trades-aggregated/nosql/sets/stock-trades-aggregated-latest', 'format': 'io.iguaz.v3io.spark.sql.kv', 'key': 'ticker'}\n"
     ]
    },
    {
     "data": {
      "text/plain": [
       "DataFrame[ticker: string, time: timestamp, price_max_1m: double, price_avg_1m: double, time_window: string]"
      ]
     },
     "execution_count": 29,
     "metadata": {},
     "output_type": "execute_result"
    }
   ],
   "source": [
    "fstore.ingest(featureset=trade_set, source=CSVSource(path=v3io_data_path), spark_context=spark)"
   ]
  },
  {
   "cell_type": "markdown",
   "id": "ba01180c",
   "metadata": {},
   "source": [
    "---"
   ]
  }
 ],
 "metadata": {
  "kernelspec": {
   "display_name": "Python 3",
   "language": "python",
   "name": "python3"
  },
  "language_info": {
   "codemirror_mode": {
    "name": "ipython",
    "version": 3
   },
   "file_extension": ".py",
   "mimetype": "text/x-python",
   "name": "python",
   "nbconvert_exporter": "python",
   "pygments_lexer": "ipython3",
   "version": "3.7.6"
  }
 },
 "nbformat": 4,
 "nbformat_minor": 5
}
