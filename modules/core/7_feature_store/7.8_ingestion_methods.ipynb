{
 "cells": [
  {
   "cell_type": "markdown",
   "id": "213dd57e",
   "metadata": {},
   "source": [
    "# Core 7.8 Feature Store - Ingestion Methods"
   ]
  },
  {
   "cell_type": "markdown",
   "id": "5a70bac1",
   "metadata": {},
   "source": [
    "In this section, we will take a look at the various ways to ingest data including ad-hoc, batch job, and real-time."
   ]
  },
  {
   "cell_type": "markdown",
   "id": "de3d574d",
   "metadata": {},
   "source": [
    "---"
   ]
  },
  {
   "cell_type": "markdown",
   "id": "1f9eb0e3",
   "metadata": {},
   "source": [
    "### References"
   ]
  },
  {
   "cell_type": "markdown",
   "id": "f80d640f",
   "metadata": {},
   "source": [
    "Much of the following content is derived from the official documenation:\n",
    "- [Feature Store: Data ingestion](https://docs.mlrun.org/en/stable/feature-store/feature-store-data-ingestion.html)"
   ]
  },
  {
   "cell_type": "markdown",
   "id": "8e7aed81",
   "metadata": {},
   "source": [
    "---"
   ]
  },
  {
   "cell_type": "markdown",
   "id": "47dc1fe1",
   "metadata": {},
   "source": [
    "### What is an ingestion method?"
   ]
  },
  {
   "cell_type": "markdown",
   "id": "77cb5f43",
   "metadata": {},
   "source": [
    "Up until this point in the `Feature Store` module, all of our data ingestion tasks have been in a notebook. But what if you want to ingest data via a scheduled job? Or in real-time? This is where the different ingestion methods come into play."
   ]
  },
  {
   "cell_type": "markdown",
   "id": "0a05146c",
   "metadata": {},
   "source": [
    "---"
   ]
  },
  {
   "cell_type": "markdown",
   "id": "d8a926e4",
   "metadata": {},
   "source": [
    "### What ingestion methods are supported?"
   ]
  },
  {
   "cell_type": "markdown",
   "id": "2cdcdcc1",
   "metadata": {},
   "source": [
    "At this time, there are three supported ingestion methods:\n",
    "- `Ad-hoc`: In a notebook or script (like we have done up until this point)\n",
    "- `Job`: In a dedicated Kubernetes pod - can be scheduled or started remotely\n",
    "- `Real-Time`: In a real-time endpoint from a source like a Kafka stream or HTTP request\n",
    "\n",
    "All of these ingestion methods are supported by each of the three `engines`. Additionally, each ingestion method supports `transformations` and `aggregations`."
   ]
  },
  {
   "cell_type": "markdown",
   "id": "8a9d60e3",
   "metadata": {},
   "source": [
    "---"
   ]
  },
  {
   "cell_type": "markdown",
   "id": "cc7d21ea",
   "metadata": {},
   "source": [
    "### Setup"
   ]
  },
  {
   "cell_type": "code",
   "execution_count": 1,
   "id": "61c60e98",
   "metadata": {},
   "outputs": [
    {
     "name": "stdout",
     "output_type": "stream",
     "text": [
      "> 2022-04-29 19:53:34,612 [info] loaded project iguazio-academy from MLRun DB\n"
     ]
    },
    {
     "data": {
      "text/html": [
       "<div>\n",
       "<style scoped>\n",
       "    .dataframe tbody tr th:only-of-type {\n",
       "        vertical-align: middle;\n",
       "    }\n",
       "\n",
       "    .dataframe tbody tr th {\n",
       "        vertical-align: top;\n",
       "    }\n",
       "\n",
       "    .dataframe thead th {\n",
       "        text-align: right;\n",
       "    }\n",
       "</style>\n",
       "<table border=\"1\" class=\"dataframe\">\n",
       "  <thead>\n",
       "    <tr style=\"text-align: right;\">\n",
       "      <th></th>\n",
       "      <th>patient_id</th>\n",
       "      <th>age</th>\n",
       "      <th>sex</th>\n",
       "      <th>cp</th>\n",
       "      <th>exang</th>\n",
       "      <th>fbs</th>\n",
       "      <th>slope</th>\n",
       "      <th>thal</th>\n",
       "    </tr>\n",
       "  </thead>\n",
       "  <tbody>\n",
       "    <tr>\n",
       "      <th>0</th>\n",
       "      <td>e443544b-8d9e-4f6c-9623-e24b6139aae0</td>\n",
       "      <td>52</td>\n",
       "      <td>male</td>\n",
       "      <td>typical_angina</td>\n",
       "      <td>no</td>\n",
       "      <td>False</td>\n",
       "      <td>downsloping</td>\n",
       "      <td>normal</td>\n",
       "    </tr>\n",
       "    <tr>\n",
       "      <th>1</th>\n",
       "      <td>8227d3df-16ab-4452-8ea5-99472362d982</td>\n",
       "      <td>53</td>\n",
       "      <td>male</td>\n",
       "      <td>typical_angina</td>\n",
       "      <td>yes</td>\n",
       "      <td>True</td>\n",
       "      <td>upsloping</td>\n",
       "      <td>normal</td>\n",
       "    </tr>\n",
       "    <tr>\n",
       "      <th>2</th>\n",
       "      <td>10c4b4ba-ab40-44de-8aba-6bdb062192c4</td>\n",
       "      <td>70</td>\n",
       "      <td>male</td>\n",
       "      <td>typical_angina</td>\n",
       "      <td>yes</td>\n",
       "      <td>False</td>\n",
       "      <td>upsloping</td>\n",
       "      <td>normal</td>\n",
       "    </tr>\n",
       "    <tr>\n",
       "      <th>3</th>\n",
       "      <td>f0acdc22-7ee6-4817-a671-e136211bc0a6</td>\n",
       "      <td>61</td>\n",
       "      <td>male</td>\n",
       "      <td>typical_angina</td>\n",
       "      <td>no</td>\n",
       "      <td>False</td>\n",
       "      <td>downsloping</td>\n",
       "      <td>normal</td>\n",
       "    </tr>\n",
       "    <tr>\n",
       "      <th>4</th>\n",
       "      <td>2d6b3bca-4841-4618-9a8c-ca902010b009</td>\n",
       "      <td>62</td>\n",
       "      <td>female</td>\n",
       "      <td>typical_angina</td>\n",
       "      <td>no</td>\n",
       "      <td>True</td>\n",
       "      <td>flat</td>\n",
       "      <td>reversable_defect</td>\n",
       "    </tr>\n",
       "  </tbody>\n",
       "</table>\n",
       "</div>"
      ],
      "text/plain": [
       "                             patient_id  age     sex              cp exang  \\\n",
       "0  e443544b-8d9e-4f6c-9623-e24b6139aae0   52    male  typical_angina    no   \n",
       "1  8227d3df-16ab-4452-8ea5-99472362d982   53    male  typical_angina   yes   \n",
       "2  10c4b4ba-ab40-44de-8aba-6bdb062192c4   70    male  typical_angina   yes   \n",
       "3  f0acdc22-7ee6-4817-a671-e136211bc0a6   61    male  typical_angina    no   \n",
       "4  2d6b3bca-4841-4618-9a8c-ca902010b009   62  female  typical_angina    no   \n",
       "\n",
       "     fbs        slope               thal  \n",
       "0  False  downsloping             normal  \n",
       "1   True    upsloping             normal  \n",
       "2  False    upsloping             normal  \n",
       "3  False  downsloping             normal  \n",
       "4   True         flat  reversable_defect  "
      ]
     },
     "execution_count": 1,
     "metadata": {},
     "output_type": "execute_result"
    }
   ],
   "source": [
    "import pandas as pd\n",
    "import mlrun\n",
    "import mlrun.feature_store as fstore\n",
    "from mlrun.datastore.sources import DataFrameSource, CSVSource, HttpSource\n",
    "import requests\n",
    "\n",
    "project = mlrun.get_or_create_project(\"iguazio-academy\", context=\"./\")\n",
    "\n",
    "data = pd.read_csv(\"data/heart_disease_categorical.csv\")\n",
    "\n",
    "data.head()"
   ]
  },
  {
   "cell_type": "markdown",
   "id": "c0e31623",
   "metadata": {},
   "source": [
    "Each of the ingestion methods will use a `Feature Set` with a computation graph, `transformations`, and `aggregations`. For use in each ingestion method, we will first create a `Feature Set`:"
   ]
  },
  {
   "cell_type": "code",
   "execution_count": 2,
   "id": "27d2d761",
   "metadata": {},
   "outputs": [],
   "source": [
    "heart_set = fstore.FeatureSet(\n",
    "    name=\"heart-disease-all\",\n",
    "    entities=[fstore.Entity(\"patient_id\")],\n",
    "    description=\"Heart disease data all columns\",\n",
    "    engine=\"storey\"\n",
    ")"
   ]
  },
  {
   "cell_type": "markdown",
   "id": "ecc5f69c",
   "metadata": {},
   "source": [
    "---"
   ]
  },
  {
   "cell_type": "markdown",
   "id": "6cc83128",
   "metadata": {},
   "source": [
    "### Ad-Hoc Ingestion"
   ]
  },
  {
   "cell_type": "markdown",
   "id": "def1fd67",
   "metadata": {},
   "source": [
    "This is what we have been doing up until this point. For the sake of completion, an example of ad-hoc ingestion is as follows:"
   ]
  },
  {
   "cell_type": "code",
   "execution_count": 3,
   "id": "75baede4",
   "metadata": {},
   "outputs": [
    {
     "name": "stderr",
     "output_type": "stream",
     "text": [
      "Converting input from bool to <class 'numpy.uint8'> for compatibility.\n"
     ]
    },
    {
     "data": {
      "text/html": [
       "<div>\n",
       "<style scoped>\n",
       "    .dataframe tbody tr th:only-of-type {\n",
       "        vertical-align: middle;\n",
       "    }\n",
       "\n",
       "    .dataframe tbody tr th {\n",
       "        vertical-align: top;\n",
       "    }\n",
       "\n",
       "    .dataframe thead th {\n",
       "        text-align: right;\n",
       "    }\n",
       "</style>\n",
       "<table border=\"1\" class=\"dataframe\">\n",
       "  <thead>\n",
       "    <tr style=\"text-align: right;\">\n",
       "      <th></th>\n",
       "      <th>age</th>\n",
       "      <th>sex</th>\n",
       "      <th>cp</th>\n",
       "      <th>exang</th>\n",
       "      <th>fbs</th>\n",
       "      <th>slope</th>\n",
       "      <th>thal</th>\n",
       "    </tr>\n",
       "    <tr>\n",
       "      <th>patient_id</th>\n",
       "      <th></th>\n",
       "      <th></th>\n",
       "      <th></th>\n",
       "      <th></th>\n",
       "      <th></th>\n",
       "      <th></th>\n",
       "      <th></th>\n",
       "    </tr>\n",
       "  </thead>\n",
       "  <tbody>\n",
       "    <tr>\n",
       "      <th>e443544b-8d9e-4f6c-9623-e24b6139aae0</th>\n",
       "      <td>52</td>\n",
       "      <td>male</td>\n",
       "      <td>typical_angina</td>\n",
       "      <td>no</td>\n",
       "      <td>False</td>\n",
       "      <td>downsloping</td>\n",
       "      <td>normal</td>\n",
       "    </tr>\n",
       "    <tr>\n",
       "      <th>8227d3df-16ab-4452-8ea5-99472362d982</th>\n",
       "      <td>53</td>\n",
       "      <td>male</td>\n",
       "      <td>typical_angina</td>\n",
       "      <td>yes</td>\n",
       "      <td>True</td>\n",
       "      <td>upsloping</td>\n",
       "      <td>normal</td>\n",
       "    </tr>\n",
       "    <tr>\n",
       "      <th>10c4b4ba-ab40-44de-8aba-6bdb062192c4</th>\n",
       "      <td>70</td>\n",
       "      <td>male</td>\n",
       "      <td>typical_angina</td>\n",
       "      <td>yes</td>\n",
       "      <td>False</td>\n",
       "      <td>upsloping</td>\n",
       "      <td>normal</td>\n",
       "    </tr>\n",
       "    <tr>\n",
       "      <th>f0acdc22-7ee6-4817-a671-e136211bc0a6</th>\n",
       "      <td>61</td>\n",
       "      <td>male</td>\n",
       "      <td>typical_angina</td>\n",
       "      <td>no</td>\n",
       "      <td>False</td>\n",
       "      <td>downsloping</td>\n",
       "      <td>normal</td>\n",
       "    </tr>\n",
       "    <tr>\n",
       "      <th>2d6b3bca-4841-4618-9a8c-ca902010b009</th>\n",
       "      <td>62</td>\n",
       "      <td>female</td>\n",
       "      <td>typical_angina</td>\n",
       "      <td>no</td>\n",
       "      <td>True</td>\n",
       "      <td>flat</td>\n",
       "      <td>reversable_defect</td>\n",
       "    </tr>\n",
       "    <tr>\n",
       "      <th>...</th>\n",
       "      <td>...</td>\n",
       "      <td>...</td>\n",
       "      <td>...</td>\n",
       "      <td>...</td>\n",
       "      <td>...</td>\n",
       "      <td>...</td>\n",
       "      <td>...</td>\n",
       "    </tr>\n",
       "    <tr>\n",
       "      <th>5d2fc80f-ed64-4e1c-9c95-3baace09118b</th>\n",
       "      <td>59</td>\n",
       "      <td>male</td>\n",
       "      <td>atypical_angina</td>\n",
       "      <td>yes</td>\n",
       "      <td>False</td>\n",
       "      <td>downsloping</td>\n",
       "      <td>reversable_defect</td>\n",
       "    </tr>\n",
       "    <tr>\n",
       "      <th>01548a7e-0f68-4308-80de-cd93fdbfb903</th>\n",
       "      <td>60</td>\n",
       "      <td>male</td>\n",
       "      <td>typical_angina</td>\n",
       "      <td>yes</td>\n",
       "      <td>False</td>\n",
       "      <td>flat</td>\n",
       "      <td>normal</td>\n",
       "    </tr>\n",
       "    <tr>\n",
       "      <th>f8c97cc1-8a3a-4b8e-965c-58e75c2379e6</th>\n",
       "      <td>47</td>\n",
       "      <td>male</td>\n",
       "      <td>typical_angina</td>\n",
       "      <td>yes</td>\n",
       "      <td>False</td>\n",
       "      <td>flat</td>\n",
       "      <td>reversable_defect</td>\n",
       "    </tr>\n",
       "    <tr>\n",
       "      <th>d7fc9e01-b792-44da-88fa-a0057527da3f</th>\n",
       "      <td>50</td>\n",
       "      <td>female</td>\n",
       "      <td>typical_angina</td>\n",
       "      <td>no</td>\n",
       "      <td>False</td>\n",
       "      <td>downsloping</td>\n",
       "      <td>reversable_defect</td>\n",
       "    </tr>\n",
       "    <tr>\n",
       "      <th>8f2a32fc-9424-4bdc-aac1-3c493675fa48</th>\n",
       "      <td>54</td>\n",
       "      <td>male</td>\n",
       "      <td>typical_angina</td>\n",
       "      <td>no</td>\n",
       "      <td>False</td>\n",
       "      <td>flat</td>\n",
       "      <td>normal</td>\n",
       "    </tr>\n",
       "  </tbody>\n",
       "</table>\n",
       "<p>968 rows × 7 columns</p>\n",
       "</div>"
      ],
      "text/plain": [
       "                                      age     sex               cp exang  \\\n",
       "patient_id                                                                 \n",
       "e443544b-8d9e-4f6c-9623-e24b6139aae0   52    male   typical_angina    no   \n",
       "8227d3df-16ab-4452-8ea5-99472362d982   53    male   typical_angina   yes   \n",
       "10c4b4ba-ab40-44de-8aba-6bdb062192c4   70    male   typical_angina   yes   \n",
       "f0acdc22-7ee6-4817-a671-e136211bc0a6   61    male   typical_angina    no   \n",
       "2d6b3bca-4841-4618-9a8c-ca902010b009   62  female   typical_angina    no   \n",
       "...                                   ...     ...              ...   ...   \n",
       "5d2fc80f-ed64-4e1c-9c95-3baace09118b   59    male  atypical_angina   yes   \n",
       "01548a7e-0f68-4308-80de-cd93fdbfb903   60    male   typical_angina   yes   \n",
       "f8c97cc1-8a3a-4b8e-965c-58e75c2379e6   47    male   typical_angina   yes   \n",
       "d7fc9e01-b792-44da-88fa-a0057527da3f   50  female   typical_angina    no   \n",
       "8f2a32fc-9424-4bdc-aac1-3c493675fa48   54    male   typical_angina    no   \n",
       "\n",
       "                                        fbs        slope               thal  \n",
       "patient_id                                                                   \n",
       "e443544b-8d9e-4f6c-9623-e24b6139aae0  False  downsloping             normal  \n",
       "8227d3df-16ab-4452-8ea5-99472362d982   True    upsloping             normal  \n",
       "10c4b4ba-ab40-44de-8aba-6bdb062192c4  False    upsloping             normal  \n",
       "f0acdc22-7ee6-4817-a671-e136211bc0a6  False  downsloping             normal  \n",
       "2d6b3bca-4841-4618-9a8c-ca902010b009   True         flat  reversable_defect  \n",
       "...                                     ...          ...                ...  \n",
       "5d2fc80f-ed64-4e1c-9c95-3baace09118b  False  downsloping  reversable_defect  \n",
       "01548a7e-0f68-4308-80de-cd93fdbfb903  False         flat             normal  \n",
       "f8c97cc1-8a3a-4b8e-965c-58e75c2379e6  False         flat  reversable_defect  \n",
       "d7fc9e01-b792-44da-88fa-a0057527da3f  False  downsloping  reversable_defect  \n",
       "8f2a32fc-9424-4bdc-aac1-3c493675fa48  False         flat             normal  \n",
       "\n",
       "[968 rows x 7 columns]"
      ]
     },
     "execution_count": 3,
     "metadata": {},
     "output_type": "execute_result"
    }
   ],
   "source": [
    "fstore.ingest(featureset=heart_set, source=DataFrameSource(df=data))"
   ]
  },
  {
   "cell_type": "markdown",
   "id": "f2eb43f8",
   "metadata": {},
   "source": [
    "---"
   ]
  },
  {
   "cell_type": "markdown",
   "id": "0197b891",
   "metadata": {},
   "source": [
    "### Job Ingestion"
   ]
  },
  {
   "cell_type": "markdown",
   "id": "9f23d304",
   "metadata": {},
   "source": [
    "Unlike `ad-hoc` ingestion, job ingestion will create a dedicated Kubernetes pod with specified resources to perform the ingestion.\n",
    "\n",
    "The basic mechanism for creating an ingestion job is to create a `RunConfig` that describes things like the Docker image to use and whether or not to mount the local filesystem. An example is as follows:"
   ]
  },
  {
   "cell_type": "code",
   "execution_count": 4,
   "id": "c5e14ca1",
   "metadata": {},
   "outputs": [],
   "source": [
    "config = fstore.RunConfig(image='mlrun/mlrun', kind=\"job\").apply(mlrun.auto_mount())"
   ]
  },
  {
   "cell_type": "markdown",
   "id": "672bb1ca",
   "metadata": {},
   "source": [
    "Then, you would ingest as normal with the addition of the `run_config` parameter. Note that you cannot use the `DataFrameSource` as the Kubernetes pod will not share the same execution environment as your script or notebook."
   ]
  },
  {
   "cell_type": "code",
   "execution_count": 5,
   "id": "98444d97",
   "metadata": {},
   "outputs": [],
   "source": [
    "csv_path = \"/User/igz_repos/iguazio-academy/modules/core/7_feature_store/data/heart_disease_categorical.csv\""
   ]
  },
  {
   "cell_type": "code",
   "execution_count": 6,
   "id": "377f69a3",
   "metadata": {},
   "outputs": [
    {
     "name": "stdout",
     "output_type": "stream",
     "text": [
      "> 2022-04-29 19:53:52,973 [info] starting run heart-disease-all-ingest uid=a57298f28ad04f1a8058cf1291c3d794 DB=http://mlrun-api:8080\n",
      "> 2022-04-29 19:53:53,150 [info] Job is running in the background, pod: heart-disease-all-ingest-x24j5\n",
      "> 2022-04-29 19:53:59,873 [info] starting ingestion task to store://feature-sets/iguazio-academy/heart-disease-all:latest.\n",
      "> 2022-04-29 19:54:03,322 [info] ingestion task completed, targets:\n",
      "> 2022-04-29 19:54:03,322 [info] [{'name': 'parquet', 'kind': 'parquet', 'path': 'v3io:///projects/iguazio-academy/FeatureStore/heart-disease-all/parquet/sets/heart-disease-all-latest', 'status': 'created', 'updated': '2022-04-29T19:54:01.179905+00:00', 'last_written': datetime.datetime(2022, 4, 29, 19, 54, 1, 207429)}, {'name': 'nosql', 'kind': 'nosql', 'path': 'v3io:///projects/iguazio-academy/FeatureStore/heart-disease-all/nosql/sets/heart-disease-all-latest', 'status': 'created', 'updated': '2022-04-29T19:54:01.187824+00:00'}]\n",
      "> 2022-04-29 19:54:03,428 [info] run executed, status=completed\n",
      "Converting input from bool to <class 'numpy.uint8'> for compatibility.\n",
      "final state: completed\n"
     ]
    },
    {
     "data": {
      "text/html": [
       "<style>\n",
       ".dictlist {\n",
       "  background-color: #4EC64B;\n",
       "  text-align: center;\n",
       "  margin: 4px;\n",
       "  border-radius: 3px; padding: 0px 3px 1px 3px; display: inline-block;}\n",
       ".artifact {\n",
       "  cursor: pointer;\n",
       "  background-color: #4EC64B;\n",
       "  text-align: left;\n",
       "  margin: 4px; border-radius: 3px; padding: 0px 3px 1px 3px; display: inline-block;\n",
       "}\n",
       "div.block.hidden {\n",
       "  display: none;\n",
       "}\n",
       ".clickable {\n",
       "  cursor: pointer;\n",
       "}\n",
       ".ellipsis {\n",
       "  display: inline-block;\n",
       "  max-width: 60px;\n",
       "  white-space: nowrap;\n",
       "  overflow: hidden;\n",
       "  text-overflow: ellipsis;\n",
       "}\n",
       ".master-wrapper {\n",
       "  display: flex;\n",
       "  flex-flow: row nowrap;\n",
       "  justify-content: flex-start;\n",
       "  align-items: stretch;\n",
       "}\n",
       ".master-tbl {\n",
       "  flex: 3\n",
       "}\n",
       ".master-wrapper > div {\n",
       "  margin: 4px;\n",
       "  padding: 10px;\n",
       "}\n",
       "iframe.fileview {\n",
       "  border: 0 none;\n",
       "  height: 100%;\n",
       "  width: 100%;\n",
       "  white-space: pre-wrap;\n",
       "}\n",
       ".pane-header-title {\n",
       "  width: 80%;\n",
       "  font-weight: 500;\n",
       "}\n",
       ".pane-header {\n",
       "  line-height: 1;\n",
       "  background-color: #4EC64B;\n",
       "  padding: 3px;\n",
       "}\n",
       ".pane-header .close {\n",
       "  font-size: 20px;\n",
       "  font-weight: 700;\n",
       "  float: right;\n",
       "  margin-top: -5px;\n",
       "}\n",
       ".master-wrapper .right-pane {\n",
       "  border: 1px inset silver;\n",
       "  width: 40%;\n",
       "  min-height: 300px;\n",
       "  flex: 3\n",
       "  min-width: 500px;\n",
       "}\n",
       ".master-wrapper * {\n",
       "  box-sizing: border-box;\n",
       "}\n",
       "</style><script>\n",
       "function copyToClipboard(fld) {\n",
       "    if (document.queryCommandSupported && document.queryCommandSupported('copy')) {\n",
       "        var textarea = document.createElement('textarea');\n",
       "        textarea.textContent = fld.innerHTML;\n",
       "        textarea.style.position = 'fixed';\n",
       "        document.body.appendChild(textarea);\n",
       "        textarea.select();\n",
       "\n",
       "        try {\n",
       "            return document.execCommand('copy'); // Security exception may be thrown by some browsers.\n",
       "        } catch (ex) {\n",
       "\n",
       "        } finally {\n",
       "            document.body.removeChild(textarea);\n",
       "        }\n",
       "    }\n",
       "}\n",
       "function expandPanel(el) {\n",
       "  const panelName = \"#\" + el.getAttribute('paneName');\n",
       "  console.log(el.title);\n",
       "\n",
       "  document.querySelector(panelName + \"-title\").innerHTML = el.title\n",
       "  iframe = document.querySelector(panelName + \"-body\");\n",
       "\n",
       "  const tblcss = `<style> body { font-family: Arial, Helvetica, sans-serif;}\n",
       "    #csv { margin-bottom: 15px; }\n",
       "    #csv table { border-collapse: collapse;}\n",
       "    #csv table td { padding: 4px 8px; border: 1px solid silver;} </style>`;\n",
       "\n",
       "  function csvToHtmlTable(str) {\n",
       "    return '<div id=\"csv\"><table><tr><td>' +  str.replace(/[\\n\\r]+$/g, '').replace(/[\\n\\r]+/g, '</td></tr><tr><td>')\n",
       "      .replace(/,/g, '</td><td>') + '</td></tr></table></div>';\n",
       "  }\n",
       "\n",
       "  function reqListener () {\n",
       "    if (el.title.endsWith(\".csv\")) {\n",
       "      iframe.setAttribute(\"srcdoc\", tblcss + csvToHtmlTable(this.responseText));\n",
       "    } else {\n",
       "      iframe.setAttribute(\"srcdoc\", this.responseText);\n",
       "    }\n",
       "    console.log(this.responseText);\n",
       "  }\n",
       "\n",
       "  const oReq = new XMLHttpRequest();\n",
       "  oReq.addEventListener(\"load\", reqListener);\n",
       "  oReq.open(\"GET\", el.title);\n",
       "  oReq.send();\n",
       "\n",
       "\n",
       "  //iframe.src = el.title;\n",
       "  const resultPane = document.querySelector(panelName + \"-pane\");\n",
       "  if (resultPane.classList.contains(\"hidden\")) {\n",
       "    resultPane.classList.remove(\"hidden\");\n",
       "  }\n",
       "}\n",
       "function closePanel(el) {\n",
       "  const panelName = \"#\" + el.getAttribute('paneName')\n",
       "  const resultPane = document.querySelector(panelName + \"-pane\");\n",
       "  if (!resultPane.classList.contains(\"hidden\")) {\n",
       "    resultPane.classList.add(\"hidden\");\n",
       "  }\n",
       "}\n",
       "\n",
       "</script>\n",
       "<div class=\"master-wrapper\">\n",
       "  <div class=\"block master-tbl\"><div>\n",
       "<style scoped>\n",
       "    .dataframe tbody tr th:only-of-type {\n",
       "        vertical-align: middle;\n",
       "    }\n",
       "\n",
       "    .dataframe tbody tr th {\n",
       "        vertical-align: top;\n",
       "    }\n",
       "\n",
       "    .dataframe thead th {\n",
       "        text-align: right;\n",
       "    }\n",
       "</style>\n",
       "<table border=\"1\" class=\"dataframe\">\n",
       "  <thead>\n",
       "    <tr style=\"text-align: right;\">\n",
       "      <th>project</th>\n",
       "      <th>uid</th>\n",
       "      <th>iter</th>\n",
       "      <th>start</th>\n",
       "      <th>state</th>\n",
       "      <th>name</th>\n",
       "      <th>labels</th>\n",
       "      <th>inputs</th>\n",
       "      <th>parameters</th>\n",
       "      <th>results</th>\n",
       "      <th>artifacts</th>\n",
       "    </tr>\n",
       "  </thead>\n",
       "  <tbody>\n",
       "    <tr>\n",
       "      <td>iguazio-academy</td>\n",
       "      <td><div title=\"a57298f28ad04f1a8058cf1291c3d794\"><a href=\"https://dashboard.default-tenant.app.us-sales-322.iguazio-cd1.com/mlprojects/iguazio-academy/jobs/monitor/a57298f28ad04f1a8058cf1291c3d794/overview\" target=\"_blank\" >...91c3d794</a></div></td>\n",
       "      <td>0</td>\n",
       "      <td>Apr 29 19:53:59</td>\n",
       "      <td>completed</td>\n",
       "      <td>heart-disease-all-ingest</td>\n",
       "      <td><div class=\"dictlist\">job-type=feature-ingest</div><div class=\"dictlist\">feature-set=store://feature-sets/iguazio-academy/heart-disease-all</div><div class=\"dictlist\">v3io_user=nick</div><div class=\"dictlist\">kind=job</div><div class=\"dictlist\">owner=nick</div><div class=\"dictlist\">mlrun/client_version=0.10.0</div><div class=\"dictlist\">host=heart-disease-all-ingest-x24j5</div></td>\n",
       "      <td></td>\n",
       "      <td><div class=\"dictlist\">infer_options=63</div><div class=\"dictlist\">overwrite=None</div><div class=\"dictlist\">featureset=store://feature-sets/iguazio-academy/heart-disease-all</div><div class=\"dictlist\">source={'kind': 'csv', 'name': '', 'path': '/User/igz_repos/iguazio-academy/modules/core/7_feature_store/data/heart_disease_categorical.csv'}</div><div class=\"dictlist\">targets=None</div></td>\n",
       "      <td><div class=\"dictlist\">featureset=store://feature-sets/iguazio-academy/heart-disease-all:latest</div></td>\n",
       "      <td></td>\n",
       "    </tr>\n",
       "  </tbody>\n",
       "</table>\n",
       "</div></div>\n",
       "  <div id=\"result75e38a9f-pane\" class=\"right-pane block hidden\">\n",
       "    <div class=\"pane-header\">\n",
       "      <span id=\"result75e38a9f-title\" class=\"pane-header-title\">Title</span>\n",
       "      <span onclick=\"closePanel(this)\" paneName=\"result75e38a9f\" class=\"close clickable\">&times;</span>\n",
       "    </div>\n",
       "    <iframe class=\"fileview\" id=\"result75e38a9f-body\"></iframe>\n",
       "  </div>\n",
       "</div>\n"
      ],
      "text/plain": [
       "<IPython.core.display.HTML object>"
      ]
     },
     "metadata": {},
     "output_type": "display_data"
    },
    {
     "name": "stdout",
     "output_type": "stream",
     "text": [
      "\n"
     ]
    },
    {
     "data": {
      "text/html": [
       "<b> > to track results use the .show() or .logs() methods  or <a href=\"https://dashboard.default-tenant.app.us-sales-322.iguazio-cd1.com/mlprojects/iguazio-academy/jobs/monitor/a57298f28ad04f1a8058cf1291c3d794/overview\" target=\"_blank\">click here</a> to open in UI</b>"
      ],
      "text/plain": [
       "<IPython.core.display.HTML object>"
      ]
     },
     "metadata": {},
     "output_type": "display_data"
    },
    {
     "name": "stdout",
     "output_type": "stream",
     "text": [
      "> 2022-04-29 19:54:05,798 [info] run executed, status=completed\n"
     ]
    },
    {
     "data": {
      "text/plain": [
       "<mlrun.model.RunObject at 0x7f6f390e3650>"
      ]
     },
     "execution_count": 6,
     "metadata": {},
     "output_type": "execute_result"
    }
   ],
   "source": [
    "fstore.ingest(featureset=heart_set, source=CSVSource(path=csv_path), run_config=config)"
   ]
  },
  {
   "cell_type": "markdown",
   "id": "9b971fe4",
   "metadata": {},
   "source": [
    "You can also add a schedule to the source to perform regular ingestion jobs. This can be done like the following:"
   ]
  },
  {
   "cell_type": "code",
   "execution_count": 7,
   "id": "8e493bd7",
   "metadata": {},
   "outputs": [
    {
     "name": "stdout",
     "output_type": "stream",
     "text": [
      "> 2022-04-29 19:54:09,538 [info] starting run heart-disease-all-ingest uid=fed688d02ffc4b6ab349e7d2b81068e5 DB=http://mlrun-api:8080\n",
      "> 2022-04-29 19:54:09,736 [info] task scheduled, {'schedule': '0 * * * *', 'project': 'iguazio-academy', 'name': 'heart-disease-all-ingest'}\n"
     ]
    }
   ],
   "source": [
    "fstore.ingest(featureset=heart_set, source=CSVSource(path=csv_path, schedule=\"0 * * * *\"), run_config=config)"
   ]
  },
  {
   "cell_type": "markdown",
   "id": "c4f42415",
   "metadata": {},
   "source": [
    "---"
   ]
  },
  {
   "cell_type": "markdown",
   "id": "a2af3fd5",
   "metadata": {},
   "source": [
    "### Real-Time Ingestion"
   ]
  },
  {
   "cell_type": "markdown",
   "id": "cdf58af8",
   "metadata": {},
   "source": [
    "The last (and possibly most exciting) ingestion method is real-time. This will deploy an endpoint where incoming records will be ingested in to the Feature Store in real-time from sources such as Kafka or HTTP.\n",
    "\n",
    "The basic mechanism for creating an ingestion endpoint is to create a `RunConfig` that describes things like the Docker image. An example is as follows:"
   ]
  },
  {
   "cell_type": "code",
   "execution_count": 8,
   "id": "2ae7295d",
   "metadata": {},
   "outputs": [],
   "source": [
    "config = fstore.RunConfig(image='mlrun/mlrun', kind=\"serving\")"
   ]
  },
  {
   "cell_type": "markdown",
   "id": "638f532a",
   "metadata": {},
   "source": [
    "Now, we use the config to deploy a real-time ingestion service with an HTTP source:"
   ]
  },
  {
   "cell_type": "code",
   "execution_count": 9,
   "id": "177c7b34",
   "metadata": {},
   "outputs": [
    {
     "name": "stdout",
     "output_type": "stream",
     "text": [
      "> 2022-04-29 19:54:12,383 [info] Starting remote function deploy\n",
      "2022-04-29 19:54:12  (info) Deploying function\n",
      "2022-04-29 19:54:12  (info) Building\n",
      "2022-04-29 19:54:12  (info) Staging files and preparing base images\n",
      "2022-04-29 19:54:12  (info) Building processor image\n",
      "2022-04-29 19:54:14  (info) Build complete\n",
      "2022-04-29 19:54:19  (info) Function deploy complete\n",
      "> 2022-04-29 19:54:20,178 [info] successfully deployed function: {'internal_invocation_urls': ['nuclio-iguazio-academy-heart-disease-all-ingest.default-tenant.svc.cluster.local:8080'], 'external_invocation_urls': ['iguazio-academy-heart-disease-all-ingest-iguazio-academy.default-tenant.app.us-sales-322.iguazio-cd1.com/']}\n"
     ]
    }
   ],
   "source": [
    "url = fstore.deploy_ingestion_service(featureset=heart_set, source=HttpSource(key_field=\"patient_id\"), run_config=config)"
   ]
  },
  {
   "cell_type": "markdown",
   "id": "c02a1c3c",
   "metadata": {},
   "source": [
    "Then, you can make an HTTP POST request to the endpoint with the record to ingest:"
   ]
  },
  {
   "cell_type": "code",
   "execution_count": 10,
   "id": "386b4134",
   "metadata": {},
   "outputs": [
    {
     "data": {
      "text/plain": [
       "{'patient_id': 'e443544b-8d9e-4f6c-9623-e24b6139aae0',\n",
       " 'age': 52,\n",
       " 'sex': 'male',\n",
       " 'cp': 'typical_angina',\n",
       " 'exang': 'no',\n",
       " 'fbs': False,\n",
       " 'slope': 'downsloping',\n",
       " 'thal': 'normal'}"
      ]
     },
     "execution_count": 10,
     "metadata": {},
     "output_type": "execute_result"
    }
   ],
   "source": [
    "record = data.to_dict(orient=\"records\")[0]\n",
    "record"
   ]
  },
  {
   "cell_type": "code",
   "execution_count": 11,
   "id": "f43ae544",
   "metadata": {},
   "outputs": [
    {
     "data": {
      "text/plain": [
       "{'id': '068692da-96d8-4006-a9f3-e4bfb47c0c74'}"
      ]
     },
     "execution_count": 11,
     "metadata": {},
     "output_type": "execute_result"
    }
   ],
   "source": [
    "resp = requests.post(url=url, json=record)\n",
    "resp.json()"
   ]
  },
  {
   "cell_type": "markdown",
   "id": "beaa6031",
   "metadata": {},
   "source": [
    "---"
   ]
  }
 ],
 "metadata": {
  "kernelspec": {
   "display_name": "Python 3",
   "language": "python",
   "name": "python3"
  },
  "language_info": {
   "codemirror_mode": {
    "name": "ipython",
    "version": 3
   },
   "file_extension": ".py",
   "mimetype": "text/x-python",
   "name": "python",
   "nbconvert_exporter": "python",
   "pygments_lexer": "ipython3",
   "version": "3.7.6"
  }
 },
 "nbformat": 4,
 "nbformat_minor": 5
}
