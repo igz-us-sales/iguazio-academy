{
 "cells": [
  {
   "cell_type": "markdown",
   "id": "7317619e-2b88-40f1-897b-d23ab64800d3",
   "metadata": {},
   "source": [
    "## Module name"
   ]
  },
  {
   "cell_type": "markdown",
   "id": "e5f97867-b284-4c23-aacc-1c011c0b6e2d",
   "metadata": {},
   "source": [
    "Module description. No more than 4  or 5 phrases describing what the module is about. \n",
    "Include, if needed reference to pre-requisities."
   ]
  },
  {
   "cell_type": "markdown",
   "id": "dc06b0f4-eff3-4187-9d8c-bc185108e892",
   "metadata": {},
   "source": [
    "### References"
   ]
  },
  {
   "cell_type": "markdown",
   "id": "6e46a646-abf7-4212-a243-ed34e18c9a5f",
   "metadata": {},
   "source": [
    "Any external links or embeded content.\n",
    "* Links to MLRun documentation (relevant to this module) with an explanation of what to read\n",
    "* Links to a git repo"
   ]
  },
  {
   "cell_type": "markdown",
   "id": "cb35762c-ca8e-4624-ad54-52fbb5089b17",
   "metadata": {},
   "source": [
    "## Introduction video"
   ]
  },
  {
   "cell_type": "markdown",
   "id": "424e4e27-9488-4181-964a-e72e58b88fdd",
   "metadata": {},
   "source": [
    "Can we embeed the video? May a link is less crowded"
   ]
  },
  {
   "cell_type": "markdown",
   "id": "0db4ccda-ce79-44fb-95b9-955bc2db45c1",
   "metadata": {},
   "source": [
    "## Module Setup"
   ]
  },
  {
   "cell_type": "markdown",
   "id": "7a63fb2d-0240-4dad-89e4-96844afb5ba3",
   "metadata": {},
   "source": [
    "Any thing that needs to be done prior to starting the module work"
   ]
  },
  {
   "cell_type": "markdown",
   "id": "5ff8e8b3-00c6-49ea-8c75-5aa325ddec51",
   "metadata": {},
   "source": [
    "## Module Excercise"
   ]
  },
  {
   "cell_type": "code",
   "execution_count": null,
   "id": "2d567684-57d5-4d37-9543-fa4f28f2278e",
   "metadata": {},
   "outputs": [],
   "source": [
    "# Limit to no more than 4 or 5 code cells"
   ]
  },
  {
   "cell_type": "markdown",
   "id": "99f6a916-696d-413a-8ee8-66bd049015e5",
   "metadata": {
    "tags": []
   },
   "source": [
    "link to method/ property description in documentation\n",
    "For example:"
   ]
  },
  {
   "cell_type": "code",
   "execution_count": null,
   "id": "b6037f0e-84af-4cec-952b-e22911b68035",
   "metadata": {},
   "outputs": [],
   "source": [
    "code_to_function(\"nuclio-mover\", kind=\"nuclio\",\n",
    "                            filename=\"mover.py\", image=\"python:3.7\",\n",
    "                            description = \"this function moves files from one system to another\",\n",
    "                            requirements = [\"pandas\"],\n",
    "                            labels = {\"author\": \"me\"})"
   ]
  },
  {
   "cell_type": "markdown",
   "id": "722fab8d-aa63-476e-ae8a-9f1bf926c1fe",
   "metadata": {},
   "source": [
    "Documentaiton links\n",
    "<a href=\"https://docs.mlrun.org/en/latest/api/mlrun.html?highlight=code_to_fnction#mlrun.code_to_function\" newtab=true>Code to function documentation</a>"
   ]
  },
  {
   "cell_type": "code",
   "execution_count": null,
   "id": "c7cdaa84-cccb-4f1b-8e41-1d62c6e60203",
   "metadata": {},
   "outputs": [],
   "source": []
  }
 ],
 "metadata": {
  "kernelspec": {
   "display_name": "Python 3 (ipykernel)",
   "language": "python",
   "name": "python3"
  },
  "language_info": {
   "codemirror_mode": {
    "name": "ipython",
    "version": 3
   },
   "file_extension": ".py",
   "mimetype": "text/x-python",
   "name": "python",
   "nbconvert_exporter": "python",
   "pygments_lexer": "ipython3",
   "version": "3.9.10"
  }
 },
 "nbformat": 4,
 "nbformat_minor": 5
}
